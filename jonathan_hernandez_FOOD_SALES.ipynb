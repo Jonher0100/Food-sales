{
  "nbformat": 4,
  "nbformat_minor": 0,
  "metadata": {
    "colab": {
      "provenance": []
    },
    "kernelspec": {
      "name": "python3",
      "display_name": "Python 3"
    },
    "language_info": {
      "name": "python"
    }
  },
  "cells": [
    {
      "cell_type": "markdown",
      "source": [
        "#Food Sales\n",
        "\n",
        "by: Jonathan Hernandez\n",
        "\n",
        "\n",
        "\n"
      ],
      "metadata": {
        "id": "5V_yXcXnPDO_"
      }
    },
    {
      "cell_type": "markdown",
      "source": [
        "# *Loading* Data "
      ],
      "metadata": {
        "id": "JcnWKuRxPrNT"
      }
    },
    {
      "cell_type": "code",
      "source": [
        "import pandas as pd\n",
        "import numpy as np\n",
        "import matplotlib.pyplot as plt\n",
        "import seaborn as sns\n",
        "from pandas.plotting import scatter_matrix\n",
        "from matplotlib.ticker import FuncFormatter\n",
        "from sklearn.preprocessing import StandardScaler, OneHotEncoder, OrdinalEncoder\n",
        "from sklearn.impute import SimpleImputer\n",
        "from sklearn.compose import make_column_transformer, make_column_selector\n",
        "from sklearn.pipeline import make_pipeline\n",
        "from sklearn.model_selection import train_test_split\n",
        "from sklearn import set_config\n",
        "set_config(display='diagram')\n",
        "from sklearn.linear_model import LinearRegression\n",
        "from sklearn.metrics import mean_squared_error, r2_score\n",
        "from sklearn.ensemble import RandomForestRegressor\n",
        "from sklearn.tree import DecisionTreeRegressor\n",
        "filename = '/content/drive/MyDrive/Copy of sales_predictions - sales_predictions.csv'"
      ],
      "metadata": {
        "id": "sOxNT5NxPz2W"
      },
      "execution_count": 91,
      "outputs": []
    },
    {
      "cell_type": "code",
      "source": [
        "## Create a function to take the true and predicted values\n",
        "## and print MAE, MSE, RMSE, and R2 metrics for a model\n",
        "def eval_regression(y_true, y_pred, name='model'):\n",
        "  \"\"\"Takes true targets and predictions from a regression model and prints\n",
        "  MAE, MSE, RMSE, AND R2 scores\n",
        "  Set 'name' to name of model and 'train' or 'test' as appropriate\"\"\"\n",
        "  mae = mean_absolute_error(y_true, y_pred)\n",
        "  mse = mean_squared_error(y_true, y_pred)\n",
        "  rmse = np.sqrt(mse)\n",
        "  r2 = r2_score(y_true, y_pred)\n",
        "\n",
        "  print(f'{name} Scores')\n",
        "  print(f'MAE: {mae:,.4f} \\nMSE: {mse:,.4f} \\nRMSE: {rmse:,.4f} \\nR2: {r2:.4f}\\n')"
      ],
      "metadata": {
        "id": "zaODR02e8A72"
      },
      "execution_count": 93,
      "outputs": []
    },
    {
      "cell_type": "code",
      "source": [
        "df = pd.read_csv(filename)\n",
        "df.info()\n",
        "df.head()"
      ],
      "metadata": {
        "colab": {
          "base_uri": "https://localhost:8080/",
          "height": 686
        },
        "id": "6sYbVw579Woz",
        "outputId": "09c1f64c-29b8-46f3-84c8-14dd30bc90f1"
      },
      "execution_count": 2,
      "outputs": [
        {
          "output_type": "stream",
          "name": "stdout",
          "text": [
            "<class 'pandas.core.frame.DataFrame'>\n",
            "RangeIndex: 8523 entries, 0 to 8522\n",
            "Data columns (total 12 columns):\n",
            " #   Column                     Non-Null Count  Dtype  \n",
            "---  ------                     --------------  -----  \n",
            " 0   Item_Identifier            8523 non-null   object \n",
            " 1   Item_Weight                7060 non-null   float64\n",
            " 2   Item_Fat_Content           8523 non-null   object \n",
            " 3   Item_Visibility            8523 non-null   float64\n",
            " 4   Item_Type                  8523 non-null   object \n",
            " 5   Item_MRP                   8523 non-null   float64\n",
            " 6   Outlet_Identifier          8523 non-null   object \n",
            " 7   Outlet_Establishment_Year  8523 non-null   int64  \n",
            " 8   Outlet_Size                6113 non-null   object \n",
            " 9   Outlet_Location_Type       8523 non-null   object \n",
            " 10  Outlet_Type                8523 non-null   object \n",
            " 11  Item_Outlet_Sales          8523 non-null   float64\n",
            "dtypes: float64(4), int64(1), object(7)\n",
            "memory usage: 799.2+ KB\n"
          ]
        },
        {
          "output_type": "execute_result",
          "data": {
            "text/plain": [
              "  Item_Identifier  Item_Weight Item_Fat_Content  Item_Visibility  \\\n",
              "0           FDA15         9.30          Low Fat         0.016047   \n",
              "1           DRC01         5.92          Regular         0.019278   \n",
              "2           FDN15        17.50          Low Fat         0.016760   \n",
              "3           FDX07        19.20          Regular         0.000000   \n",
              "4           NCD19         8.93          Low Fat         0.000000   \n",
              "\n",
              "               Item_Type  Item_MRP Outlet_Identifier  \\\n",
              "0                  Dairy  249.8092            OUT049   \n",
              "1            Soft Drinks   48.2692            OUT018   \n",
              "2                   Meat  141.6180            OUT049   \n",
              "3  Fruits and Vegetables  182.0950            OUT010   \n",
              "4              Household   53.8614            OUT013   \n",
              "\n",
              "   Outlet_Establishment_Year Outlet_Size Outlet_Location_Type  \\\n",
              "0                       1999      Medium               Tier 1   \n",
              "1                       2009      Medium               Tier 3   \n",
              "2                       1999      Medium               Tier 1   \n",
              "3                       1998         NaN               Tier 3   \n",
              "4                       1987        High               Tier 3   \n",
              "\n",
              "         Outlet_Type  Item_Outlet_Sales  \n",
              "0  Supermarket Type1          3735.1380  \n",
              "1  Supermarket Type2           443.4228  \n",
              "2  Supermarket Type1          2097.2700  \n",
              "3      Grocery Store           732.3800  \n",
              "4  Supermarket Type1           994.7052  "
            ],
            "text/html": [
              "\n",
              "  <div id=\"df-1bfef096-053e-4e17-bed5-6bba84b276b2\">\n",
              "    <div class=\"colab-df-container\">\n",
              "      <div>\n",
              "<style scoped>\n",
              "    .dataframe tbody tr th:only-of-type {\n",
              "        vertical-align: middle;\n",
              "    }\n",
              "\n",
              "    .dataframe tbody tr th {\n",
              "        vertical-align: top;\n",
              "    }\n",
              "\n",
              "    .dataframe thead th {\n",
              "        text-align: right;\n",
              "    }\n",
              "</style>\n",
              "<table border=\"1\" class=\"dataframe\">\n",
              "  <thead>\n",
              "    <tr style=\"text-align: right;\">\n",
              "      <th></th>\n",
              "      <th>Item_Identifier</th>\n",
              "      <th>Item_Weight</th>\n",
              "      <th>Item_Fat_Content</th>\n",
              "      <th>Item_Visibility</th>\n",
              "      <th>Item_Type</th>\n",
              "      <th>Item_MRP</th>\n",
              "      <th>Outlet_Identifier</th>\n",
              "      <th>Outlet_Establishment_Year</th>\n",
              "      <th>Outlet_Size</th>\n",
              "      <th>Outlet_Location_Type</th>\n",
              "      <th>Outlet_Type</th>\n",
              "      <th>Item_Outlet_Sales</th>\n",
              "    </tr>\n",
              "  </thead>\n",
              "  <tbody>\n",
              "    <tr>\n",
              "      <th>0</th>\n",
              "      <td>FDA15</td>\n",
              "      <td>9.30</td>\n",
              "      <td>Low Fat</td>\n",
              "      <td>0.016047</td>\n",
              "      <td>Dairy</td>\n",
              "      <td>249.8092</td>\n",
              "      <td>OUT049</td>\n",
              "      <td>1999</td>\n",
              "      <td>Medium</td>\n",
              "      <td>Tier 1</td>\n",
              "      <td>Supermarket Type1</td>\n",
              "      <td>3735.1380</td>\n",
              "    </tr>\n",
              "    <tr>\n",
              "      <th>1</th>\n",
              "      <td>DRC01</td>\n",
              "      <td>5.92</td>\n",
              "      <td>Regular</td>\n",
              "      <td>0.019278</td>\n",
              "      <td>Soft Drinks</td>\n",
              "      <td>48.2692</td>\n",
              "      <td>OUT018</td>\n",
              "      <td>2009</td>\n",
              "      <td>Medium</td>\n",
              "      <td>Tier 3</td>\n",
              "      <td>Supermarket Type2</td>\n",
              "      <td>443.4228</td>\n",
              "    </tr>\n",
              "    <tr>\n",
              "      <th>2</th>\n",
              "      <td>FDN15</td>\n",
              "      <td>17.50</td>\n",
              "      <td>Low Fat</td>\n",
              "      <td>0.016760</td>\n",
              "      <td>Meat</td>\n",
              "      <td>141.6180</td>\n",
              "      <td>OUT049</td>\n",
              "      <td>1999</td>\n",
              "      <td>Medium</td>\n",
              "      <td>Tier 1</td>\n",
              "      <td>Supermarket Type1</td>\n",
              "      <td>2097.2700</td>\n",
              "    </tr>\n",
              "    <tr>\n",
              "      <th>3</th>\n",
              "      <td>FDX07</td>\n",
              "      <td>19.20</td>\n",
              "      <td>Regular</td>\n",
              "      <td>0.000000</td>\n",
              "      <td>Fruits and Vegetables</td>\n",
              "      <td>182.0950</td>\n",
              "      <td>OUT010</td>\n",
              "      <td>1998</td>\n",
              "      <td>NaN</td>\n",
              "      <td>Tier 3</td>\n",
              "      <td>Grocery Store</td>\n",
              "      <td>732.3800</td>\n",
              "    </tr>\n",
              "    <tr>\n",
              "      <th>4</th>\n",
              "      <td>NCD19</td>\n",
              "      <td>8.93</td>\n",
              "      <td>Low Fat</td>\n",
              "      <td>0.000000</td>\n",
              "      <td>Household</td>\n",
              "      <td>53.8614</td>\n",
              "      <td>OUT013</td>\n",
              "      <td>1987</td>\n",
              "      <td>High</td>\n",
              "      <td>Tier 3</td>\n",
              "      <td>Supermarket Type1</td>\n",
              "      <td>994.7052</td>\n",
              "    </tr>\n",
              "  </tbody>\n",
              "</table>\n",
              "</div>\n",
              "      <button class=\"colab-df-convert\" onclick=\"convertToInteractive('df-1bfef096-053e-4e17-bed5-6bba84b276b2')\"\n",
              "              title=\"Convert this dataframe to an interactive table.\"\n",
              "              style=\"display:none;\">\n",
              "        \n",
              "  <svg xmlns=\"http://www.w3.org/2000/svg\" height=\"24px\"viewBox=\"0 0 24 24\"\n",
              "       width=\"24px\">\n",
              "    <path d=\"M0 0h24v24H0V0z\" fill=\"none\"/>\n",
              "    <path d=\"M18.56 5.44l.94 2.06.94-2.06 2.06-.94-2.06-.94-.94-2.06-.94 2.06-2.06.94zm-11 1L8.5 8.5l.94-2.06 2.06-.94-2.06-.94L8.5 2.5l-.94 2.06-2.06.94zm10 10l.94 2.06.94-2.06 2.06-.94-2.06-.94-.94-2.06-.94 2.06-2.06.94z\"/><path d=\"M17.41 7.96l-1.37-1.37c-.4-.4-.92-.59-1.43-.59-.52 0-1.04.2-1.43.59L10.3 9.45l-7.72 7.72c-.78.78-.78 2.05 0 2.83L4 21.41c.39.39.9.59 1.41.59.51 0 1.02-.2 1.41-.59l7.78-7.78 2.81-2.81c.8-.78.8-2.07 0-2.86zM5.41 20L4 18.59l7.72-7.72 1.47 1.35L5.41 20z\"/>\n",
              "  </svg>\n",
              "      </button>\n",
              "      \n",
              "  <style>\n",
              "    .colab-df-container {\n",
              "      display:flex;\n",
              "      flex-wrap:wrap;\n",
              "      gap: 12px;\n",
              "    }\n",
              "\n",
              "    .colab-df-convert {\n",
              "      background-color: #E8F0FE;\n",
              "      border: none;\n",
              "      border-radius: 50%;\n",
              "      cursor: pointer;\n",
              "      display: none;\n",
              "      fill: #1967D2;\n",
              "      height: 32px;\n",
              "      padding: 0 0 0 0;\n",
              "      width: 32px;\n",
              "    }\n",
              "\n",
              "    .colab-df-convert:hover {\n",
              "      background-color: #E2EBFA;\n",
              "      box-shadow: 0px 1px 2px rgba(60, 64, 67, 0.3), 0px 1px 3px 1px rgba(60, 64, 67, 0.15);\n",
              "      fill: #174EA6;\n",
              "    }\n",
              "\n",
              "    [theme=dark] .colab-df-convert {\n",
              "      background-color: #3B4455;\n",
              "      fill: #D2E3FC;\n",
              "    }\n",
              "\n",
              "    [theme=dark] .colab-df-convert:hover {\n",
              "      background-color: #434B5C;\n",
              "      box-shadow: 0px 1px 3px 1px rgba(0, 0, 0, 0.15);\n",
              "      filter: drop-shadow(0px 1px 2px rgba(0, 0, 0, 0.3));\n",
              "      fill: #FFFFFF;\n",
              "    }\n",
              "  </style>\n",
              "\n",
              "      <script>\n",
              "        const buttonEl =\n",
              "          document.querySelector('#df-1bfef096-053e-4e17-bed5-6bba84b276b2 button.colab-df-convert');\n",
              "        buttonEl.style.display =\n",
              "          google.colab.kernel.accessAllowed ? 'block' : 'none';\n",
              "\n",
              "        async function convertToInteractive(key) {\n",
              "          const element = document.querySelector('#df-1bfef096-053e-4e17-bed5-6bba84b276b2');\n",
              "          const dataTable =\n",
              "            await google.colab.kernel.invokeFunction('convertToInteractive',\n",
              "                                                     [key], {});\n",
              "          if (!dataTable) return;\n",
              "\n",
              "          const docLinkHtml = 'Like what you see? Visit the ' +\n",
              "            '<a target=\"_blank\" href=https://colab.research.google.com/notebooks/data_table.ipynb>data table notebook</a>'\n",
              "            + ' to learn more about interactive tables.';\n",
              "          element.innerHTML = '';\n",
              "          dataTable['output_type'] = 'display_data';\n",
              "          await google.colab.output.renderOutput(dataTable, element);\n",
              "          const docLink = document.createElement('div');\n",
              "          docLink.innerHTML = docLinkHtml;\n",
              "          element.appendChild(docLink);\n",
              "        }\n",
              "      </script>\n",
              "    </div>\n",
              "  </div>\n",
              "  "
            ]
          },
          "metadata": {},
          "execution_count": 2
        }
      ]
    },
    {
      "cell_type": "markdown",
      "source": [
        "## Data Dictionary\n",
        "\n",
        "![image.png](data:image/png;base64,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)"
      ],
      "metadata": {
        "id": "OfwesKi_NCoW"
      }
    },
    {
      "cell_type": "markdown",
      "source": [
        "# Data Cleaning"
      ],
      "metadata": {
        "id": "R4FNYvjR-PK3"
      }
    },
    {
      "cell_type": "markdown",
      "source": [
        "How many rows and columns?"
      ],
      "metadata": {
        "id": "5C4AYbXjL7bs"
      }
    },
    {
      "cell_type": "code",
      "source": [
        "df.shape"
      ],
      "metadata": {
        "colab": {
          "base_uri": "https://localhost:8080/"
        },
        "id": "vh8TnifJ-TYq",
        "outputId": "49d6c8b2-8e87-4718-d5a7-191276453383"
      },
      "execution_count": 3,
      "outputs": [
        {
          "output_type": "execute_result",
          "data": {
            "text/plain": [
              "(8523, 12)"
            ]
          },
          "metadata": {},
          "execution_count": 3
        }
      ]
    },
    {
      "cell_type": "markdown",
      "source": [
        "What are the datatypes of each variable?"
      ],
      "metadata": {
        "id": "FirM6yeeMEo8"
      }
    },
    {
      "cell_type": "code",
      "source": [
        "df.dtypes"
      ],
      "metadata": {
        "colab": {
          "base_uri": "https://localhost:8080/"
        },
        "id": "RIwx3u6dMEUH",
        "outputId": "ac115de9-82af-4c95-bb75-b6216a4fbc96"
      },
      "execution_count": 4,
      "outputs": [
        {
          "output_type": "execute_result",
          "data": {
            "text/plain": [
              "Item_Identifier               object\n",
              "Item_Weight                  float64\n",
              "Item_Fat_Content              object\n",
              "Item_Visibility              float64\n",
              "Item_Type                     object\n",
              "Item_MRP                     float64\n",
              "Outlet_Identifier             object\n",
              "Outlet_Establishment_Year      int64\n",
              "Outlet_Size                   object\n",
              "Outlet_Location_Type          object\n",
              "Outlet_Type                   object\n",
              "Item_Outlet_Sales            float64\n",
              "dtype: object"
            ]
          },
          "metadata": {},
          "execution_count": 4
        }
      ]
    },
    {
      "cell_type": "markdown",
      "source": [
        "Are there any duplicates? If so, drop any duplicates."
      ],
      "metadata": {
        "id": "u8-rEMCGNL5l"
      }
    },
    {
      "cell_type": "code",
      "source": [
        "dupli = df.duplicated().sum()\n",
        "print(f\"There are {dupli} duplicates in the dataset.\")"
      ],
      "metadata": {
        "colab": {
          "base_uri": "https://localhost:8080/"
        },
        "id": "WsLAMFZgNarU",
        "outputId": "1c0db7b9-8b8d-4799-e4dc-8f09f369ecd7"
      },
      "execution_count": 5,
      "outputs": [
        {
          "output_type": "stream",
          "name": "stdout",
          "text": [
            "There are 0 duplicates in the dataset.\n"
          ]
        }
      ]
    },
    {
      "cell_type": "markdown",
      "source": [
        "Identify missing values."
      ],
      "metadata": {
        "id": "UpLrbUdosLwF"
      }
    },
    {
      "cell_type": "code",
      "source": [
        "miss_val = df.isna().sum()\n",
        "miss_val"
      ],
      "metadata": {
        "colab": {
          "base_uri": "https://localhost:8080/"
        },
        "id": "wpR6jmzRsXpP",
        "outputId": "60cda5c1-ff19-4b9a-b57e-c69404ca410b"
      },
      "execution_count": 6,
      "outputs": [
        {
          "output_type": "execute_result",
          "data": {
            "text/plain": [
              "Item_Identifier                 0\n",
              "Item_Weight                  1463\n",
              "Item_Fat_Content                0\n",
              "Item_Visibility                 0\n",
              "Item_Type                       0\n",
              "Item_MRP                        0\n",
              "Outlet_Identifier               0\n",
              "Outlet_Establishment_Year       0\n",
              "Outlet_Size                  2410\n",
              "Outlet_Location_Type            0\n",
              "Outlet_Type                     0\n",
              "Item_Outlet_Sales               0\n",
              "dtype: int64"
            ]
          },
          "metadata": {},
          "execution_count": 6
        }
      ]
    },
    {
      "cell_type": "markdown",
      "source": [
        "Percentage of missing values."
      ],
      "metadata": {
        "id": "gKa7nveesraP"
      }
    },
    {
      "cell_type": "code",
      "source": [
        "# Calculating the percentage of missing values in Item Weight\n",
        "missing_item_weight = miss_val.loc[\"Item_Weight\"]\n",
        "miss_percent_weight = (((missing_item_weight) / (df.shape[0])*100)).round(2)\n",
        "print(f\"There are {missing_item_weight} missing values in the Item_Weight column, represents {miss_percent_weight}% of missing values.\") "
      ],
      "metadata": {
        "colab": {
          "base_uri": "https://localhost:8080/"
        },
        "id": "BK3dgUC1u4UK",
        "outputId": "a15016a0-1533-42a0-d399-21bf7528ea2f"
      },
      "execution_count": 7,
      "outputs": [
        {
          "output_type": "stream",
          "name": "stdout",
          "text": [
            "There are 1463 missing values in the Item_Weight column, represents 17.17% of missing values.\n"
          ]
        }
      ]
    },
    {
      "cell_type": "code",
      "source": [
        "# Calculating the percentage of missing values in Outlet Size\n",
        "missing_outlet_size = miss_val.loc['Outlet_Size']\n",
        "missing_outlet_percentage = (((missing_outlet_size) / (df.shape[0])*100)).round(2)\n",
        "print(f\"There are {missing_outlet_size} missing values in the Item_Weight column, represents {missing_outlet_percentage}% of missing values.\")"
      ],
      "metadata": {
        "colab": {
          "base_uri": "https://localhost:8080/"
        },
        "id": "yLA1q7u4Vy9T",
        "outputId": "11af3784-3940-48dd-e5f2-d45d9757e14c"
      },
      "execution_count": 8,
      "outputs": [
        {
          "output_type": "stream",
          "name": "stdout",
          "text": [
            "There are 2410 missing values in the Item_Weight column, represents 28.28% of missing values.\n"
          ]
        }
      ]
    },
    {
      "cell_type": "markdown",
      "source": [
        "-Missing values are under 50% so I will not delete any.\n",
        "\n",
        "-I will not delete any rows as well since there would be around 2 missing.\n",
        "\n",
        "-Imputate missing values for both columns.\n",
        "\n",
        "First Item Weight\n"
      ],
      "metadata": {
        "id": "1UlK0oJqzswj"
      }
    },
    {
      "cell_type": "code",
      "source": [
        "#Item_Weight missing values\n",
        "#loop through all rows in df\n",
        "for index in df.index: \n",
        "\n",
        "#Only filter for items that Item_Idenitifer matches the currect row\n",
        " item_id_filter = df['Item_Identifier'] == df.loc[index, 'Item_Identifier']\n",
        "\n",
        "#find the mean\n",
        " item_weight_mean = df.loc[item_id_filter, 'Item_Weight'].mean()\n",
        "\n",
        "#Make the mean equal the Item Weight column\n",
        " df.loc[index, 'Item_Weight'] = item_weight_mean"
      ],
      "metadata": {
        "id": "aAPzL6pb9QED"
      },
      "execution_count": 9,
      "outputs": []
    },
    {
      "cell_type": "code",
      "source": [
        "#check for impute\n",
        "df.isna().sum()['Item_Weight']"
      ],
      "metadata": {
        "colab": {
          "base_uri": "https://localhost:8080/"
        },
        "id": "Xx-1zqPLO-wp",
        "outputId": "abf7ae74-ed08-4f5b-a12a-f0d6ef23c178"
      },
      "execution_count": 10,
      "outputs": [
        {
          "output_type": "execute_result",
          "data": {
            "text/plain": [
              "4"
            ]
          },
          "metadata": {},
          "execution_count": 10
        }
      ]
    },
    {
      "cell_type": "code",
      "source": [
        "#What are the remaining missing items in Item Weight\n",
        "filter_df = df[df['Item_Weight'].isna()]\n",
        "filter_df"
      ],
      "metadata": {
        "colab": {
          "base_uri": "https://localhost:8080/",
          "height": 308
        },
        "id": "tLxHW3nhUgzb",
        "outputId": "5bc8ac74-859e-4a99-d285-f83ad30ca741"
      },
      "execution_count": 11,
      "outputs": [
        {
          "output_type": "execute_result",
          "data": {
            "text/plain": [
              "     Item_Identifier  Item_Weight Item_Fat_Content  Item_Visibility  \\\n",
              "927            FDN52          NaN          Regular         0.130933   \n",
              "1922           FDK57          NaN          Low Fat         0.079904   \n",
              "4187           FDE52          NaN          Regular         0.029742   \n",
              "5022           FDQ60          NaN          Regular         0.191501   \n",
              "\n",
              "         Item_Type  Item_MRP Outlet_Identifier  Outlet_Establishment_Year  \\\n",
              "927   Frozen Foods   86.9198            OUT027                       1985   \n",
              "1922   Snack Foods  120.0440            OUT027                       1985   \n",
              "4187         Dairy   88.9514            OUT027                       1985   \n",
              "5022  Baking Goods  121.2098            OUT019                       1985   \n",
              "\n",
              "     Outlet_Size Outlet_Location_Type        Outlet_Type  Item_Outlet_Sales  \n",
              "927       Medium               Tier 3  Supermarket Type3          1569.9564  \n",
              "1922      Medium               Tier 3  Supermarket Type3          4434.2280  \n",
              "4187      Medium               Tier 3  Supermarket Type3          3453.5046  \n",
              "5022       Small               Tier 1      Grocery Store           120.5098  "
            ],
            "text/html": [
              "\n",
              "  <div id=\"df-ef50a1da-df38-4216-aea8-32c1886d5513\">\n",
              "    <div class=\"colab-df-container\">\n",
              "      <div>\n",
              "<style scoped>\n",
              "    .dataframe tbody tr th:only-of-type {\n",
              "        vertical-align: middle;\n",
              "    }\n",
              "\n",
              "    .dataframe tbody tr th {\n",
              "        vertical-align: top;\n",
              "    }\n",
              "\n",
              "    .dataframe thead th {\n",
              "        text-align: right;\n",
              "    }\n",
              "</style>\n",
              "<table border=\"1\" class=\"dataframe\">\n",
              "  <thead>\n",
              "    <tr style=\"text-align: right;\">\n",
              "      <th></th>\n",
              "      <th>Item_Identifier</th>\n",
              "      <th>Item_Weight</th>\n",
              "      <th>Item_Fat_Content</th>\n",
              "      <th>Item_Visibility</th>\n",
              "      <th>Item_Type</th>\n",
              "      <th>Item_MRP</th>\n",
              "      <th>Outlet_Identifier</th>\n",
              "      <th>Outlet_Establishment_Year</th>\n",
              "      <th>Outlet_Size</th>\n",
              "      <th>Outlet_Location_Type</th>\n",
              "      <th>Outlet_Type</th>\n",
              "      <th>Item_Outlet_Sales</th>\n",
              "    </tr>\n",
              "  </thead>\n",
              "  <tbody>\n",
              "    <tr>\n",
              "      <th>927</th>\n",
              "      <td>FDN52</td>\n",
              "      <td>NaN</td>\n",
              "      <td>Regular</td>\n",
              "      <td>0.130933</td>\n",
              "      <td>Frozen Foods</td>\n",
              "      <td>86.9198</td>\n",
              "      <td>OUT027</td>\n",
              "      <td>1985</td>\n",
              "      <td>Medium</td>\n",
              "      <td>Tier 3</td>\n",
              "      <td>Supermarket Type3</td>\n",
              "      <td>1569.9564</td>\n",
              "    </tr>\n",
              "    <tr>\n",
              "      <th>1922</th>\n",
              "      <td>FDK57</td>\n",
              "      <td>NaN</td>\n",
              "      <td>Low Fat</td>\n",
              "      <td>0.079904</td>\n",
              "      <td>Snack Foods</td>\n",
              "      <td>120.0440</td>\n",
              "      <td>OUT027</td>\n",
              "      <td>1985</td>\n",
              "      <td>Medium</td>\n",
              "      <td>Tier 3</td>\n",
              "      <td>Supermarket Type3</td>\n",
              "      <td>4434.2280</td>\n",
              "    </tr>\n",
              "    <tr>\n",
              "      <th>4187</th>\n",
              "      <td>FDE52</td>\n",
              "      <td>NaN</td>\n",
              "      <td>Regular</td>\n",
              "      <td>0.029742</td>\n",
              "      <td>Dairy</td>\n",
              "      <td>88.9514</td>\n",
              "      <td>OUT027</td>\n",
              "      <td>1985</td>\n",
              "      <td>Medium</td>\n",
              "      <td>Tier 3</td>\n",
              "      <td>Supermarket Type3</td>\n",
              "      <td>3453.5046</td>\n",
              "    </tr>\n",
              "    <tr>\n",
              "      <th>5022</th>\n",
              "      <td>FDQ60</td>\n",
              "      <td>NaN</td>\n",
              "      <td>Regular</td>\n",
              "      <td>0.191501</td>\n",
              "      <td>Baking Goods</td>\n",
              "      <td>121.2098</td>\n",
              "      <td>OUT019</td>\n",
              "      <td>1985</td>\n",
              "      <td>Small</td>\n",
              "      <td>Tier 1</td>\n",
              "      <td>Grocery Store</td>\n",
              "      <td>120.5098</td>\n",
              "    </tr>\n",
              "  </tbody>\n",
              "</table>\n",
              "</div>\n",
              "      <button class=\"colab-df-convert\" onclick=\"convertToInteractive('df-ef50a1da-df38-4216-aea8-32c1886d5513')\"\n",
              "              title=\"Convert this dataframe to an interactive table.\"\n",
              "              style=\"display:none;\">\n",
              "        \n",
              "  <svg xmlns=\"http://www.w3.org/2000/svg\" height=\"24px\"viewBox=\"0 0 24 24\"\n",
              "       width=\"24px\">\n",
              "    <path d=\"M0 0h24v24H0V0z\" fill=\"none\"/>\n",
              "    <path d=\"M18.56 5.44l.94 2.06.94-2.06 2.06-.94-2.06-.94-.94-2.06-.94 2.06-2.06.94zm-11 1L8.5 8.5l.94-2.06 2.06-.94-2.06-.94L8.5 2.5l-.94 2.06-2.06.94zm10 10l.94 2.06.94-2.06 2.06-.94-2.06-.94-.94-2.06-.94 2.06-2.06.94z\"/><path d=\"M17.41 7.96l-1.37-1.37c-.4-.4-.92-.59-1.43-.59-.52 0-1.04.2-1.43.59L10.3 9.45l-7.72 7.72c-.78.78-.78 2.05 0 2.83L4 21.41c.39.39.9.59 1.41.59.51 0 1.02-.2 1.41-.59l7.78-7.78 2.81-2.81c.8-.78.8-2.07 0-2.86zM5.41 20L4 18.59l7.72-7.72 1.47 1.35L5.41 20z\"/>\n",
              "  </svg>\n",
              "      </button>\n",
              "      \n",
              "  <style>\n",
              "    .colab-df-container {\n",
              "      display:flex;\n",
              "      flex-wrap:wrap;\n",
              "      gap: 12px;\n",
              "    }\n",
              "\n",
              "    .colab-df-convert {\n",
              "      background-color: #E8F0FE;\n",
              "      border: none;\n",
              "      border-radius: 50%;\n",
              "      cursor: pointer;\n",
              "      display: none;\n",
              "      fill: #1967D2;\n",
              "      height: 32px;\n",
              "      padding: 0 0 0 0;\n",
              "      width: 32px;\n",
              "    }\n",
              "\n",
              "    .colab-df-convert:hover {\n",
              "      background-color: #E2EBFA;\n",
              "      box-shadow: 0px 1px 2px rgba(60, 64, 67, 0.3), 0px 1px 3px 1px rgba(60, 64, 67, 0.15);\n",
              "      fill: #174EA6;\n",
              "    }\n",
              "\n",
              "    [theme=dark] .colab-df-convert {\n",
              "      background-color: #3B4455;\n",
              "      fill: #D2E3FC;\n",
              "    }\n",
              "\n",
              "    [theme=dark] .colab-df-convert:hover {\n",
              "      background-color: #434B5C;\n",
              "      box-shadow: 0px 1px 3px 1px rgba(0, 0, 0, 0.15);\n",
              "      filter: drop-shadow(0px 1px 2px rgba(0, 0, 0, 0.3));\n",
              "      fill: #FFFFFF;\n",
              "    }\n",
              "  </style>\n",
              "\n",
              "      <script>\n",
              "        const buttonEl =\n",
              "          document.querySelector('#df-ef50a1da-df38-4216-aea8-32c1886d5513 button.colab-df-convert');\n",
              "        buttonEl.style.display =\n",
              "          google.colab.kernel.accessAllowed ? 'block' : 'none';\n",
              "\n",
              "        async function convertToInteractive(key) {\n",
              "          const element = document.querySelector('#df-ef50a1da-df38-4216-aea8-32c1886d5513');\n",
              "          const dataTable =\n",
              "            await google.colab.kernel.invokeFunction('convertToInteractive',\n",
              "                                                     [key], {});\n",
              "          if (!dataTable) return;\n",
              "\n",
              "          const docLinkHtml = 'Like what you see? Visit the ' +\n",
              "            '<a target=\"_blank\" href=https://colab.research.google.com/notebooks/data_table.ipynb>data table notebook</a>'\n",
              "            + ' to learn more about interactive tables.';\n",
              "          element.innerHTML = '';\n",
              "          dataTable['output_type'] = 'display_data';\n",
              "          await google.colab.output.renderOutput(dataTable, element);\n",
              "          const docLink = document.createElement('div');\n",
              "          docLink.innerHTML = docLinkHtml;\n",
              "          element.appendChild(docLink);\n",
              "        }\n",
              "      </script>\n",
              "    </div>\n",
              "  </div>\n",
              "  "
            ]
          },
          "metadata": {},
          "execution_count": 11
        }
      ]
    },
    {
      "cell_type": "code",
      "source": [
        "#confirmation for Item)_Identifiers only appear one time\n",
        "for index , row in filter_df.iterrows():\n",
        "  Identi = row['Item_Identifier']\n",
        "  numb = df['Item_Identifier'].value_counts()[Identi]\n",
        "  print(f\"Item_Idenitifer {Identi} appears in dataset {numb} time(s)\")"
      ],
      "metadata": {
        "colab": {
          "base_uri": "https://localhost:8080/"
        },
        "id": "wlfGHEIzUrMQ",
        "outputId": "1a594780-5d3d-4bf9-bc2b-0de2d9efa5f7"
      },
      "execution_count": 12,
      "outputs": [
        {
          "output_type": "stream",
          "name": "stdout",
          "text": [
            "Item_Idenitifer FDN52 appears in dataset 1 time(s)\n",
            "Item_Idenitifer FDK57 appears in dataset 1 time(s)\n",
            "Item_Idenitifer FDE52 appears in dataset 1 time(s)\n",
            "Item_Idenitifer FDQ60 appears in dataset 1 time(s)\n"
          ]
        }
      ]
    },
    {
      "cell_type": "code",
      "source": [
        "# Setting the average Item Weight\n",
        "for index, row in filter_df .iterrows():\n",
        " df.loc[index, 'Item_Weight'] = df['Item_Weight'].mean()"
      ],
      "metadata": {
        "id": "NCbxbygkS6xG"
      },
      "execution_count": 13,
      "outputs": []
    },
    {
      "cell_type": "code",
      "source": [
        "# Check for impute\n",
        "df.isna().sum()['Item_Weight']"
      ],
      "metadata": {
        "colab": {
          "base_uri": "https://localhost:8080/"
        },
        "id": "Nuyiz7hBYESA",
        "outputId": "0263e828-4fb3-4c14-8bd8-23f5c79335a1"
      },
      "execution_count": 14,
      "outputs": [
        {
          "output_type": "execute_result",
          "data": {
            "text/plain": [
              "0"
            ]
          },
          "metadata": {},
          "execution_count": 14
        }
      ]
    },
    {
      "cell_type": "markdown",
      "source": [
        "Outlet value"
      ],
      "metadata": {
        "id": "3MXY-WyZtH0s"
      }
    },
    {
      "cell_type": "code",
      "source": [
        "#missing Outlet Values\n",
        "#loop through rows\n",
        "for index in df.index:\n",
        "# Creating a filter that loop that matches the row\n",
        " outlet_id_filter = df['Outlet_Identifier'] == df.loc[index, 'Outlet_Identifier']\n",
        "# Calculate the Item Weight in the filter\n",
        " outlet_mean = df.loc[outlet_id_filter, 'Outlet_Size'].min()\n",
        "# assign to column\n",
        " df.loc[index, 'Outlet_Size'] = outlet_mean"
      ],
      "metadata": {
        "id": "7teye16JZrdT"
      },
      "execution_count": 15,
      "outputs": []
    },
    {
      "cell_type": "code",
      "source": [
        "#check for impute\n",
        "df.isna().sum()['Outlet_Size']"
      ],
      "metadata": {
        "colab": {
          "base_uri": "https://localhost:8080/"
        },
        "id": "V5TR1ttdiOKX",
        "outputId": "1c4cad96-5c19-4a22-b5ca-86f4d6b3bce4"
      },
      "execution_count": 16,
      "outputs": [
        {
          "output_type": "execute_result",
          "data": {
            "text/plain": [
              "2410"
            ]
          },
          "metadata": {},
          "execution_count": 16
        }
      ]
    },
    {
      "cell_type": "code",
      "source": [
        "## Every outlet is different so their outlet size is unknown\n",
        "df['Outlet_Size'].fillna('Unknown', inplace = True)"
      ],
      "metadata": {
        "id": "YMLdJMEQigdh"
      },
      "execution_count": 17,
      "outputs": []
    },
    {
      "cell_type": "code",
      "source": [
        "#Check Outlet Size Impute\n",
        "df.isna().sum()['Outlet_Size']"
      ],
      "metadata": {
        "colab": {
          "base_uri": "https://localhost:8080/"
        },
        "id": "9XhAFMu4iBB4",
        "outputId": "1dd79f80-23b8-4964-feee-d1b445847b09"
      },
      "execution_count": 18,
      "outputs": [
        {
          "output_type": "execute_result",
          "data": {
            "text/plain": [
              "0"
            ]
          },
          "metadata": {},
          "execution_count": 18
        }
      ]
    },
    {
      "cell_type": "markdown",
      "source": [
        "Confirm no missing values"
      ],
      "metadata": {
        "id": "7L_HELiPuOOQ"
      }
    },
    {
      "cell_type": "code",
      "source": [
        "#Confirm that there are no missing values after addressing them\n",
        "missing_val = df.isna().sum().sum()\n",
        "\n",
        "print(f\"There are {missing_val} values missing remaining.\")"
      ],
      "metadata": {
        "colab": {
          "base_uri": "https://localhost:8080/"
        },
        "id": "U5RJaKNonVPj",
        "outputId": "390848b6-e052-41c3-e99d-296b3767b7bb"
      },
      "execution_count": 19,
      "outputs": [
        {
          "output_type": "stream",
          "name": "stdout",
          "text": [
            "There are 0 values missing remaining.\n"
          ]
        }
      ]
    },
    {
      "cell_type": "markdown",
      "source": [
        "Finding and fixing inconsistent values"
      ],
      "metadata": {
        "id": "-Ltz6vvHtdnu"
      }
    },
    {
      "cell_type": "code",
      "source": [
        "#Find and fix any inconsistent categories of data (example: fix cat, Cat, and cats so that they are consistent)\n",
        "df.describe(include = 'object').round(2)"
      ],
      "metadata": {
        "colab": {
          "base_uri": "https://localhost:8080/",
          "height": 174
        },
        "id": "RKj03KNnoSU1",
        "outputId": "b68c9534-98cc-4aba-f713-679bb48ec36f"
      },
      "execution_count": 20,
      "outputs": [
        {
          "output_type": "execute_result",
          "data": {
            "text/plain": [
              "       Item_Identifier Item_Fat_Content              Item_Type  \\\n",
              "count             8523             8523                   8523   \n",
              "unique            1559                5                     16   \n",
              "top              FDW13          Low Fat  Fruits and Vegetables   \n",
              "freq                10             5089                   1232   \n",
              "\n",
              "       Outlet_Identifier Outlet_Size Outlet_Location_Type        Outlet_Type  \n",
              "count               8523        8523                 8523               8523  \n",
              "unique                10           4                    3                  4  \n",
              "top               OUT027      Medium               Tier 3  Supermarket Type1  \n",
              "freq                 935        2793                 3350               5577  "
            ],
            "text/html": [
              "\n",
              "  <div id=\"df-83b1c413-b1c3-48ee-b2b6-1a5c73b49ed6\">\n",
              "    <div class=\"colab-df-container\">\n",
              "      <div>\n",
              "<style scoped>\n",
              "    .dataframe tbody tr th:only-of-type {\n",
              "        vertical-align: middle;\n",
              "    }\n",
              "\n",
              "    .dataframe tbody tr th {\n",
              "        vertical-align: top;\n",
              "    }\n",
              "\n",
              "    .dataframe thead th {\n",
              "        text-align: right;\n",
              "    }\n",
              "</style>\n",
              "<table border=\"1\" class=\"dataframe\">\n",
              "  <thead>\n",
              "    <tr style=\"text-align: right;\">\n",
              "      <th></th>\n",
              "      <th>Item_Identifier</th>\n",
              "      <th>Item_Fat_Content</th>\n",
              "      <th>Item_Type</th>\n",
              "      <th>Outlet_Identifier</th>\n",
              "      <th>Outlet_Size</th>\n",
              "      <th>Outlet_Location_Type</th>\n",
              "      <th>Outlet_Type</th>\n",
              "    </tr>\n",
              "  </thead>\n",
              "  <tbody>\n",
              "    <tr>\n",
              "      <th>count</th>\n",
              "      <td>8523</td>\n",
              "      <td>8523</td>\n",
              "      <td>8523</td>\n",
              "      <td>8523</td>\n",
              "      <td>8523</td>\n",
              "      <td>8523</td>\n",
              "      <td>8523</td>\n",
              "    </tr>\n",
              "    <tr>\n",
              "      <th>unique</th>\n",
              "      <td>1559</td>\n",
              "      <td>5</td>\n",
              "      <td>16</td>\n",
              "      <td>10</td>\n",
              "      <td>4</td>\n",
              "      <td>3</td>\n",
              "      <td>4</td>\n",
              "    </tr>\n",
              "    <tr>\n",
              "      <th>top</th>\n",
              "      <td>FDW13</td>\n",
              "      <td>Low Fat</td>\n",
              "      <td>Fruits and Vegetables</td>\n",
              "      <td>OUT027</td>\n",
              "      <td>Medium</td>\n",
              "      <td>Tier 3</td>\n",
              "      <td>Supermarket Type1</td>\n",
              "    </tr>\n",
              "    <tr>\n",
              "      <th>freq</th>\n",
              "      <td>10</td>\n",
              "      <td>5089</td>\n",
              "      <td>1232</td>\n",
              "      <td>935</td>\n",
              "      <td>2793</td>\n",
              "      <td>3350</td>\n",
              "      <td>5577</td>\n",
              "    </tr>\n",
              "  </tbody>\n",
              "</table>\n",
              "</div>\n",
              "      <button class=\"colab-df-convert\" onclick=\"convertToInteractive('df-83b1c413-b1c3-48ee-b2b6-1a5c73b49ed6')\"\n",
              "              title=\"Convert this dataframe to an interactive table.\"\n",
              "              style=\"display:none;\">\n",
              "        \n",
              "  <svg xmlns=\"http://www.w3.org/2000/svg\" height=\"24px\"viewBox=\"0 0 24 24\"\n",
              "       width=\"24px\">\n",
              "    <path d=\"M0 0h24v24H0V0z\" fill=\"none\"/>\n",
              "    <path d=\"M18.56 5.44l.94 2.06.94-2.06 2.06-.94-2.06-.94-.94-2.06-.94 2.06-2.06.94zm-11 1L8.5 8.5l.94-2.06 2.06-.94-2.06-.94L8.5 2.5l-.94 2.06-2.06.94zm10 10l.94 2.06.94-2.06 2.06-.94-2.06-.94-.94-2.06-.94 2.06-2.06.94z\"/><path d=\"M17.41 7.96l-1.37-1.37c-.4-.4-.92-.59-1.43-.59-.52 0-1.04.2-1.43.59L10.3 9.45l-7.72 7.72c-.78.78-.78 2.05 0 2.83L4 21.41c.39.39.9.59 1.41.59.51 0 1.02-.2 1.41-.59l7.78-7.78 2.81-2.81c.8-.78.8-2.07 0-2.86zM5.41 20L4 18.59l7.72-7.72 1.47 1.35L5.41 20z\"/>\n",
              "  </svg>\n",
              "      </button>\n",
              "      \n",
              "  <style>\n",
              "    .colab-df-container {\n",
              "      display:flex;\n",
              "      flex-wrap:wrap;\n",
              "      gap: 12px;\n",
              "    }\n",
              "\n",
              "    .colab-df-convert {\n",
              "      background-color: #E8F0FE;\n",
              "      border: none;\n",
              "      border-radius: 50%;\n",
              "      cursor: pointer;\n",
              "      display: none;\n",
              "      fill: #1967D2;\n",
              "      height: 32px;\n",
              "      padding: 0 0 0 0;\n",
              "      width: 32px;\n",
              "    }\n",
              "\n",
              "    .colab-df-convert:hover {\n",
              "      background-color: #E2EBFA;\n",
              "      box-shadow: 0px 1px 2px rgba(60, 64, 67, 0.3), 0px 1px 3px 1px rgba(60, 64, 67, 0.15);\n",
              "      fill: #174EA6;\n",
              "    }\n",
              "\n",
              "    [theme=dark] .colab-df-convert {\n",
              "      background-color: #3B4455;\n",
              "      fill: #D2E3FC;\n",
              "    }\n",
              "\n",
              "    [theme=dark] .colab-df-convert:hover {\n",
              "      background-color: #434B5C;\n",
              "      box-shadow: 0px 1px 3px 1px rgba(0, 0, 0, 0.15);\n",
              "      filter: drop-shadow(0px 1px 2px rgba(0, 0, 0, 0.3));\n",
              "      fill: #FFFFFF;\n",
              "    }\n",
              "  </style>\n",
              "\n",
              "      <script>\n",
              "        const buttonEl =\n",
              "          document.querySelector('#df-83b1c413-b1c3-48ee-b2b6-1a5c73b49ed6 button.colab-df-convert');\n",
              "        buttonEl.style.display =\n",
              "          google.colab.kernel.accessAllowed ? 'block' : 'none';\n",
              "\n",
              "        async function convertToInteractive(key) {\n",
              "          const element = document.querySelector('#df-83b1c413-b1c3-48ee-b2b6-1a5c73b49ed6');\n",
              "          const dataTable =\n",
              "            await google.colab.kernel.invokeFunction('convertToInteractive',\n",
              "                                                     [key], {});\n",
              "          if (!dataTable) return;\n",
              "\n",
              "          const docLinkHtml = 'Like what you see? Visit the ' +\n",
              "            '<a target=\"_blank\" href=https://colab.research.google.com/notebooks/data_table.ipynb>data table notebook</a>'\n",
              "            + ' to learn more about interactive tables.';\n",
              "          element.innerHTML = '';\n",
              "          dataTable['output_type'] = 'display_data';\n",
              "          await google.colab.output.renderOutput(dataTable, element);\n",
              "          const docLink = document.createElement('div');\n",
              "          docLink.innerHTML = docLinkHtml;\n",
              "          element.appendChild(docLink);\n",
              "        }\n",
              "      </script>\n",
              "    </div>\n",
              "  </div>\n",
              "  "
            ]
          },
          "metadata": {},
          "execution_count": 20
        }
      ]
    },
    {
      "cell_type": "code",
      "source": [
        "#creating object columns\n",
        "dtypes =df.dtypes \n",
        "dtypes_objects = dtypes[dtypes == \"object\"]\n",
        "dtypes_objects"
      ],
      "metadata": {
        "colab": {
          "base_uri": "https://localhost:8080/"
        },
        "id": "bxdszcURud1c",
        "outputId": "6da5393f-7a29-41a1-d57d-0fac78bbd888"
      },
      "execution_count": 21,
      "outputs": [
        {
          "output_type": "execute_result",
          "data": {
            "text/plain": [
              "Item_Identifier         object\n",
              "Item_Fat_Content        object\n",
              "Item_Type               object\n",
              "Outlet_Identifier       object\n",
              "Outlet_Size             object\n",
              "Outlet_Location_Type    object\n",
              "Outlet_Type             object\n",
              "dtype: object"
            ]
          },
          "metadata": {},
          "execution_count": 21
        }
      ]
    },
    {
      "cell_type": "code",
      "source": [
        "#print out the object type columns to check inconsistent names\n",
        "for column in dtypes_objects.index:\n",
        "\n",
        " print(column)\n",
        " print(df[column].unique())  \n",
        " print(\"\")"
      ],
      "metadata": {
        "colab": {
          "base_uri": "https://localhost:8080/"
        },
        "id": "abr0tBTrx4Qa",
        "outputId": "6b22d478-5551-4392-fd7b-c0b3271362be"
      },
      "execution_count": 22,
      "outputs": [
        {
          "output_type": "stream",
          "name": "stdout",
          "text": [
            "Item_Identifier\n",
            "['FDA15' 'DRC01' 'FDN15' ... 'NCF55' 'NCW30' 'NCW05']\n",
            "\n",
            "Item_Fat_Content\n",
            "['Low Fat' 'Regular' 'low fat' 'LF' 'reg']\n",
            "\n",
            "Item_Type\n",
            "['Dairy' 'Soft Drinks' 'Meat' 'Fruits and Vegetables' 'Household'\n",
            " 'Baking Goods' 'Snack Foods' 'Frozen Foods' 'Breakfast'\n",
            " 'Health and Hygiene' 'Hard Drinks' 'Canned' 'Breads' 'Starchy Foods'\n",
            " 'Others' 'Seafood']\n",
            "\n",
            "Outlet_Identifier\n",
            "['OUT049' 'OUT018' 'OUT010' 'OUT013' 'OUT027' 'OUT045' 'OUT017' 'OUT046'\n",
            " 'OUT035' 'OUT019']\n",
            "\n",
            "Outlet_Size\n",
            "['Medium' 'Unknown' 'High' 'Small']\n",
            "\n",
            "Outlet_Location_Type\n",
            "['Tier 1' 'Tier 3' 'Tier 2']\n",
            "\n",
            "Outlet_Type\n",
            "['Supermarket Type1' 'Supermarket Type2' 'Grocery Store'\n",
            " 'Supermarket Type3']\n",
            "\n"
          ]
        }
      ]
    },
    {
      "cell_type": "code",
      "source": [
        "# how many items in each object category \n",
        "for column in dtypes_objects.index:\n",
        "  print(column)\n",
        "  print(df[column].value_counts())\n",
        "  print(\"\")"
      ],
      "metadata": {
        "colab": {
          "base_uri": "https://localhost:8080/"
        },
        "id": "4OEpn_O-0SYq",
        "outputId": "cabaf833-dd38-4dbc-c636-fdedf26951f6"
      },
      "execution_count": 23,
      "outputs": [
        {
          "output_type": "stream",
          "name": "stdout",
          "text": [
            "Item_Identifier\n",
            "FDW13    10\n",
            "FDG33    10\n",
            "NCY18     9\n",
            "FDD38     9\n",
            "DRE49     9\n",
            "         ..\n",
            "FDY43     1\n",
            "FDQ60     1\n",
            "FDO33     1\n",
            "DRF48     1\n",
            "FDC23     1\n",
            "Name: Item_Identifier, Length: 1559, dtype: int64\n",
            "\n",
            "Item_Fat_Content\n",
            "Low Fat    5089\n",
            "Regular    2889\n",
            "LF          316\n",
            "reg         117\n",
            "low fat     112\n",
            "Name: Item_Fat_Content, dtype: int64\n",
            "\n",
            "Item_Type\n",
            "Fruits and Vegetables    1232\n",
            "Snack Foods              1200\n",
            "Household                 910\n",
            "Frozen Foods              856\n",
            "Dairy                     682\n",
            "Canned                    649\n",
            "Baking Goods              648\n",
            "Health and Hygiene        520\n",
            "Soft Drinks               445\n",
            "Meat                      425\n",
            "Breads                    251\n",
            "Hard Drinks               214\n",
            "Others                    169\n",
            "Starchy Foods             148\n",
            "Breakfast                 110\n",
            "Seafood                    64\n",
            "Name: Item_Type, dtype: int64\n",
            "\n",
            "Outlet_Identifier\n",
            "OUT027    935\n",
            "OUT013    932\n",
            "OUT049    930\n",
            "OUT046    930\n",
            "OUT035    930\n",
            "OUT045    929\n",
            "OUT018    928\n",
            "OUT017    926\n",
            "OUT010    555\n",
            "OUT019    528\n",
            "Name: Outlet_Identifier, dtype: int64\n",
            "\n",
            "Outlet_Size\n",
            "Medium     2793\n",
            "Unknown    2410\n",
            "Small      2388\n",
            "High        932\n",
            "Name: Outlet_Size, dtype: int64\n",
            "\n",
            "Outlet_Location_Type\n",
            "Tier 3    3350\n",
            "Tier 2    2785\n",
            "Tier 1    2388\n",
            "Name: Outlet_Location_Type, dtype: int64\n",
            "\n",
            "Outlet_Type\n",
            "Supermarket Type1    5577\n",
            "Grocery Store        1083\n",
            "Supermarket Type3     935\n",
            "Supermarket Type2     928\n",
            "Name: Outlet_Type, dtype: int64\n",
            "\n"
          ]
        }
      ]
    },
    {
      "cell_type": "code",
      "source": [
        "#fixing Item_Fat_Content to make them consistent\n",
        "df['Item_Fat_Content'] = df['Item_Fat_Content'].replace('LF', 'Low Fat')\n",
        "df['Item_Fat_Content'] = df['Item_Fat_Content'].replace('reg', 'Regular')\n",
        "df['Item_Fat_Content'] = df['Item_Fat_Content'].replace('low', 'Low Fat')"
      ],
      "metadata": {
        "id": "0iEQJ4eZ1PQN"
      },
      "execution_count": 24,
      "outputs": []
    },
    {
      "cell_type": "code",
      "source": [
        "#print results\n",
        "df['Item_Fat_Content'].value_counts()"
      ],
      "metadata": {
        "colab": {
          "base_uri": "https://localhost:8080/"
        },
        "id": "pvp6-UJ44jUh",
        "outputId": "ea941761-6148-4d63-8933-aec882ffccdd"
      },
      "execution_count": 25,
      "outputs": [
        {
          "output_type": "execute_result",
          "data": {
            "text/plain": [
              "Low Fat    5405\n",
              "Regular    3006\n",
              "low fat     112\n",
              "Name: Item_Fat_Content, dtype: int64"
            ]
          },
          "metadata": {},
          "execution_count": 25
        }
      ]
    },
    {
      "cell_type": "code",
      "source": [
        "#fixing the values\n",
        "df['Outlet_Size'] = df['Outlet_Size'].replace('High', 'Large')\n",
        "\n",
        "#Checking the results\n",
        "df[\"Outlet_Size\"].value_counts()"
      ],
      "metadata": {
        "colab": {
          "base_uri": "https://localhost:8080/"
        },
        "id": "BB4kt4h8-bJ8",
        "outputId": "320621c2-44f8-49e5-9501-bc528040d79e"
      },
      "execution_count": 26,
      "outputs": [
        {
          "output_type": "execute_result",
          "data": {
            "text/plain": [
              "Medium     2793\n",
              "Unknown    2410\n",
              "Small      2388\n",
              "Large       932\n",
              "Name: Outlet_Size, dtype: int64"
            ]
          },
          "metadata": {},
          "execution_count": 26
        }
      ]
    },
    {
      "cell_type": "code",
      "source": [
        "#For any numerical columns, obtain the summary statistics of each (min, max, mean).\n",
        "\n",
        "df.describe(include = 'number').round(2)"
      ],
      "metadata": {
        "colab": {
          "base_uri": "https://localhost:8080/",
          "height": 300
        },
        "id": "Vr0NoV5hAOU-",
        "outputId": "08cd3b95-68c1-4a08-eecc-84bcbe13906b"
      },
      "execution_count": 27,
      "outputs": [
        {
          "output_type": "execute_result",
          "data": {
            "text/plain": [
              "       Item_Weight  Item_Visibility  Item_MRP  Outlet_Establishment_Year  \\\n",
              "count      8523.00          8523.00   8523.00                    8523.00   \n",
              "mean         12.88             0.07    140.99                    1997.83   \n",
              "std           4.65             0.05     62.28                       8.37   \n",
              "min           4.56             0.00     31.29                    1985.00   \n",
              "25%           8.78             0.03     93.83                    1987.00   \n",
              "50%          12.65             0.05    143.01                    1999.00   \n",
              "75%          16.85             0.09    185.64                    2004.00   \n",
              "max          21.35             0.33    266.89                    2009.00   \n",
              "\n",
              "       Item_Outlet_Sales  \n",
              "count            8523.00  \n",
              "mean             2181.29  \n",
              "std              1706.50  \n",
              "min                33.29  \n",
              "25%               834.25  \n",
              "50%              1794.33  \n",
              "75%              3101.30  \n",
              "max             13086.96  "
            ],
            "text/html": [
              "\n",
              "  <div id=\"df-5109b54e-dd47-485d-9592-19982ced1401\">\n",
              "    <div class=\"colab-df-container\">\n",
              "      <div>\n",
              "<style scoped>\n",
              "    .dataframe tbody tr th:only-of-type {\n",
              "        vertical-align: middle;\n",
              "    }\n",
              "\n",
              "    .dataframe tbody tr th {\n",
              "        vertical-align: top;\n",
              "    }\n",
              "\n",
              "    .dataframe thead th {\n",
              "        text-align: right;\n",
              "    }\n",
              "</style>\n",
              "<table border=\"1\" class=\"dataframe\">\n",
              "  <thead>\n",
              "    <tr style=\"text-align: right;\">\n",
              "      <th></th>\n",
              "      <th>Item_Weight</th>\n",
              "      <th>Item_Visibility</th>\n",
              "      <th>Item_MRP</th>\n",
              "      <th>Outlet_Establishment_Year</th>\n",
              "      <th>Item_Outlet_Sales</th>\n",
              "    </tr>\n",
              "  </thead>\n",
              "  <tbody>\n",
              "    <tr>\n",
              "      <th>count</th>\n",
              "      <td>8523.00</td>\n",
              "      <td>8523.00</td>\n",
              "      <td>8523.00</td>\n",
              "      <td>8523.00</td>\n",
              "      <td>8523.00</td>\n",
              "    </tr>\n",
              "    <tr>\n",
              "      <th>mean</th>\n",
              "      <td>12.88</td>\n",
              "      <td>0.07</td>\n",
              "      <td>140.99</td>\n",
              "      <td>1997.83</td>\n",
              "      <td>2181.29</td>\n",
              "    </tr>\n",
              "    <tr>\n",
              "      <th>std</th>\n",
              "      <td>4.65</td>\n",
              "      <td>0.05</td>\n",
              "      <td>62.28</td>\n",
              "      <td>8.37</td>\n",
              "      <td>1706.50</td>\n",
              "    </tr>\n",
              "    <tr>\n",
              "      <th>min</th>\n",
              "      <td>4.56</td>\n",
              "      <td>0.00</td>\n",
              "      <td>31.29</td>\n",
              "      <td>1985.00</td>\n",
              "      <td>33.29</td>\n",
              "    </tr>\n",
              "    <tr>\n",
              "      <th>25%</th>\n",
              "      <td>8.78</td>\n",
              "      <td>0.03</td>\n",
              "      <td>93.83</td>\n",
              "      <td>1987.00</td>\n",
              "      <td>834.25</td>\n",
              "    </tr>\n",
              "    <tr>\n",
              "      <th>50%</th>\n",
              "      <td>12.65</td>\n",
              "      <td>0.05</td>\n",
              "      <td>143.01</td>\n",
              "      <td>1999.00</td>\n",
              "      <td>1794.33</td>\n",
              "    </tr>\n",
              "    <tr>\n",
              "      <th>75%</th>\n",
              "      <td>16.85</td>\n",
              "      <td>0.09</td>\n",
              "      <td>185.64</td>\n",
              "      <td>2004.00</td>\n",
              "      <td>3101.30</td>\n",
              "    </tr>\n",
              "    <tr>\n",
              "      <th>max</th>\n",
              "      <td>21.35</td>\n",
              "      <td>0.33</td>\n",
              "      <td>266.89</td>\n",
              "      <td>2009.00</td>\n",
              "      <td>13086.96</td>\n",
              "    </tr>\n",
              "  </tbody>\n",
              "</table>\n",
              "</div>\n",
              "      <button class=\"colab-df-convert\" onclick=\"convertToInteractive('df-5109b54e-dd47-485d-9592-19982ced1401')\"\n",
              "              title=\"Convert this dataframe to an interactive table.\"\n",
              "              style=\"display:none;\">\n",
              "        \n",
              "  <svg xmlns=\"http://www.w3.org/2000/svg\" height=\"24px\"viewBox=\"0 0 24 24\"\n",
              "       width=\"24px\">\n",
              "    <path d=\"M0 0h24v24H0V0z\" fill=\"none\"/>\n",
              "    <path d=\"M18.56 5.44l.94 2.06.94-2.06 2.06-.94-2.06-.94-.94-2.06-.94 2.06-2.06.94zm-11 1L8.5 8.5l.94-2.06 2.06-.94-2.06-.94L8.5 2.5l-.94 2.06-2.06.94zm10 10l.94 2.06.94-2.06 2.06-.94-2.06-.94-.94-2.06-.94 2.06-2.06.94z\"/><path d=\"M17.41 7.96l-1.37-1.37c-.4-.4-.92-.59-1.43-.59-.52 0-1.04.2-1.43.59L10.3 9.45l-7.72 7.72c-.78.78-.78 2.05 0 2.83L4 21.41c.39.39.9.59 1.41.59.51 0 1.02-.2 1.41-.59l7.78-7.78 2.81-2.81c.8-.78.8-2.07 0-2.86zM5.41 20L4 18.59l7.72-7.72 1.47 1.35L5.41 20z\"/>\n",
              "  </svg>\n",
              "      </button>\n",
              "      \n",
              "  <style>\n",
              "    .colab-df-container {\n",
              "      display:flex;\n",
              "      flex-wrap:wrap;\n",
              "      gap: 12px;\n",
              "    }\n",
              "\n",
              "    .colab-df-convert {\n",
              "      background-color: #E8F0FE;\n",
              "      border: none;\n",
              "      border-radius: 50%;\n",
              "      cursor: pointer;\n",
              "      display: none;\n",
              "      fill: #1967D2;\n",
              "      height: 32px;\n",
              "      padding: 0 0 0 0;\n",
              "      width: 32px;\n",
              "    }\n",
              "\n",
              "    .colab-df-convert:hover {\n",
              "      background-color: #E2EBFA;\n",
              "      box-shadow: 0px 1px 2px rgba(60, 64, 67, 0.3), 0px 1px 3px 1px rgba(60, 64, 67, 0.15);\n",
              "      fill: #174EA6;\n",
              "    }\n",
              "\n",
              "    [theme=dark] .colab-df-convert {\n",
              "      background-color: #3B4455;\n",
              "      fill: #D2E3FC;\n",
              "    }\n",
              "\n",
              "    [theme=dark] .colab-df-convert:hover {\n",
              "      background-color: #434B5C;\n",
              "      box-shadow: 0px 1px 3px 1px rgba(0, 0, 0, 0.15);\n",
              "      filter: drop-shadow(0px 1px 2px rgba(0, 0, 0, 0.3));\n",
              "      fill: #FFFFFF;\n",
              "    }\n",
              "  </style>\n",
              "\n",
              "      <script>\n",
              "        const buttonEl =\n",
              "          document.querySelector('#df-5109b54e-dd47-485d-9592-19982ced1401 button.colab-df-convert');\n",
              "        buttonEl.style.display =\n",
              "          google.colab.kernel.accessAllowed ? 'block' : 'none';\n",
              "\n",
              "        async function convertToInteractive(key) {\n",
              "          const element = document.querySelector('#df-5109b54e-dd47-485d-9592-19982ced1401');\n",
              "          const dataTable =\n",
              "            await google.colab.kernel.invokeFunction('convertToInteractive',\n",
              "                                                     [key], {});\n",
              "          if (!dataTable) return;\n",
              "\n",
              "          const docLinkHtml = 'Like what you see? Visit the ' +\n",
              "            '<a target=\"_blank\" href=https://colab.research.google.com/notebooks/data_table.ipynb>data table notebook</a>'\n",
              "            + ' to learn more about interactive tables.';\n",
              "          element.innerHTML = '';\n",
              "          dataTable['output_type'] = 'display_data';\n",
              "          await google.colab.output.renderOutput(dataTable, element);\n",
              "          const docLink = document.createElement('div');\n",
              "          docLink.innerHTML = docLinkHtml;\n",
              "          element.appendChild(docLink);\n",
              "        }\n",
              "      </script>\n",
              "    </div>\n",
              "  </div>\n",
              "  "
            ]
          },
          "metadata": {},
          "execution_count": 27
        }
      ]
    },
    {
      "cell_type": "markdown",
      "source": [
        "# Exploratory Visuals"
      ],
      "metadata": {
        "id": "L-_X9JvAQDQW"
      }
    },
    {
      "cell_type": "markdown",
      "source": [
        "For Part 3, your task is to complete any statistical analyses that might help you understand, explain, or model with your data. This must include at least one of each:\n",
        "\n",
        "\n"
      ],
      "metadata": {
        "id": "_tmkRgu8DQ8t"
      }
    },
    {
      "cell_type": "code",
      "source": [
        "# Displaying various features in the data set\n",
        "df.info()"
      ],
      "metadata": {
        "id": "kyIV9CJrQL1X",
        "colab": {
          "base_uri": "https://localhost:8080/"
        },
        "outputId": "b7ca8070-a9d9-4276-da58-3af8f84a33ea"
      },
      "execution_count": 28,
      "outputs": [
        {
          "output_type": "stream",
          "name": "stdout",
          "text": [
            "<class 'pandas.core.frame.DataFrame'>\n",
            "RangeIndex: 8523 entries, 0 to 8522\n",
            "Data columns (total 12 columns):\n",
            " #   Column                     Non-Null Count  Dtype  \n",
            "---  ------                     --------------  -----  \n",
            " 0   Item_Identifier            8523 non-null   object \n",
            " 1   Item_Weight                8523 non-null   float64\n",
            " 2   Item_Fat_Content           8523 non-null   object \n",
            " 3   Item_Visibility            8523 non-null   float64\n",
            " 4   Item_Type                  8523 non-null   object \n",
            " 5   Item_MRP                   8523 non-null   float64\n",
            " 6   Outlet_Identifier          8523 non-null   object \n",
            " 7   Outlet_Establishment_Year  8523 non-null   int64  \n",
            " 8   Outlet_Size                8523 non-null   object \n",
            " 9   Outlet_Location_Type       8523 non-null   object \n",
            " 10  Outlet_Type                8523 non-null   object \n",
            " 11  Item_Outlet_Sales          8523 non-null   float64\n",
            "dtypes: float64(4), int64(1), object(7)\n",
            "memory usage: 799.2+ KB\n"
          ]
        }
      ]
    },
    {
      "cell_type": "markdown",
      "source": [
        "Histogram to view the distributions of various features in your dataset."
      ],
      "metadata": {
        "id": "xqS5bSK-Dhs8"
      }
    },
    {
      "cell_type": "code",
      "source": [
        "# Creating a histogram with seaborn\n",
        "ax = sns.histplot(data = df, x = 'Item_Weight')\n",
        "# Setting a title for our Histogram\n",
        "ax.set_title('Histogram Showing the Item Weight')"
      ],
      "metadata": {
        "colab": {
          "base_uri": "https://localhost:8080/",
          "height": 489
        },
        "id": "7vQsp6O1DrPV",
        "outputId": "cd88ce37-d4c5-4994-f0ff-153934de057a"
      },
      "execution_count": 29,
      "outputs": [
        {
          "output_type": "execute_result",
          "data": {
            "text/plain": [
              "Text(0.5, 1.0, 'Histogram Showing the Item Weight')"
            ]
          },
          "metadata": {},
          "execution_count": 29
        },
        {
          "output_type": "display_data",
          "data": {
            "text/plain": [
              "<Figure size 640x480 with 1 Axes>"
            ],
            "image/png": "[encoded data removed]"
          },
          "metadata": {}
        }
      ]
    },
    {
      "cell_type": "markdown",
      "source": [
        "Boxplot to view statistical summaries of various features in your dataset.\n"
      ],
      "metadata": {
        "id": "RNCKf6ESI8Rv"
      }
    },
    {
      "cell_type": "code",
      "source": [
        "# Creating a boxplot using the Item outlet sales with seaborn\n",
        "ax = sns.boxplot(x= 'Item_Outlet_Sales', data = df)\n",
        "# Set the title\n",
        "ax.set_title('Boxplot Distribution for Item Outlet Sales')\n",
        "# Tighten up the boxplot\n",
        "plt.tight_layout();"
      ],
      "metadata": {
        "colab": {
          "base_uri": "https://localhost:8080/",
          "height": 487
        },
        "id": "k_FaRPY-I9zV",
        "outputId": "ef2c9b15-657b-43b0-e411-0ee3667e5088"
      },
      "execution_count": 30,
      "outputs": [
        {
          "output_type": "display_data",
          "data": {
            "text/plain": [
              "<Figure size 640x480 with 1 Axes>"
            ],
            "image/png": "[encoded data removed]"
          },
          "metadata": {}
        }
      ]
    },
    {
      "cell_type": "markdown",
      "source": [
        "Printing out the date to compare to our boxplot."
      ],
      "metadata": {
        "id": "XB26OTuzRu1J"
      }
    },
    {
      "cell_type": "code",
      "source": [
        "df['Item_Outlet_Sales'].describe()"
      ],
      "metadata": {
        "colab": {
          "base_uri": "https://localhost:8080/"
        },
        "id": "uxkWH8q8PhnZ",
        "outputId": "c622a772-9c2c-4499-d4c8-5bbed3a1e92f"
      },
      "execution_count": 31,
      "outputs": [
        {
          "output_type": "execute_result",
          "data": {
            "text/plain": [
              "count     8523.000000\n",
              "mean      2181.288914\n",
              "std       1706.499616\n",
              "min         33.290000\n",
              "25%        834.247400\n",
              "50%       1794.331000\n",
              "75%       3101.296400\n",
              "max      13086.964800\n",
              "Name: Item_Outlet_Sales, dtype: float64"
            ]
          },
          "metadata": {},
          "execution_count": 31
        }
      ]
    },
    {
      "cell_type": "markdown",
      "source": [
        "Heatmap of the correlation between features."
      ],
      "metadata": {
        "id": "HRmUf-wcR2kZ"
      }
    },
    {
      "cell_type": "code",
      "source": [
        "# Creating a Correlation for the columns with numbers\n",
        "corr = df.corr()\n",
        "sns.heatmap(corr, cmap = 'Purples', annot = True)"
      ],
      "metadata": {
        "colab": {
          "base_uri": "https://localhost:8080/",
          "height": 623
        },
        "id": "TEb_gjBLSFY_",
        "outputId": "70727de1-a11b-4c30-a761-ecf7fd705d96"
      },
      "execution_count": 32,
      "outputs": [
        {
          "output_type": "execute_result",
          "data": {
            "text/plain": [
              "<Axes: >"
            ]
          },
          "metadata": {},
          "execution_count": 32
        },
        {
          "output_type": "display_data",
          "data": {
            "text/plain": [
              "<Figure size 640x480 with 2 Axes>"
            ],
            "image/png": "[encoded data removed]"
          },
          "metadata": {}
        }
      ]
    },
    {
      "cell_type": "markdown",
      "source": [
        "# Explanatory Visuals"
      ],
      "metadata": {
        "id": "tH5EOod4QMPi"
      }
    },
    {
      "cell_type": "markdown",
      "source": [
        "# Create a minimum of two data visualizations that help others understand trends in the data (explanatory data analysis).\n",
        "\n",
        "1. What is the relationship between sales and the type product are offered.\n",
        "\n",
        "2. Does the size of product have an impact on the price?\n",
        "\n",
        "\n"
      ],
      "metadata": {
        "id": "wMsdsH-lz1Oe"
      }
    },
    {
      "cell_type": "code",
      "source": [
        "#1a.\n",
        "\n",
        "# First we need to find what kind of products we offer\n",
        "df.groupby('Item_Type')['Item_Outlet_Sales'].mean().sort_values(ascending = False).index"
      ],
      "metadata": {
        "id": "coa0cV0HQSxA",
        "colab": {
          "base_uri": "https://localhost:8080/"
        },
        "outputId": "d2f415a9-8e51-4b5b-ddfe-5012f257c813"
      },
      "execution_count": 33,
      "outputs": [
        {
          "output_type": "execute_result",
          "data": {
            "text/plain": [
              "Index(['Starchy Foods', 'Seafood', 'Fruits and Vegetables', 'Snack Foods',\n",
              "       'Household', 'Dairy', 'Canned', 'Breads', 'Meat', 'Hard Drinks',\n",
              "       'Frozen Foods', 'Breakfast', 'Health and Hygiene', 'Soft Drinks',\n",
              "       'Baking Goods', 'Others'],\n",
              "      dtype='object', name='Item_Type')"
            ]
          },
          "metadata": {},
          "execution_count": 33
        }
      ]
    },
    {
      "cell_type": "code",
      "source": [
        "#1b. Creating a Boxplot using seaborn\n",
        "# creating a new for both of our existing variables \n",
        "order_type_label = df.groupby('Item_Type')['Item_Outlet_Sales'].mean().sort_values(ascending = False).index\n",
        "\n",
        "#add gthe figsize\n",
        "plt.figure(figsize = (7, 7))\n",
        "\n",
        "plt.grid()\n",
        "\n",
        "# seaborn barplot\n",
        "ax = sns.barplot(data = df, y ='Item_Type', x ='Item_Outlet_Sales', order = order_type_label)\n",
        "\n",
        "# adding our labels\n",
        "# title label\n",
        "ax.set_title('Total sales for Item Type', fontsize = 18) \n",
        "# xlabel\n",
        "ax.set_xlabel('Dollar Sales', fontsize = 15)\n",
        "# ylabel\n",
        "ax.set_ylabel('Product Type', fontsize = 13)\n",
        "\n",
        "# sharpen up the Barplot\n",
        "sns.despine()"
      ],
      "metadata": {
        "colab": {
          "base_uri": "https://localhost:8080/",
          "height": 652
        },
        "id": "F1ifuOF9t3Nc",
        "outputId": "edabfc7b-71ca-4963-deeb-036f458e5383"
      },
      "execution_count": 34,
      "outputs": [
        {
          "output_type": "display_data",
          "data": {
            "text/plain": [
              "<Figure size 700x700 with 1 Axes>"
            ],
            "image/png": "[encoded data removed]"
          },
          "metadata": {}
        }
      ]
    },
    {
      "cell_type": "code",
      "source": [
        "#2.)\n",
        "# Setting y-axis label to K\n",
        "def thousands_format(x, pos):\n",
        "   return '{:.0f}K'.format(x/1000)  \n",
        "\n",
        "# Background\n",
        "sns.set_style('ticks')\n",
        "# Creating a regular plot with seaborn\n",
        "ax = sns.regplot(data = df,\n",
        "                 x = 'Item_MRP',\n",
        "                 y = 'Item_Outlet_Sales',\n",
        "                 line_kws = {'color': 'purple'},\n",
        "                 scatter_kws = {'alpha': 1 ,\n",
        "                                's': 2,}\n",
        "                 );\n",
        "\n",
        "# Creating our Titles and Labels\n",
        "# Title\n",
        "ax.set_title('Correlation between sales and product size')\n",
        "# xlabels\n",
        "ax.set_xlabel('Dollar sales in USD ($)')\n",
        "# ylabels\n",
        "ax.set_ylabel('Total sales')\n",
        "\n",
        "# Setting our formatter from above\n",
        "format = FuncFormatter(thousands_format)\n",
        "# y-axis formatter\n",
        "plt.gca().yaxis.set_major_formatter(format)\n",
        "sns.despine()"
      ],
      "metadata": {
        "colab": {
          "base_uri": "https://localhost:8080/",
          "height": 472
        },
        "id": "q8f5_78A9byx",
        "outputId": "5771720d-0bb6-4f19-8668-7b7149b3f0ba"
      },
      "execution_count": 35,
      "outputs": [
        {
          "output_type": "display_data",
          "data": {
            "text/plain": [
              "<Figure size 640x480 with 1 Axes>"
            ],
            "image/png": "[encoded data removed]"
          },
          "metadata": {}
        }
      ]
    },
    {
      "cell_type": "markdown",
      "source": [
        "# Import the original data set again."
      ],
      "metadata": {
        "id": "VrW3uUuRaEay"
      }
    },
    {
      "cell_type": "code",
      "source": [
        "pathway = '/content/drive/MyDrive/sales_predictions.csv'\n",
        "df2 = pd.read_csv(pathway)\n",
        "df2.head()"
      ],
      "metadata": {
        "colab": {
          "base_uri": "https://localhost:8080/",
          "height": 356
        },
        "id": "hfHBs0noafdk",
        "outputId": "663e5e89-3371-46d5-bc03-ede86525bc67"
      },
      "execution_count": 205,
      "outputs": [
        {
          "output_type": "execute_result",
          "data": {
            "text/plain": [
              "  Item_Identifier  Item_Weight Item_Fat_Content  Item_Visibility  \\\n",
              "0           FDA15         9.30          Low Fat         0.016047   \n",
              "1           DRC01         5.92          Regular         0.019278   \n",
              "2           FDN15        17.50          Low Fat         0.016760   \n",
              "3           FDX07        19.20          Regular         0.000000   \n",
              "4           NCD19         8.93          Low Fat         0.000000   \n",
              "\n",
              "               Item_Type  Item_MRP Outlet_Identifier  \\\n",
              "0                  Dairy  249.8092            OUT049   \n",
              "1            Soft Drinks   48.2692            OUT018   \n",
              "2                   Meat  141.6180            OUT049   \n",
              "3  Fruits and Vegetables  182.0950            OUT010   \n",
              "4              Household   53.8614            OUT013   \n",
              "\n",
              "   Outlet_Establishment_Year Outlet_Size Outlet_Location_Type  \\\n",
              "0                       1999      Medium               Tier 1   \n",
              "1                       2009      Medium               Tier 3   \n",
              "2                       1999      Medium               Tier 1   \n",
              "3                       1998         NaN               Tier 3   \n",
              "4                       1987        High               Tier 3   \n",
              "\n",
              "         Outlet_Type  Item_Outlet_Sales  \n",
              "0  Supermarket Type1          3735.1380  \n",
              "1  Supermarket Type2           443.4228  \n",
              "2  Supermarket Type1          2097.2700  \n",
              "3      Grocery Store           732.3800  \n",
              "4  Supermarket Type1           994.7052  "
            ],
            "text/html": [
              "\n",
              "  <div id=\"df-bd9ac79b-154a-439d-a633-0f4e8cb25429\">\n",
              "    <div class=\"colab-df-container\">\n",
              "      <div>\n",
              "<style scoped>\n",
              "    .dataframe tbody tr th:only-of-type {\n",
              "        vertical-align: middle;\n",
              "    }\n",
              "\n",
              "    .dataframe tbody tr th {\n",
              "        vertical-align: top;\n",
              "    }\n",
              "\n",
              "    .dataframe thead th {\n",
              "        text-align: right;\n",
              "    }\n",
              "</style>\n",
              "<table border=\"1\" class=\"dataframe\">\n",
              "  <thead>\n",
              "    <tr style=\"text-align: right;\">\n",
              "      <th></th>\n",
              "      <th>Item_Identifier</th>\n",
              "      <th>Item_Weight</th>\n",
              "      <th>Item_Fat_Content</th>\n",
              "      <th>Item_Visibility</th>\n",
              "      <th>Item_Type</th>\n",
              "      <th>Item_MRP</th>\n",
              "      <th>Outlet_Identifier</th>\n",
              "      <th>Outlet_Establishment_Year</th>\n",
              "      <th>Outlet_Size</th>\n",
              "      <th>Outlet_Location_Type</th>\n",
              "      <th>Outlet_Type</th>\n",
              "      <th>Item_Outlet_Sales</th>\n",
              "    </tr>\n",
              "  </thead>\n",
              "  <tbody>\n",
              "    <tr>\n",
              "      <th>0</th>\n",
              "      <td>FDA15</td>\n",
              "      <td>9.30</td>\n",
              "      <td>Low Fat</td>\n",
              "      <td>0.016047</td>\n",
              "      <td>Dairy</td>\n",
              "      <td>249.8092</td>\n",
              "      <td>OUT049</td>\n",
              "      <td>1999</td>\n",
              "      <td>Medium</td>\n",
              "      <td>Tier 1</td>\n",
              "      <td>Supermarket Type1</td>\n",
              "      <td>3735.1380</td>\n",
              "    </tr>\n",
              "    <tr>\n",
              "      <th>1</th>\n",
              "      <td>DRC01</td>\n",
              "      <td>5.92</td>\n",
              "      <td>Regular</td>\n",
              "      <td>0.019278</td>\n",
              "      <td>Soft Drinks</td>\n",
              "      <td>48.2692</td>\n",
              "      <td>OUT018</td>\n",
              "      <td>2009</td>\n",
              "      <td>Medium</td>\n",
              "      <td>Tier 3</td>\n",
              "      <td>Supermarket Type2</td>\n",
              "      <td>443.4228</td>\n",
              "    </tr>\n",
              "    <tr>\n",
              "      <th>2</th>\n",
              "      <td>FDN15</td>\n",
              "      <td>17.50</td>\n",
              "      <td>Low Fat</td>\n",
              "      <td>0.016760</td>\n",
              "      <td>Meat</td>\n",
              "      <td>141.6180</td>\n",
              "      <td>OUT049</td>\n",
              "      <td>1999</td>\n",
              "      <td>Medium</td>\n",
              "      <td>Tier 1</td>\n",
              "      <td>Supermarket Type1</td>\n",
              "      <td>2097.2700</td>\n",
              "    </tr>\n",
              "    <tr>\n",
              "      <th>3</th>\n",
              "      <td>FDX07</td>\n",
              "      <td>19.20</td>\n",
              "      <td>Regular</td>\n",
              "      <td>0.000000</td>\n",
              "      <td>Fruits and Vegetables</td>\n",
              "      <td>182.0950</td>\n",
              "      <td>OUT010</td>\n",
              "      <td>1998</td>\n",
              "      <td>NaN</td>\n",
              "      <td>Tier 3</td>\n",
              "      <td>Grocery Store</td>\n",
              "      <td>732.3800</td>\n",
              "    </tr>\n",
              "    <tr>\n",
              "      <th>4</th>\n",
              "      <td>NCD19</td>\n",
              "      <td>8.93</td>\n",
              "      <td>Low Fat</td>\n",
              "      <td>0.000000</td>\n",
              "      <td>Household</td>\n",
              "      <td>53.8614</td>\n",
              "      <td>OUT013</td>\n",
              "      <td>1987</td>\n",
              "      <td>High</td>\n",
              "      <td>Tier 3</td>\n",
              "      <td>Supermarket Type1</td>\n",
              "      <td>994.7052</td>\n",
              "    </tr>\n",
              "  </tbody>\n",
              "</table>\n",
              "</div>\n",
              "      <button class=\"colab-df-convert\" onclick=\"convertToInteractive('df-bd9ac79b-154a-439d-a633-0f4e8cb25429')\"\n",
              "              title=\"Convert this dataframe to an interactive table.\"\n",
              "              style=\"display:none;\">\n",
              "        \n",
              "  <svg xmlns=\"http://www.w3.org/2000/svg\" height=\"24px\"viewBox=\"0 0 24 24\"\n",
              "       width=\"24px\">\n",
              "    <path d=\"M0 0h24v24H0V0z\" fill=\"none\"/>\n",
              "    <path d=\"M18.56 5.44l.94 2.06.94-2.06 2.06-.94-2.06-.94-.94-2.06-.94 2.06-2.06.94zm-11 1L8.5 8.5l.94-2.06 2.06-.94-2.06-.94L8.5 2.5l-.94 2.06-2.06.94zm10 10l.94 2.06.94-2.06 2.06-.94-2.06-.94-.94-2.06-.94 2.06-2.06.94z\"/><path d=\"M17.41 7.96l-1.37-1.37c-.4-.4-.92-.59-1.43-.59-.52 0-1.04.2-1.43.59L10.3 9.45l-7.72 7.72c-.78.78-.78 2.05 0 2.83L4 21.41c.39.39.9.59 1.41.59.51 0 1.02-.2 1.41-.59l7.78-7.78 2.81-2.81c.8-.78.8-2.07 0-2.86zM5.41 20L4 18.59l7.72-7.72 1.47 1.35L5.41 20z\"/>\n",
              "  </svg>\n",
              "      </button>\n",
              "      \n",
              "  <style>\n",
              "    .colab-df-container {\n",
              "      display:flex;\n",
              "      flex-wrap:wrap;\n",
              "      gap: 12px;\n",
              "    }\n",
              "\n",
              "    .colab-df-convert {\n",
              "      background-color: #E8F0FE;\n",
              "      border: none;\n",
              "      border-radius: 50%;\n",
              "      cursor: pointer;\n",
              "      display: none;\n",
              "      fill: #1967D2;\n",
              "      height: 32px;\n",
              "      padding: 0 0 0 0;\n",
              "      width: 32px;\n",
              "    }\n",
              "\n",
              "    .colab-df-convert:hover {\n",
              "      background-color: #E2EBFA;\n",
              "      box-shadow: 0px 1px 2px rgba(60, 64, 67, 0.3), 0px 1px 3px 1px rgba(60, 64, 67, 0.15);\n",
              "      fill: #174EA6;\n",
              "    }\n",
              "\n",
              "    [theme=dark] .colab-df-convert {\n",
              "      background-color: #3B4455;\n",
              "      fill: #D2E3FC;\n",
              "    }\n",
              "\n",
              "    [theme=dark] .colab-df-convert:hover {\n",
              "      background-color: #434B5C;\n",
              "      box-shadow: 0px 1px 3px 1px rgba(0, 0, 0, 0.15);\n",
              "      filter: drop-shadow(0px 1px 2px rgba(0, 0, 0, 0.3));\n",
              "      fill: #FFFFFF;\n",
              "    }\n",
              "  </style>\n",
              "\n",
              "      <script>\n",
              "        const buttonEl =\n",
              "          document.querySelector('#df-bd9ac79b-154a-439d-a633-0f4e8cb25429 button.colab-df-convert');\n",
              "        buttonEl.style.display =\n",
              "          google.colab.kernel.accessAllowed ? 'block' : 'none';\n",
              "\n",
              "        async function convertToInteractive(key) {\n",
              "          const element = document.querySelector('#df-bd9ac79b-154a-439d-a633-0f4e8cb25429');\n",
              "          const dataTable =\n",
              "            await google.colab.kernel.invokeFunction('convertToInteractive',\n",
              "                                                     [key], {});\n",
              "          if (!dataTable) return;\n",
              "\n",
              "          const docLinkHtml = 'Like what you see? Visit the ' +\n",
              "            '<a target=\"_blank\" href=https://colab.research.google.com/notebooks/data_table.ipynb>data table notebook</a>'\n",
              "            + ' to learn more about interactive tables.';\n",
              "          element.innerHTML = '';\n",
              "          dataTable['output_type'] = 'display_data';\n",
              "          await google.colab.output.renderOutput(dataTable, element);\n",
              "          const docLink = document.createElement('div');\n",
              "          docLink.innerHTML = docLinkHtml;\n",
              "          element.appendChild(docLink);\n",
              "        }\n",
              "      </script>\n",
              "    </div>\n",
              "  </div>\n",
              "  "
            ]
          },
          "metadata": {},
          "execution_count": 205
        }
      ]
    },
    {
      "cell_type": "markdown",
      "source": [
        "# Processing steps"
      ],
      "metadata": {
        "id": "8KEiwP_LiAIw"
      }
    },
    {
      "cell_type": "code",
      "source": [
        "df2.info()"
      ],
      "metadata": {
        "colab": {
          "base_uri": "https://localhost:8080/"
        },
        "id": "W7crCWRYhxJy",
        "outputId": "9e517c44-889d-40c7-8fde-87349d1b7187"
      },
      "execution_count": 206,
      "outputs": [
        {
          "output_type": "stream",
          "name": "stdout",
          "text": [
            "<class 'pandas.core.frame.DataFrame'>\n",
            "RangeIndex: 8523 entries, 0 to 8522\n",
            "Data columns (total 12 columns):\n",
            " #   Column                     Non-Null Count  Dtype  \n",
            "---  ------                     --------------  -----  \n",
            " 0   Item_Identifier            8523 non-null   object \n",
            " 1   Item_Weight                7060 non-null   float64\n",
            " 2   Item_Fat_Content           8523 non-null   object \n",
            " 3   Item_Visibility            8523 non-null   float64\n",
            " 4   Item_Type                  8523 non-null   object \n",
            " 5   Item_MRP                   8523 non-null   float64\n",
            " 6   Outlet_Identifier          8523 non-null   object \n",
            " 7   Outlet_Establishment_Year  8523 non-null   int64  \n",
            " 8   Outlet_Size                6113 non-null   object \n",
            " 9   Outlet_Location_Type       8523 non-null   object \n",
            " 10  Outlet_Type                8523 non-null   object \n",
            " 11  Item_Outlet_Sales          8523 non-null   float64\n",
            "dtypes: float64(4), int64(1), object(7)\n",
            "memory usage: 799.2+ KB\n"
          ]
        }
      ]
    },
    {
      "cell_type": "code",
      "source": [
        "# Check for duplicates\n",
        "df2.duplicated().sum()"
      ],
      "metadata": {
        "colab": {
          "base_uri": "https://localhost:8080/"
        },
        "id": "u1qpPnb84JQC",
        "outputId": "9e697dae-e9c2-4324-ea6f-79719c3622ff"
      },
      "execution_count": 207,
      "outputs": [
        {
          "output_type": "execute_result",
          "data": {
            "text/plain": [
              "0"
            ]
          },
          "metadata": {},
          "execution_count": 207
        }
      ]
    },
    {
      "cell_type": "code",
      "source": [
        "# check .value_counts for inconsistencies in categorical data\n",
        "for column in df2.select_dtypes(include = 'object'):\n",
        "  print(f\"{column} value counts: \\n{df[column].value_counts()}\\n\")"
      ],
      "metadata": {
        "colab": {
          "base_uri": "https://localhost:8080/"
        },
        "id": "XXGsQSIo_Xsn",
        "outputId": "62db1116-370d-4396-bc39-f90d21925ecd"
      },
      "execution_count": 208,
      "outputs": [
        {
          "output_type": "stream",
          "name": "stdout",
          "text": [
            "Item_Identifier value counts: \n",
            "FDW13    10\n",
            "FDG33    10\n",
            "NCY18     9\n",
            "FDD38     9\n",
            "DRE49     9\n",
            "         ..\n",
            "FDY43     1\n",
            "FDQ60     1\n",
            "FDO33     1\n",
            "DRF48     1\n",
            "FDC23     1\n",
            "Name: Item_Identifier, Length: 1559, dtype: int64\n",
            "\n",
            "Item_Fat_Content value counts: \n",
            "Low Fat    5517\n",
            "Regular    3006\n",
            "Name: Item_Fat_Content, dtype: int64\n",
            "\n",
            "Item_Type value counts: \n",
            "Fruits and Vegetables    1232\n",
            "Snack Foods              1200\n",
            "Household                 910\n",
            "Frozen Foods              856\n",
            "Dairy                     682\n",
            "Canned                    649\n",
            "Baking Goods              648\n",
            "Health and Hygiene        520\n",
            "Soft Drinks               445\n",
            "Meat                      425\n",
            "Breads                    251\n",
            "Hard Drinks               214\n",
            "Others                    169\n",
            "Starchy Foods             148\n",
            "Breakfast                 110\n",
            "Seafood                    64\n",
            "Name: Item_Type, dtype: int64\n",
            "\n",
            "Outlet_Identifier value counts: \n",
            "OUT027    935\n",
            "OUT013    932\n",
            "OUT049    930\n",
            "OUT046    930\n",
            "OUT035    930\n",
            "OUT045    929\n",
            "OUT018    928\n",
            "OUT017    926\n",
            "OUT010    555\n",
            "OUT019    528\n",
            "Name: Outlet_Identifier, dtype: int64\n",
            "\n",
            "Outlet_Size value counts: \n",
            "2          2793\n",
            "Unknown    2410\n",
            "1          2388\n",
            "Large       932\n",
            "Name: Outlet_Size, dtype: int64\n",
            "\n",
            "Outlet_Location_Type value counts: \n",
            "Tier 3    3350\n",
            "Tier 2    2785\n",
            "Tier 1    2388\n",
            "Name: Outlet_Location_Type, dtype: int64\n",
            "\n",
            "Outlet_Type value counts: \n",
            "Supermarket Type1    5577\n",
            "Grocery Store        1083\n",
            "Supermarket Type3     935\n",
            "Supermarket Type2     928\n",
            "Name: Outlet_Type, dtype: int64\n",
            "\n"
          ]
        }
      ]
    },
    {
      "cell_type": "code",
      "source": [
        "#  fix Item_Fat_Content inconsistencies\n",
        "df2.replace({'LF': 'Low Fat', \n",
        "            'reg': 'Regular', \n",
        "            'low fat': 'Low Fat'},\n",
        "           inplace = True)"
      ],
      "metadata": {
        "id": "4OHnrUU5_kD1"
      },
      "execution_count": 209,
      "outputs": []
    },
    {
      "cell_type": "code",
      "source": [
        "# check for correction\n",
        "df2['Item_Fat_Content'].value_counts()"
      ],
      "metadata": {
        "colab": {
          "base_uri": "https://localhost:8080/"
        },
        "id": "O_pA2H48_rTZ",
        "outputId": "e9e8bc08-c4ad-409c-cfcc-71f17302b650"
      },
      "execution_count": 210,
      "outputs": [
        {
          "output_type": "execute_result",
          "data": {
            "text/plain": [
              "Low Fat    5517\n",
              "Regular    3006\n",
              "Name: Item_Fat_Content, dtype: int64"
            ]
          },
          "metadata": {},
          "execution_count": 210
        }
      ]
    },
    {
      "cell_type": "markdown",
      "source": [
        "# Encode ordinal data"
      ],
      "metadata": {
        "id": "xgiOe8IMvjYD"
      }
    },
    {
      "cell_type": "code",
      "source": [
        "# Object data\n",
        "df2.describe(include = 'object')"
      ],
      "metadata": {
        "id": "F7jk1au0u9J0",
        "outputId": "0b6ba103-ed57-4a3c-b5a7-abac13839709",
        "colab": {
          "base_uri": "https://localhost:8080/",
          "height": 174
        }
      },
      "execution_count": 211,
      "outputs": [
        {
          "output_type": "execute_result",
          "data": {
            "text/plain": [
              "       Item_Identifier Item_Fat_Content              Item_Type  \\\n",
              "count             8523             8523                   8523   \n",
              "unique            1559                2                     16   \n",
              "top              FDW13          Low Fat  Fruits and Vegetables   \n",
              "freq                10             5517                   1232   \n",
              "\n",
              "       Outlet_Identifier Outlet_Size Outlet_Location_Type        Outlet_Type  \n",
              "count               8523        6113                 8523               8523  \n",
              "unique                10           3                    3                  4  \n",
              "top               OUT027      Medium               Tier 3  Supermarket Type1  \n",
              "freq                 935        2793                 3350               5577  "
            ],
            "text/html": [
              "\n",
              "  <div id=\"df-1283a232-69ec-4157-9730-971d66f03fd6\">\n",
              "    <div class=\"colab-df-container\">\n",
              "      <div>\n",
              "<style scoped>\n",
              "    .dataframe tbody tr th:only-of-type {\n",
              "        vertical-align: middle;\n",
              "    }\n",
              "\n",
              "    .dataframe tbody tr th {\n",
              "        vertical-align: top;\n",
              "    }\n",
              "\n",
              "    .dataframe thead th {\n",
              "        text-align: right;\n",
              "    }\n",
              "</style>\n",
              "<table border=\"1\" class=\"dataframe\">\n",
              "  <thead>\n",
              "    <tr style=\"text-align: right;\">\n",
              "      <th></th>\n",
              "      <th>Item_Identifier</th>\n",
              "      <th>Item_Fat_Content</th>\n",
              "      <th>Item_Type</th>\n",
              "      <th>Outlet_Identifier</th>\n",
              "      <th>Outlet_Size</th>\n",
              "      <th>Outlet_Location_Type</th>\n",
              "      <th>Outlet_Type</th>\n",
              "    </tr>\n",
              "  </thead>\n",
              "  <tbody>\n",
              "    <tr>\n",
              "      <th>count</th>\n",
              "      <td>8523</td>\n",
              "      <td>8523</td>\n",
              "      <td>8523</td>\n",
              "      <td>8523</td>\n",
              "      <td>6113</td>\n",
              "      <td>8523</td>\n",
              "      <td>8523</td>\n",
              "    </tr>\n",
              "    <tr>\n",
              "      <th>unique</th>\n",
              "      <td>1559</td>\n",
              "      <td>2</td>\n",
              "      <td>16</td>\n",
              "      <td>10</td>\n",
              "      <td>3</td>\n",
              "      <td>3</td>\n",
              "      <td>4</td>\n",
              "    </tr>\n",
              "    <tr>\n",
              "      <th>top</th>\n",
              "      <td>FDW13</td>\n",
              "      <td>Low Fat</td>\n",
              "      <td>Fruits and Vegetables</td>\n",
              "      <td>OUT027</td>\n",
              "      <td>Medium</td>\n",
              "      <td>Tier 3</td>\n",
              "      <td>Supermarket Type1</td>\n",
              "    </tr>\n",
              "    <tr>\n",
              "      <th>freq</th>\n",
              "      <td>10</td>\n",
              "      <td>5517</td>\n",
              "      <td>1232</td>\n",
              "      <td>935</td>\n",
              "      <td>2793</td>\n",
              "      <td>3350</td>\n",
              "      <td>5577</td>\n",
              "    </tr>\n",
              "  </tbody>\n",
              "</table>\n",
              "</div>\n",
              "      <button class=\"colab-df-convert\" onclick=\"convertToInteractive('df-1283a232-69ec-4157-9730-971d66f03fd6')\"\n",
              "              title=\"Convert this dataframe to an interactive table.\"\n",
              "              style=\"display:none;\">\n",
              "        \n",
              "  <svg xmlns=\"http://www.w3.org/2000/svg\" height=\"24px\"viewBox=\"0 0 24 24\"\n",
              "       width=\"24px\">\n",
              "    <path d=\"M0 0h24v24H0V0z\" fill=\"none\"/>\n",
              "    <path d=\"M18.56 5.44l.94 2.06.94-2.06 2.06-.94-2.06-.94-.94-2.06-.94 2.06-2.06.94zm-11 1L8.5 8.5l.94-2.06 2.06-.94-2.06-.94L8.5 2.5l-.94 2.06-2.06.94zm10 10l.94 2.06.94-2.06 2.06-.94-2.06-.94-.94-2.06-.94 2.06-2.06.94z\"/><path d=\"M17.41 7.96l-1.37-1.37c-.4-.4-.92-.59-1.43-.59-.52 0-1.04.2-1.43.59L10.3 9.45l-7.72 7.72c-.78.78-.78 2.05 0 2.83L4 21.41c.39.39.9.59 1.41.59.51 0 1.02-.2 1.41-.59l7.78-7.78 2.81-2.81c.8-.78.8-2.07 0-2.86zM5.41 20L4 18.59l7.72-7.72 1.47 1.35L5.41 20z\"/>\n",
              "  </svg>\n",
              "      </button>\n",
              "      \n",
              "  <style>\n",
              "    .colab-df-container {\n",
              "      display:flex;\n",
              "      flex-wrap:wrap;\n",
              "      gap: 12px;\n",
              "    }\n",
              "\n",
              "    .colab-df-convert {\n",
              "      background-color: #E8F0FE;\n",
              "      border: none;\n",
              "      border-radius: 50%;\n",
              "      cursor: pointer;\n",
              "      display: none;\n",
              "      fill: #1967D2;\n",
              "      height: 32px;\n",
              "      padding: 0 0 0 0;\n",
              "      width: 32px;\n",
              "    }\n",
              "\n",
              "    .colab-df-convert:hover {\n",
              "      background-color: #E2EBFA;\n",
              "      box-shadow: 0px 1px 2px rgba(60, 64, 67, 0.3), 0px 1px 3px 1px rgba(60, 64, 67, 0.15);\n",
              "      fill: #174EA6;\n",
              "    }\n",
              "\n",
              "    [theme=dark] .colab-df-convert {\n",
              "      background-color: #3B4455;\n",
              "      fill: #D2E3FC;\n",
              "    }\n",
              "\n",
              "    [theme=dark] .colab-df-convert:hover {\n",
              "      background-color: #434B5C;\n",
              "      box-shadow: 0px 1px 3px 1px rgba(0, 0, 0, 0.15);\n",
              "      filter: drop-shadow(0px 1px 2px rgba(0, 0, 0, 0.3));\n",
              "      fill: #FFFFFF;\n",
              "    }\n",
              "  </style>\n",
              "\n",
              "      <script>\n",
              "        const buttonEl =\n",
              "          document.querySelector('#df-1283a232-69ec-4157-9730-971d66f03fd6 button.colab-df-convert');\n",
              "        buttonEl.style.display =\n",
              "          google.colab.kernel.accessAllowed ? 'block' : 'none';\n",
              "\n",
              "        async function convertToInteractive(key) {\n",
              "          const element = document.querySelector('#df-1283a232-69ec-4157-9730-971d66f03fd6');\n",
              "          const dataTable =\n",
              "            await google.colab.kernel.invokeFunction('convertToInteractive',\n",
              "                                                     [key], {});\n",
              "          if (!dataTable) return;\n",
              "\n",
              "          const docLinkHtml = 'Like what you see? Visit the ' +\n",
              "            '<a target=\"_blank\" href=https://colab.research.google.com/notebooks/data_table.ipynb>data table notebook</a>'\n",
              "            + ' to learn more about interactive tables.';\n",
              "          element.innerHTML = '';\n",
              "          dataTable['output_type'] = 'display_data';\n",
              "          await google.colab.output.renderOutput(dataTable, element);\n",
              "          const docLink = document.createElement('div');\n",
              "          docLink.innerHTML = docLinkHtml;\n",
              "          element.appendChild(docLink);\n",
              "        }\n",
              "      </script>\n",
              "    </div>\n",
              "  </div>\n",
              "  "
            ]
          },
          "metadata": {},
          "execution_count": 211
        }
      ]
    },
    {
      "cell_type": "code",
      "source": [
        "# Numeric data\n",
        "df2.describe(include = 'number')"
      ],
      "metadata": {
        "id": "c6GF6yZQv5an",
        "outputId": "b156343f-3dbb-4947-94a0-34df03a1111d",
        "colab": {
          "base_uri": "https://localhost:8080/",
          "height": 300
        }
      },
      "execution_count": 212,
      "outputs": [
        {
          "output_type": "execute_result",
          "data": {
            "text/plain": [
              "       Item_Weight  Item_Visibility     Item_MRP  Outlet_Establishment_Year  \\\n",
              "count  7060.000000      8523.000000  8523.000000                8523.000000   \n",
              "mean     12.857645         0.066132   140.992782                1997.831867   \n",
              "std       4.643456         0.051598    62.275067                   8.371760   \n",
              "min       4.555000         0.000000    31.290000                1985.000000   \n",
              "25%       8.773750         0.026989    93.826500                1987.000000   \n",
              "50%      12.600000         0.053931   143.012800                1999.000000   \n",
              "75%      16.850000         0.094585   185.643700                2004.000000   \n",
              "max      21.350000         0.328391   266.888400                2009.000000   \n",
              "\n",
              "       Item_Outlet_Sales  \n",
              "count        8523.000000  \n",
              "mean         2181.288914  \n",
              "std          1706.499616  \n",
              "min            33.290000  \n",
              "25%           834.247400  \n",
              "50%          1794.331000  \n",
              "75%          3101.296400  \n",
              "max         13086.964800  "
            ],
            "text/html": [
              "\n",
              "  <div id=\"df-bfeea512-62a6-4399-ad21-53b9783b411b\">\n",
              "    <div class=\"colab-df-container\">\n",
              "      <div>\n",
              "<style scoped>\n",
              "    .dataframe tbody tr th:only-of-type {\n",
              "        vertical-align: middle;\n",
              "    }\n",
              "\n",
              "    .dataframe tbody tr th {\n",
              "        vertical-align: top;\n",
              "    }\n",
              "\n",
              "    .dataframe thead th {\n",
              "        text-align: right;\n",
              "    }\n",
              "</style>\n",
              "<table border=\"1\" class=\"dataframe\">\n",
              "  <thead>\n",
              "    <tr style=\"text-align: right;\">\n",
              "      <th></th>\n",
              "      <th>Item_Weight</th>\n",
              "      <th>Item_Visibility</th>\n",
              "      <th>Item_MRP</th>\n",
              "      <th>Outlet_Establishment_Year</th>\n",
              "      <th>Item_Outlet_Sales</th>\n",
              "    </tr>\n",
              "  </thead>\n",
              "  <tbody>\n",
              "    <tr>\n",
              "      <th>count</th>\n",
              "      <td>7060.000000</td>\n",
              "      <td>8523.000000</td>\n",
              "      <td>8523.000000</td>\n",
              "      <td>8523.000000</td>\n",
              "      <td>8523.000000</td>\n",
              "    </tr>\n",
              "    <tr>\n",
              "      <th>mean</th>\n",
              "      <td>12.857645</td>\n",
              "      <td>0.066132</td>\n",
              "      <td>140.992782</td>\n",
              "      <td>1997.831867</td>\n",
              "      <td>2181.288914</td>\n",
              "    </tr>\n",
              "    <tr>\n",
              "      <th>std</th>\n",
              "      <td>4.643456</td>\n",
              "      <td>0.051598</td>\n",
              "      <td>62.275067</td>\n",
              "      <td>8.371760</td>\n",
              "      <td>1706.499616</td>\n",
              "    </tr>\n",
              "    <tr>\n",
              "      <th>min</th>\n",
              "      <td>4.555000</td>\n",
              "      <td>0.000000</td>\n",
              "      <td>31.290000</td>\n",
              "      <td>1985.000000</td>\n",
              "      <td>33.290000</td>\n",
              "    </tr>\n",
              "    <tr>\n",
              "      <th>25%</th>\n",
              "      <td>8.773750</td>\n",
              "      <td>0.026989</td>\n",
              "      <td>93.826500</td>\n",
              "      <td>1987.000000</td>\n",
              "      <td>834.247400</td>\n",
              "    </tr>\n",
              "    <tr>\n",
              "      <th>50%</th>\n",
              "      <td>12.600000</td>\n",
              "      <td>0.053931</td>\n",
              "      <td>143.012800</td>\n",
              "      <td>1999.000000</td>\n",
              "      <td>1794.331000</td>\n",
              "    </tr>\n",
              "    <tr>\n",
              "      <th>75%</th>\n",
              "      <td>16.850000</td>\n",
              "      <td>0.094585</td>\n",
              "      <td>185.643700</td>\n",
              "      <td>2004.000000</td>\n",
              "      <td>3101.296400</td>\n",
              "    </tr>\n",
              "    <tr>\n",
              "      <th>max</th>\n",
              "      <td>21.350000</td>\n",
              "      <td>0.328391</td>\n",
              "      <td>266.888400</td>\n",
              "      <td>2009.000000</td>\n",
              "      <td>13086.964800</td>\n",
              "    </tr>\n",
              "  </tbody>\n",
              "</table>\n",
              "</div>\n",
              "      <button class=\"colab-df-convert\" onclick=\"convertToInteractive('df-bfeea512-62a6-4399-ad21-53b9783b411b')\"\n",
              "              title=\"Convert this dataframe to an interactive table.\"\n",
              "              style=\"display:none;\">\n",
              "        \n",
              "  <svg xmlns=\"http://www.w3.org/2000/svg\" height=\"24px\"viewBox=\"0 0 24 24\"\n",
              "       width=\"24px\">\n",
              "    <path d=\"M0 0h24v24H0V0z\" fill=\"none\"/>\n",
              "    <path d=\"M18.56 5.44l.94 2.06.94-2.06 2.06-.94-2.06-.94-.94-2.06-.94 2.06-2.06.94zm-11 1L8.5 8.5l.94-2.06 2.06-.94-2.06-.94L8.5 2.5l-.94 2.06-2.06.94zm10 10l.94 2.06.94-2.06 2.06-.94-2.06-.94-.94-2.06-.94 2.06-2.06.94z\"/><path d=\"M17.41 7.96l-1.37-1.37c-.4-.4-.92-.59-1.43-.59-.52 0-1.04.2-1.43.59L10.3 9.45l-7.72 7.72c-.78.78-.78 2.05 0 2.83L4 21.41c.39.39.9.59 1.41.59.51 0 1.02-.2 1.41-.59l7.78-7.78 2.81-2.81c.8-.78.8-2.07 0-2.86zM5.41 20L4 18.59l7.72-7.72 1.47 1.35L5.41 20z\"/>\n",
              "  </svg>\n",
              "      </button>\n",
              "      \n",
              "  <style>\n",
              "    .colab-df-container {\n",
              "      display:flex;\n",
              "      flex-wrap:wrap;\n",
              "      gap: 12px;\n",
              "    }\n",
              "\n",
              "    .colab-df-convert {\n",
              "      background-color: #E8F0FE;\n",
              "      border: none;\n",
              "      border-radius: 50%;\n",
              "      cursor: pointer;\n",
              "      display: none;\n",
              "      fill: #1967D2;\n",
              "      height: 32px;\n",
              "      padding: 0 0 0 0;\n",
              "      width: 32px;\n",
              "    }\n",
              "\n",
              "    .colab-df-convert:hover {\n",
              "      background-color: #E2EBFA;\n",
              "      box-shadow: 0px 1px 2px rgba(60, 64, 67, 0.3), 0px 1px 3px 1px rgba(60, 64, 67, 0.15);\n",
              "      fill: #174EA6;\n",
              "    }\n",
              "\n",
              "    [theme=dark] .colab-df-convert {\n",
              "      background-color: #3B4455;\n",
              "      fill: #D2E3FC;\n",
              "    }\n",
              "\n",
              "    [theme=dark] .colab-df-convert:hover {\n",
              "      background-color: #434B5C;\n",
              "      box-shadow: 0px 1px 3px 1px rgba(0, 0, 0, 0.15);\n",
              "      filter: drop-shadow(0px 1px 2px rgba(0, 0, 0, 0.3));\n",
              "      fill: #FFFFFF;\n",
              "    }\n",
              "  </style>\n",
              "\n",
              "      <script>\n",
              "        const buttonEl =\n",
              "          document.querySelector('#df-bfeea512-62a6-4399-ad21-53b9783b411b button.colab-df-convert');\n",
              "        buttonEl.style.display =\n",
              "          google.colab.kernel.accessAllowed ? 'block' : 'none';\n",
              "\n",
              "        async function convertToInteractive(key) {\n",
              "          const element = document.querySelector('#df-bfeea512-62a6-4399-ad21-53b9783b411b');\n",
              "          const dataTable =\n",
              "            await google.colab.kernel.invokeFunction('convertToInteractive',\n",
              "                                                     [key], {});\n",
              "          if (!dataTable) return;\n",
              "\n",
              "          const docLinkHtml = 'Like what you see? Visit the ' +\n",
              "            '<a target=\"_blank\" href=https://colab.research.google.com/notebooks/data_table.ipynb>data table notebook</a>'\n",
              "            + ' to learn more about interactive tables.';\n",
              "          element.innerHTML = '';\n",
              "          dataTable['output_type'] = 'display_data';\n",
              "          await google.colab.output.renderOutput(dataTable, element);\n",
              "          const docLink = document.createElement('div');\n",
              "          docLink.innerHTML = docLinkHtml;\n",
              "          element.appendChild(docLink);\n",
              "        }\n",
              "      </script>\n",
              "    </div>\n",
              "  </div>\n",
              "  "
            ]
          },
          "metadata": {},
          "execution_count": 212
        }
      ]
    },
    {
      "cell_type": "markdown",
      "source": [
        "Categorical columns:      Numeric columns:\n",
        "\n",
        "-Item_Identifier          \n",
        "\n",
        "-Item_Fat_Content\n",
        "\n",
        "-Item_Type\t\n",
        "\n",
        "-Outlet_Identifier\t\n",
        "\n",
        "-Outlet_Size\n",
        "\n",
        "-Outlet_Location_Type\n",
        "\n",
        "-Outlet_Type\n",
        "\n",
        "Numeric columns:\n",
        "\n",
        "-Item_Weight\t\n",
        "\n",
        "-Item_Visibility\n",
        "\n",
        "-Item_MRP\t\n",
        "\n",
        "-Outlet_Establishment_Year\n",
        "\n",
        "-Item_Outlet_Sales\n",
        "\n",
        "Ordinal columns:\n",
        "\n",
        "-Outlet_Size"
      ],
      "metadata": {
        "id": "zZPRycETwePd"
      }
    },
    {
      "cell_type": "code",
      "source": [
        "df2.drop(columns = 'Item_Identifier', inplace = True)\n",
        "df2.columns"
      ],
      "metadata": {
        "outputId": "0f51005d-c5b9-435f-f4c5-cee0182c334d",
        "colab": {
          "base_uri": "https://localhost:8080/"
        },
        "id": "mQ4Bwm5V6DGm"
      },
      "execution_count": 213,
      "outputs": [
        {
          "output_type": "execute_result",
          "data": {
            "text/plain": [
              "Index(['Item_Weight', 'Item_Fat_Content', 'Item_Visibility', 'Item_Type',\n",
              "       'Item_MRP', 'Outlet_Identifier', 'Outlet_Establishment_Year',\n",
              "       'Outlet_Size', 'Outlet_Location_Type', 'Outlet_Type',\n",
              "       'Item_Outlet_Sales'],\n",
              "      dtype='object')"
            ]
          },
          "metadata": {},
          "execution_count": 213
        }
      ]
    },
    {
      "cell_type": "code",
      "source": [
        "# check values of Outlet_Size\n",
        "df2['Outlet_Size'].value_counts()"
      ],
      "metadata": {
        "id": "zUBl3ABG4eKH",
        "outputId": "9b5c498f-4233-4ca3-fa7e-fa70f6a38468",
        "colab": {
          "base_uri": "https://localhost:8080/"
        }
      },
      "execution_count": 214,
      "outputs": [
        {
          "output_type": "execute_result",
          "data": {
            "text/plain": [
              "Medium    2793\n",
              "Small     2388\n",
              "High       932\n",
              "Name: Outlet_Size, dtype: int64"
            ]
          },
          "metadata": {},
          "execution_count": 214
        }
      ]
    },
    {
      "cell_type": "code",
      "source": [
        "# Put the Outlet_size in order\n",
        "replacement_dictionary = {'Small': 1,\n",
        "                          'Medium': 2, 'High': 3}"
      ],
      "metadata": {
        "id": "31WdoLEG7zVM"
      },
      "execution_count": 215,
      "outputs": []
    },
    {
      "cell_type": "code",
      "source": [
        "# Replace strings\n",
        "df['Outlet_Size'].replace(replacement_dictionary, \n",
        "                          inplace = True)"
      ],
      "metadata": {
        "id": "FcfMjtNp8IIY"
      },
      "execution_count": 216,
      "outputs": []
    },
    {
      "cell_type": "code",
      "source": [
        "# check new data\n",
        "df2['Outlet_Size']"
      ],
      "metadata": {
        "id": "07wFpN7-8RCg",
        "outputId": "564b4e4e-8791-4c20-cca5-a34b733a9cbc",
        "colab": {
          "base_uri": "https://localhost:8080/"
        }
      },
      "execution_count": 217,
      "outputs": [
        {
          "output_type": "execute_result",
          "data": {
            "text/plain": [
              "0       Medium\n",
              "1       Medium\n",
              "2       Medium\n",
              "3          NaN\n",
              "4         High\n",
              "         ...  \n",
              "8518      High\n",
              "8519       NaN\n",
              "8520     Small\n",
              "8521    Medium\n",
              "8522     Small\n",
              "Name: Outlet_Size, Length: 8523, dtype: object"
            ]
          },
          "metadata": {},
          "execution_count": 217
        }
      ]
    },
    {
      "cell_type": "markdown",
      "source": [
        "# Our data is now clean left with no duplicates/misspellings.\n",
        "\n"
      ],
      "metadata": {
        "id": "blAANHX34EcW"
      }
    },
    {
      "cell_type": "markdown",
      "source": [
        "# Identify the features (X) and target (y) and split data."
      ],
      "metadata": {
        "id": "0Avk2Yk_4ee5"
      }
    },
    {
      "cell_type": "code",
      "source": [
        "# set target\n",
        "target = 'Item_Outlet_Sales' "
      ],
      "metadata": {
        "id": "vOYZtlEbvHga"
      },
      "execution_count": 218,
      "outputs": []
    },
    {
      "cell_type": "code",
      "source": [
        "y = df2[target]"
      ],
      "metadata": {
        "id": "ggvsp2OPKcpt"
      },
      "execution_count": 219,
      "outputs": []
    },
    {
      "cell_type": "code",
      "source": [
        "X = df2.drop(columns = target)"
      ],
      "metadata": {
        "id": "qoEtDD034iR3"
      },
      "execution_count": 220,
      "outputs": []
    },
    {
      "cell_type": "code",
      "source": [
        "# check X\n",
        "X"
      ],
      "metadata": {
        "colab": {
          "base_uri": "https://localhost:8080/",
          "height": 641
        },
        "id": "PqybCgcB6Be2",
        "outputId": "85c6418c-4a7e-4af4-8182-e8b032c7f61a"
      },
      "execution_count": 221,
      "outputs": [
        {
          "output_type": "execute_result",
          "data": {
            "text/plain": [
              "      Item_Weight Item_Fat_Content  Item_Visibility              Item_Type  \\\n",
              "0           9.300          Low Fat         0.016047                  Dairy   \n",
              "1           5.920          Regular         0.019278            Soft Drinks   \n",
              "2          17.500          Low Fat         0.016760                   Meat   \n",
              "3          19.200          Regular         0.000000  Fruits and Vegetables   \n",
              "4           8.930          Low Fat         0.000000              Household   \n",
              "...           ...              ...              ...                    ...   \n",
              "8518        6.865          Low Fat         0.056783            Snack Foods   \n",
              "8519        8.380          Regular         0.046982           Baking Goods   \n",
              "8520       10.600          Low Fat         0.035186     Health and Hygiene   \n",
              "8521        7.210          Regular         0.145221            Snack Foods   \n",
              "8522       14.800          Low Fat         0.044878            Soft Drinks   \n",
              "\n",
              "      Item_MRP Outlet_Identifier  Outlet_Establishment_Year Outlet_Size  \\\n",
              "0     249.8092            OUT049                       1999      Medium   \n",
              "1      48.2692            OUT018                       2009      Medium   \n",
              "2     141.6180            OUT049                       1999      Medium   \n",
              "3     182.0950            OUT010                       1998         NaN   \n",
              "4      53.8614            OUT013                       1987        High   \n",
              "...        ...               ...                        ...         ...   \n",
              "8518  214.5218            OUT013                       1987        High   \n",
              "8519  108.1570            OUT045                       2002         NaN   \n",
              "8520   85.1224            OUT035                       2004       Small   \n",
              "8521  103.1332            OUT018                       2009      Medium   \n",
              "8522   75.4670            OUT046                       1997       Small   \n",
              "\n",
              "     Outlet_Location_Type        Outlet_Type  \n",
              "0                  Tier 1  Supermarket Type1  \n",
              "1                  Tier 3  Supermarket Type2  \n",
              "2                  Tier 1  Supermarket Type1  \n",
              "3                  Tier 3      Grocery Store  \n",
              "4                  Tier 3  Supermarket Type1  \n",
              "...                   ...                ...  \n",
              "8518               Tier 3  Supermarket Type1  \n",
              "8519               Tier 2  Supermarket Type1  \n",
              "8520               Tier 2  Supermarket Type1  \n",
              "8521               Tier 3  Supermarket Type2  \n",
              "8522               Tier 1  Supermarket Type1  \n",
              "\n",
              "[8523 rows x 10 columns]"
            ],
            "text/html": [
              "\n",
              "  <div id=\"df-c1957047-a962-4997-b1c8-a99dc25e2d03\">\n",
              "    <div class=\"colab-df-container\">\n",
              "      <div>\n",
              "<style scoped>\n",
              "    .dataframe tbody tr th:only-of-type {\n",
              "        vertical-align: middle;\n",
              "    }\n",
              "\n",
              "    .dataframe tbody tr th {\n",
              "        vertical-align: top;\n",
              "    }\n",
              "\n",
              "    .dataframe thead th {\n",
              "        text-align: right;\n",
              "    }\n",
              "</style>\n",
              "<table border=\"1\" class=\"dataframe\">\n",
              "  <thead>\n",
              "    <tr style=\"text-align: right;\">\n",
              "      <th></th>\n",
              "      <th>Item_Weight</th>\n",
              "      <th>Item_Fat_Content</th>\n",
              "      <th>Item_Visibility</th>\n",
              "      <th>Item_Type</th>\n",
              "      <th>Item_MRP</th>\n",
              "      <th>Outlet_Identifier</th>\n",
              "      <th>Outlet_Establishment_Year</th>\n",
              "      <th>Outlet_Size</th>\n",
              "      <th>Outlet_Location_Type</th>\n",
              "      <th>Outlet_Type</th>\n",
              "    </tr>\n",
              "  </thead>\n",
              "  <tbody>\n",
              "    <tr>\n",
              "      <th>0</th>\n",
              "      <td>9.300</td>\n",
              "      <td>Low Fat</td>\n",
              "      <td>0.016047</td>\n",
              "      <td>Dairy</td>\n",
              "      <td>249.8092</td>\n",
              "      <td>OUT049</td>\n",
              "      <td>1999</td>\n",
              "      <td>Medium</td>\n",
              "      <td>Tier 1</td>\n",
              "      <td>Supermarket Type1</td>\n",
              "    </tr>\n",
              "    <tr>\n",
              "      <th>1</th>\n",
              "      <td>5.920</td>\n",
              "      <td>Regular</td>\n",
              "      <td>0.019278</td>\n",
              "      <td>Soft Drinks</td>\n",
              "      <td>48.2692</td>\n",
              "      <td>OUT018</td>\n",
              "      <td>2009</td>\n",
              "      <td>Medium</td>\n",
              "      <td>Tier 3</td>\n",
              "      <td>Supermarket Type2</td>\n",
              "    </tr>\n",
              "    <tr>\n",
              "      <th>2</th>\n",
              "      <td>17.500</td>\n",
              "      <td>Low Fat</td>\n",
              "      <td>0.016760</td>\n",
              "      <td>Meat</td>\n",
              "      <td>141.6180</td>\n",
              "      <td>OUT049</td>\n",
              "      <td>1999</td>\n",
              "      <td>Medium</td>\n",
              "      <td>Tier 1</td>\n",
              "      <td>Supermarket Type1</td>\n",
              "    </tr>\n",
              "    <tr>\n",
              "      <th>3</th>\n",
              "      <td>19.200</td>\n",
              "      <td>Regular</td>\n",
              "      <td>0.000000</td>\n",
              "      <td>Fruits and Vegetables</td>\n",
              "      <td>182.0950</td>\n",
              "      <td>OUT010</td>\n",
              "      <td>1998</td>\n",
              "      <td>NaN</td>\n",
              "      <td>Tier 3</td>\n",
              "      <td>Grocery Store</td>\n",
              "    </tr>\n",
              "    <tr>\n",
              "      <th>4</th>\n",
              "      <td>8.930</td>\n",
              "      <td>Low Fat</td>\n",
              "      <td>0.000000</td>\n",
              "      <td>Household</td>\n",
              "      <td>53.8614</td>\n",
              "      <td>OUT013</td>\n",
              "      <td>1987</td>\n",
              "      <td>High</td>\n",
              "      <td>Tier 3</td>\n",
              "      <td>Supermarket Type1</td>\n",
              "    </tr>\n",
              "    <tr>\n",
              "      <th>...</th>\n",
              "      <td>...</td>\n",
              "      <td>...</td>\n",
              "      <td>...</td>\n",
              "      <td>...</td>\n",
              "      <td>...</td>\n",
              "      <td>...</td>\n",
              "      <td>...</td>\n",
              "      <td>...</td>\n",
              "      <td>...</td>\n",
              "      <td>...</td>\n",
              "    </tr>\n",
              "    <tr>\n",
              "      <th>8518</th>\n",
              "      <td>6.865</td>\n",
              "      <td>Low Fat</td>\n",
              "      <td>0.056783</td>\n",
              "      <td>Snack Foods</td>\n",
              "      <td>214.5218</td>\n",
              "      <td>OUT013</td>\n",
              "      <td>1987</td>\n",
              "      <td>High</td>\n",
              "      <td>Tier 3</td>\n",
              "      <td>Supermarket Type1</td>\n",
              "    </tr>\n",
              "    <tr>\n",
              "      <th>8519</th>\n",
              "      <td>8.380</td>\n",
              "      <td>Regular</td>\n",
              "      <td>0.046982</td>\n",
              "      <td>Baking Goods</td>\n",
              "      <td>108.1570</td>\n",
              "      <td>OUT045</td>\n",
              "      <td>2002</td>\n",
              "      <td>NaN</td>\n",
              "      <td>Tier 2</td>\n",
              "      <td>Supermarket Type1</td>\n",
              "    </tr>\n",
              "    <tr>\n",
              "      <th>8520</th>\n",
              "      <td>10.600</td>\n",
              "      <td>Low Fat</td>\n",
              "      <td>0.035186</td>\n",
              "      <td>Health and Hygiene</td>\n",
              "      <td>85.1224</td>\n",
              "      <td>OUT035</td>\n",
              "      <td>2004</td>\n",
              "      <td>Small</td>\n",
              "      <td>Tier 2</td>\n",
              "      <td>Supermarket Type1</td>\n",
              "    </tr>\n",
              "    <tr>\n",
              "      <th>8521</th>\n",
              "      <td>7.210</td>\n",
              "      <td>Regular</td>\n",
              "      <td>0.145221</td>\n",
              "      <td>Snack Foods</td>\n",
              "      <td>103.1332</td>\n",
              "      <td>OUT018</td>\n",
              "      <td>2009</td>\n",
              "      <td>Medium</td>\n",
              "      <td>Tier 3</td>\n",
              "      <td>Supermarket Type2</td>\n",
              "    </tr>\n",
              "    <tr>\n",
              "      <th>8522</th>\n",
              "      <td>14.800</td>\n",
              "      <td>Low Fat</td>\n",
              "      <td>0.044878</td>\n",
              "      <td>Soft Drinks</td>\n",
              "      <td>75.4670</td>\n",
              "      <td>OUT046</td>\n",
              "      <td>1997</td>\n",
              "      <td>Small</td>\n",
              "      <td>Tier 1</td>\n",
              "      <td>Supermarket Type1</td>\n",
              "    </tr>\n",
              "  </tbody>\n",
              "</table>\n",
              "<p>8523 rows × 10 columns</p>\n",
              "</div>\n",
              "      <button class=\"colab-df-convert\" onclick=\"convertToInteractive('df-c1957047-a962-4997-b1c8-a99dc25e2d03')\"\n",
              "              title=\"Convert this dataframe to an interactive table.\"\n",
              "              style=\"display:none;\">\n",
              "        \n",
              "  <svg xmlns=\"http://www.w3.org/2000/svg\" height=\"24px\"viewBox=\"0 0 24 24\"\n",
              "       width=\"24px\">\n",
              "    <path d=\"M0 0h24v24H0V0z\" fill=\"none\"/>\n",
              "    <path d=\"M18.56 5.44l.94 2.06.94-2.06 2.06-.94-2.06-.94-.94-2.06-.94 2.06-2.06.94zm-11 1L8.5 8.5l.94-2.06 2.06-.94-2.06-.94L8.5 2.5l-.94 2.06-2.06.94zm10 10l.94 2.06.94-2.06 2.06-.94-2.06-.94-.94-2.06-.94 2.06-2.06.94z\"/><path d=\"M17.41 7.96l-1.37-1.37c-.4-.4-.92-.59-1.43-.59-.52 0-1.04.2-1.43.59L10.3 9.45l-7.72 7.72c-.78.78-.78 2.05 0 2.83L4 21.41c.39.39.9.59 1.41.59.51 0 1.02-.2 1.41-.59l7.78-7.78 2.81-2.81c.8-.78.8-2.07 0-2.86zM5.41 20L4 18.59l7.72-7.72 1.47 1.35L5.41 20z\"/>\n",
              "  </svg>\n",
              "      </button>\n",
              "      \n",
              "  <style>\n",
              "    .colab-df-container {\n",
              "      display:flex;\n",
              "      flex-wrap:wrap;\n",
              "      gap: 12px;\n",
              "    }\n",
              "\n",
              "    .colab-df-convert {\n",
              "      background-color: #E8F0FE;\n",
              "      border: none;\n",
              "      border-radius: 50%;\n",
              "      cursor: pointer;\n",
              "      display: none;\n",
              "      fill: #1967D2;\n",
              "      height: 32px;\n",
              "      padding: 0 0 0 0;\n",
              "      width: 32px;\n",
              "    }\n",
              "\n",
              "    .colab-df-convert:hover {\n",
              "      background-color: #E2EBFA;\n",
              "      box-shadow: 0px 1px 2px rgba(60, 64, 67, 0.3), 0px 1px 3px 1px rgba(60, 64, 67, 0.15);\n",
              "      fill: #174EA6;\n",
              "    }\n",
              "\n",
              "    [theme=dark] .colab-df-convert {\n",
              "      background-color: #3B4455;\n",
              "      fill: #D2E3FC;\n",
              "    }\n",
              "\n",
              "    [theme=dark] .colab-df-convert:hover {\n",
              "      background-color: #434B5C;\n",
              "      box-shadow: 0px 1px 3px 1px rgba(0, 0, 0, 0.15);\n",
              "      filter: drop-shadow(0px 1px 2px rgba(0, 0, 0, 0.3));\n",
              "      fill: #FFFFFF;\n",
              "    }\n",
              "  </style>\n",
              "\n",
              "      <script>\n",
              "        const buttonEl =\n",
              "          document.querySelector('#df-c1957047-a962-4997-b1c8-a99dc25e2d03 button.colab-df-convert');\n",
              "        buttonEl.style.display =\n",
              "          google.colab.kernel.accessAllowed ? 'block' : 'none';\n",
              "\n",
              "        async function convertToInteractive(key) {\n",
              "          const element = document.querySelector('#df-c1957047-a962-4997-b1c8-a99dc25e2d03');\n",
              "          const dataTable =\n",
              "            await google.colab.kernel.invokeFunction('convertToInteractive',\n",
              "                                                     [key], {});\n",
              "          if (!dataTable) return;\n",
              "\n",
              "          const docLinkHtml = 'Like what you see? Visit the ' +\n",
              "            '<a target=\"_blank\" href=https://colab.research.google.com/notebooks/data_table.ipynb>data table notebook</a>'\n",
              "            + ' to learn more about interactive tables.';\n",
              "          element.innerHTML = '';\n",
              "          dataTable['output_type'] = 'display_data';\n",
              "          await google.colab.output.renderOutput(dataTable, element);\n",
              "          const docLink = document.createElement('div');\n",
              "          docLink.innerHTML = docLinkHtml;\n",
              "          element.appendChild(docLink);\n",
              "        }\n",
              "      </script>\n",
              "    </div>\n",
              "  </div>\n",
              "  "
            ]
          },
          "metadata": {},
          "execution_count": 221
        }
      ]
    },
    {
      "cell_type": "markdown",
      "source": [
        "# Perform a train test."
      ],
      "metadata": {
        "id": "-qxyrrOeAOO8"
      }
    },
    {
      "cell_type": "code",
      "source": [
        "X_train, X_test, y_train, y_test = train_test_split(X, y, random_state = 42)"
      ],
      "metadata": {
        "id": "JA526jlfBSeM"
      },
      "execution_count": 222,
      "outputs": []
    },
    {
      "cell_type": "markdown",
      "source": [
        "# Create a preprocessing object to prepare the dataset for Machine Learning."
      ],
      "metadata": {
        "id": "tDrnQruSCaOO"
      }
    },
    {
      "cell_type": "code",
      "source": [
        "# Selectors\n",
        "cat_selector = make_column_selector(dtype_include ='object')\n",
        "num_selector = make_column_selector(dtype_include ='number')"
      ],
      "metadata": {
        "id": "RpzGMEXnCb9D"
      },
      "execution_count": 223,
      "outputs": []
    },
    {
      "cell_type": "code",
      "source": [
        "\n",
        "# Imputers\n",
        "freq_imputer = SimpleImputer(strategy= 'most_frequent')\n",
        "mean_imputer = SimpleImputer(strategy= 'mean')\n",
        "# scaler \n",
        "scaler = StandardScaler()\n",
        "# One-hot Encoder\n",
        "ohe = OneHotEncoder(handle_unknown='ignore', sparse=False)"
      ],
      "metadata": {
        "id": "NDTvYAe9El2U"
      },
      "execution_count": 224,
      "outputs": []
    },
    {
      "cell_type": "code",
      "source": [
        "# make numeric pipeline\n",
        "numeric_pipe = make_pipeline(mean_imputer, scaler)"
      ],
      "metadata": {
        "id": "XRaQZo0WDeI2"
      },
      "execution_count": 225,
      "outputs": []
    },
    {
      "cell_type": "code",
      "source": [
        "# make categorical pipeline\n",
        "categorical_pipe = make_pipeline(freq_imputer, ohe)"
      ],
      "metadata": {
        "id": "lKtzh611DhY2"
      },
      "execution_count": 226,
      "outputs": []
    },
    {
      "cell_type": "code",
      "source": [
        "# make tuples for column transformer\n",
        "numeric_tuple = (numeric_pipe, num_selector)\n",
        "categorical_tuple = (categorical_pipe, cat_selector) "
      ],
      "metadata": {
        "id": "OiYsHO6mDmWL"
      },
      "execution_count": 228,
      "outputs": []
    },
    {
      "cell_type": "code",
      "source": [
        "# create preprocessor object (column transformer)\n",
        "preprocessor = make_column_transformer(numeric_tuple, categorical_tuple)\n",
        "preprocessor"
      ],
      "metadata": {
        "id": "dy-5-mP5DoHw",
        "outputId": "e6873e06-3557-4ea8-b259-16d230b1c4fe",
        "colab": {
          "base_uri": "https://localhost:8080/",
          "height": 149
        }
      },
      "execution_count": 229,
      "outputs": [
        {
          "output_type": "execute_result",
          "data": {
            "text/plain": [
              "ColumnTransformer(transformers=[('pipeline-1',\n",
              "                                 Pipeline(steps=[('simpleimputer',\n",
              "                                                  SimpleImputer()),\n",
              "                                                 ('standardscaler',\n",
              "                                                  StandardScaler())]),\n",
              "                                 <sklearn.compose._column_transformer.make_column_selector object at 0x7f7ec0e0dc10>),\n",
              "                                ('pipeline-2',\n",
              "                                 Pipeline(steps=[('simpleimputer',\n",
              "                                                  SimpleImputer(strategy='most_frequent')),\n",
              "                                                 ('onehotencoder',\n",
              "                                                  OneHotEncoder(handle_unknown='ignore',\n",
              "                                                                sparse=False))]),\n",
              "                                 <sklearn.compose._column_transformer.make_column_selector object at 0x7f7ec0bec580>)])"
            ],
            "text/html": [
              "<style>#sk-container-id-12 {color: black;background-color: white;}#sk-container-id-12 pre{padding: 0;}#sk-container-id-12 div.sk-toggleable {background-color: white;}#sk-container-id-12 label.sk-toggleable__label {cursor: pointer;display: block;width: 100%;margin-bottom: 0;padding: 0.3em;box-sizing: border-box;text-align: center;}#sk-container-id-12 label.sk-toggleable__label-arrow:before {content: \"▸\";float: left;margin-right: 0.25em;color: #696969;}#sk-container-id-12 label.sk-toggleable__label-arrow:hover:before {color: black;}#sk-container-id-12 div.sk-estimator:hover label.sk-toggleable__label-arrow:before {color: black;}#sk-container-id-12 div.sk-toggleable__content {max-height: 0;max-width: 0;overflow: hidden;text-align: left;background-color: #f0f8ff;}#sk-container-id-12 div.sk-toggleable__content pre {margin: 0.2em;color: black;border-radius: 0.25em;background-color: #f0f8ff;}#sk-container-id-12 input.sk-toggleable__control:checked~div.sk-toggleable__content {max-height: 200px;max-width: 100%;overflow: auto;}#sk-container-id-12 input.sk-toggleable__control:checked~label.sk-toggleable__label-arrow:before {content: \"▾\";}#sk-container-id-12 div.sk-estimator input.sk-toggleable__control:checked~label.sk-toggleable__label {background-color: #d4ebff;}#sk-container-id-12 div.sk-label input.sk-toggleable__control:checked~label.sk-toggleable__label {background-color: #d4ebff;}#sk-container-id-12 input.sk-hidden--visually {border: 0;clip: rect(1px 1px 1px 1px);clip: rect(1px, 1px, 1px, 1px);height: 1px;margin: -1px;overflow: hidden;padding: 0;position: absolute;width: 1px;}#sk-container-id-12 div.sk-estimator {font-family: monospace;background-color: #f0f8ff;border: 1px dotted black;border-radius: 0.25em;box-sizing: border-box;margin-bottom: 0.5em;}#sk-container-id-12 div.sk-estimator:hover {background-color: #d4ebff;}#sk-container-id-12 div.sk-parallel-item::after {content: \"\";width: 100%;border-bottom: 1px solid gray;flex-grow: 1;}#sk-container-id-12 div.sk-label:hover label.sk-toggleable__label {background-color: #d4ebff;}#sk-container-id-12 div.sk-serial::before {content: \"\";position: absolute;border-left: 1px solid gray;box-sizing: border-box;top: 0;bottom: 0;left: 50%;z-index: 0;}#sk-container-id-12 div.sk-serial {display: flex;flex-direction: column;align-items: center;background-color: white;padding-right: 0.2em;padding-left: 0.2em;position: relative;}#sk-container-id-12 div.sk-item {position: relative;z-index: 1;}#sk-container-id-12 div.sk-parallel {display: flex;align-items: stretch;justify-content: center;background-color: white;position: relative;}#sk-container-id-12 div.sk-item::before, #sk-container-id-12 div.sk-parallel-item::before {content: \"\";position: absolute;border-left: 1px solid gray;box-sizing: border-box;top: 0;bottom: 0;left: 50%;z-index: -1;}#sk-container-id-12 div.sk-parallel-item {display: flex;flex-direction: column;z-index: 1;position: relative;background-color: white;}#sk-container-id-12 div.sk-parallel-item:first-child::after {align-self: flex-end;width: 50%;}#sk-container-id-12 div.sk-parallel-item:last-child::after {align-self: flex-start;width: 50%;}#sk-container-id-12 div.sk-parallel-item:only-child::after {width: 0;}#sk-container-id-12 div.sk-dashed-wrapped {border: 1px dashed gray;margin: 0 0.4em 0.5em 0.4em;box-sizing: border-box;padding-bottom: 0.4em;background-color: white;}#sk-container-id-12 div.sk-label label {font-family: monospace;font-weight: bold;display: inline-block;line-height: 1.2em;}#sk-container-id-12 div.sk-label-container {text-align: center;}#sk-container-id-12 div.sk-container {/* jupyter's `normalize.less` sets `[hidden] { display: none; }` but bootstrap.min.css set `[hidden] { display: none !important; }` so we also need the `!important` here to be able to override the default hidden behavior on the sphinx rendered scikit-learn.org. See: https://github.com/scikit-learn/scikit-learn/issues/21755 */display: inline-block !important;position: relative;}#sk-container-id-12 div.sk-text-repr-fallback {display: none;}</style><div id=\"sk-container-id-12\" class=\"sk-top-container\"><div class=\"sk-text-repr-fallback\"><pre>ColumnTransformer(transformers=[(&#x27;pipeline-1&#x27;,\n",
              "                                 Pipeline(steps=[(&#x27;simpleimputer&#x27;,\n",
              "                                                  SimpleImputer()),\n",
              "                                                 (&#x27;standardscaler&#x27;,\n",
              "                                                  StandardScaler())]),\n",
              "                                 &lt;sklearn.compose._column_transformer.make_column_selector object at 0x7f7ec0e0dc10&gt;),\n",
              "                                (&#x27;pipeline-2&#x27;,\n",
              "                                 Pipeline(steps=[(&#x27;simpleimputer&#x27;,\n",
              "                                                  SimpleImputer(strategy=&#x27;most_frequent&#x27;)),\n",
              "                                                 (&#x27;onehotencoder&#x27;,\n",
              "                                                  OneHotEncoder(handle_unknown=&#x27;ignore&#x27;,\n",
              "                                                                sparse=False))]),\n",
              "                                 &lt;sklearn.compose._column_transformer.make_column_selector object at 0x7f7ec0bec580&gt;)])</pre><b>In a Jupyter environment, please rerun this cell to show the HTML representation or trust the notebook. <br />On GitHub, the HTML representation is unable to render, please try loading this page with nbviewer.org.</b></div><div class=\"sk-container\" hidden><div class=\"sk-item sk-dashed-wrapped\"><div class=\"sk-label-container\"><div class=\"sk-label sk-toggleable\"><input class=\"sk-toggleable__control sk-hidden--visually\" id=\"sk-estimator-id-90\" type=\"checkbox\" ><label for=\"sk-estimator-id-90\" class=\"sk-toggleable__label sk-toggleable__label-arrow\">ColumnTransformer</label><div class=\"sk-toggleable__content\"><pre>ColumnTransformer(transformers=[(&#x27;pipeline-1&#x27;,\n",
              "                                 Pipeline(steps=[(&#x27;simpleimputer&#x27;,\n",
              "                                                  SimpleImputer()),\n",
              "                                                 (&#x27;standardscaler&#x27;,\n",
              "                                                  StandardScaler())]),\n",
              "                                 &lt;sklearn.compose._column_transformer.make_column_selector object at 0x7f7ec0e0dc10&gt;),\n",
              "                                (&#x27;pipeline-2&#x27;,\n",
              "                                 Pipeline(steps=[(&#x27;simpleimputer&#x27;,\n",
              "                                                  SimpleImputer(strategy=&#x27;most_frequent&#x27;)),\n",
              "                                                 (&#x27;onehotencoder&#x27;,\n",
              "                                                  OneHotEncoder(handle_unknown=&#x27;ignore&#x27;,\n",
              "                                                                sparse=False))]),\n",
              "                                 &lt;sklearn.compose._column_transformer.make_column_selector object at 0x7f7ec0bec580&gt;)])</pre></div></div></div><div class=\"sk-parallel\"><div class=\"sk-parallel-item\"><div class=\"sk-item\"><div class=\"sk-label-container\"><div class=\"sk-label sk-toggleable\"><input class=\"sk-toggleable__control sk-hidden--visually\" id=\"sk-estimator-id-91\" type=\"checkbox\" ><label for=\"sk-estimator-id-91\" class=\"sk-toggleable__label sk-toggleable__label-arrow\">pipeline-1</label><div class=\"sk-toggleable__content\"><pre>&lt;sklearn.compose._column_transformer.make_column_selector object at 0x7f7ec0e0dc10&gt;</pre></div></div></div><div class=\"sk-serial\"><div class=\"sk-item\"><div class=\"sk-serial\"><div class=\"sk-item\"><div class=\"sk-estimator sk-toggleable\"><input class=\"sk-toggleable__control sk-hidden--visually\" id=\"sk-estimator-id-92\" type=\"checkbox\" ><label for=\"sk-estimator-id-92\" class=\"sk-toggleable__label sk-toggleable__label-arrow\">SimpleImputer</label><div class=\"sk-toggleable__content\"><pre>SimpleImputer()</pre></div></div></div><div class=\"sk-item\"><div class=\"sk-estimator sk-toggleable\"><input class=\"sk-toggleable__control sk-hidden--visually\" id=\"sk-estimator-id-93\" type=\"checkbox\" ><label for=\"sk-estimator-id-93\" class=\"sk-toggleable__label sk-toggleable__label-arrow\">StandardScaler</label><div class=\"sk-toggleable__content\"><pre>StandardScaler()</pre></div></div></div></div></div></div></div></div><div class=\"sk-parallel-item\"><div class=\"sk-item\"><div class=\"sk-label-container\"><div class=\"sk-label sk-toggleable\"><input class=\"sk-toggleable__control sk-hidden--visually\" id=\"sk-estimator-id-94\" type=\"checkbox\" ><label for=\"sk-estimator-id-94\" class=\"sk-toggleable__label sk-toggleable__label-arrow\">pipeline-2</label><div class=\"sk-toggleable__content\"><pre>&lt;sklearn.compose._column_transformer.make_column_selector object at 0x7f7ec0bec580&gt;</pre></div></div></div><div class=\"sk-serial\"><div class=\"sk-item\"><div class=\"sk-serial\"><div class=\"sk-item\"><div class=\"sk-estimator sk-toggleable\"><input class=\"sk-toggleable__control sk-hidden--visually\" id=\"sk-estimator-id-95\" type=\"checkbox\" ><label for=\"sk-estimator-id-95\" class=\"sk-toggleable__label sk-toggleable__label-arrow\">SimpleImputer</label><div class=\"sk-toggleable__content\"><pre>SimpleImputer(strategy=&#x27;most_frequent&#x27;)</pre></div></div></div><div class=\"sk-item\"><div class=\"sk-estimator sk-toggleable\"><input class=\"sk-toggleable__control sk-hidden--visually\" id=\"sk-estimator-id-96\" type=\"checkbox\" ><label for=\"sk-estimator-id-96\" class=\"sk-toggleable__label sk-toggleable__label-arrow\">OneHotEncoder</label><div class=\"sk-toggleable__content\"><pre>OneHotEncoder(handle_unknown=&#x27;ignore&#x27;, sparse=False)</pre></div></div></div></div></div></div></div></div></div></div></div></div>"
            ]
          },
          "metadata": {},
          "execution_count": 229
        }
      ]
    },
    {
      "cell_type": "code",
      "source": [
        "preprocessor.fit(X_train)"
      ],
      "metadata": {
        "id": "ymlQRbE-FvHL",
        "outputId": "686f9d97-9b2a-4f1e-bc24-c9042d844311",
        "colab": {
          "base_uri": "https://localhost:8080/",
          "height": 204
        }
      },
      "execution_count": 230,
      "outputs": [
        {
          "output_type": "stream",
          "name": "stderr",
          "text": [
            "/usr/local/lib/python3.9/dist-packages/sklearn/preprocessing/_encoders.py:868: FutureWarning: `sparse` was renamed to `sparse_output` in version 1.2 and will be removed in 1.4. `sparse_output` is ignored unless you leave `sparse` to its default value.\n",
            "  warnings.warn(\n"
          ]
        },
        {
          "output_type": "execute_result",
          "data": {
            "text/plain": [
              "ColumnTransformer(transformers=[('pipeline-1',\n",
              "                                 Pipeline(steps=[('simpleimputer',\n",
              "                                                  SimpleImputer()),\n",
              "                                                 ('standardscaler',\n",
              "                                                  StandardScaler())]),\n",
              "                                 <sklearn.compose._column_transformer.make_column_selector object at 0x7f7ec0e0dc10>),\n",
              "                                ('pipeline-2',\n",
              "                                 Pipeline(steps=[('simpleimputer',\n",
              "                                                  SimpleImputer(strategy='most_frequent')),\n",
              "                                                 ('onehotencoder',\n",
              "                                                  OneHotEncoder(handle_unknown='ignore',\n",
              "                                                                sparse=False))]),\n",
              "                                 <sklearn.compose._column_transformer.make_column_selector object at 0x7f7ec0bec580>)])"
            ],
            "text/html": [
              "<style>#sk-container-id-13 {color: black;background-color: white;}#sk-container-id-13 pre{padding: 0;}#sk-container-id-13 div.sk-toggleable {background-color: white;}#sk-container-id-13 label.sk-toggleable__label {cursor: pointer;display: block;width: 100%;margin-bottom: 0;padding: 0.3em;box-sizing: border-box;text-align: center;}#sk-container-id-13 label.sk-toggleable__label-arrow:before {content: \"▸\";float: left;margin-right: 0.25em;color: #696969;}#sk-container-id-13 label.sk-toggleable__label-arrow:hover:before {color: black;}#sk-container-id-13 div.sk-estimator:hover label.sk-toggleable__label-arrow:before {color: black;}#sk-container-id-13 div.sk-toggleable__content {max-height: 0;max-width: 0;overflow: hidden;text-align: left;background-color: #f0f8ff;}#sk-container-id-13 div.sk-toggleable__content pre {margin: 0.2em;color: black;border-radius: 0.25em;background-color: #f0f8ff;}#sk-container-id-13 input.sk-toggleable__control:checked~div.sk-toggleable__content {max-height: 200px;max-width: 100%;overflow: auto;}#sk-container-id-13 input.sk-toggleable__control:checked~label.sk-toggleable__label-arrow:before {content: \"▾\";}#sk-container-id-13 div.sk-estimator input.sk-toggleable__control:checked~label.sk-toggleable__label {background-color: #d4ebff;}#sk-container-id-13 div.sk-label input.sk-toggleable__control:checked~label.sk-toggleable__label {background-color: #d4ebff;}#sk-container-id-13 input.sk-hidden--visually {border: 0;clip: rect(1px 1px 1px 1px);clip: rect(1px, 1px, 1px, 1px);height: 1px;margin: -1px;overflow: hidden;padding: 0;position: absolute;width: 1px;}#sk-container-id-13 div.sk-estimator {font-family: monospace;background-color: #f0f8ff;border: 1px dotted black;border-radius: 0.25em;box-sizing: border-box;margin-bottom: 0.5em;}#sk-container-id-13 div.sk-estimator:hover {background-color: #d4ebff;}#sk-container-id-13 div.sk-parallel-item::after {content: \"\";width: 100%;border-bottom: 1px solid gray;flex-grow: 1;}#sk-container-id-13 div.sk-label:hover label.sk-toggleable__label {background-color: #d4ebff;}#sk-container-id-13 div.sk-serial::before {content: \"\";position: absolute;border-left: 1px solid gray;box-sizing: border-box;top: 0;bottom: 0;left: 50%;z-index: 0;}#sk-container-id-13 div.sk-serial {display: flex;flex-direction: column;align-items: center;background-color: white;padding-right: 0.2em;padding-left: 0.2em;position: relative;}#sk-container-id-13 div.sk-item {position: relative;z-index: 1;}#sk-container-id-13 div.sk-parallel {display: flex;align-items: stretch;justify-content: center;background-color: white;position: relative;}#sk-container-id-13 div.sk-item::before, #sk-container-id-13 div.sk-parallel-item::before {content: \"\";position: absolute;border-left: 1px solid gray;box-sizing: border-box;top: 0;bottom: 0;left: 50%;z-index: -1;}#sk-container-id-13 div.sk-parallel-item {display: flex;flex-direction: column;z-index: 1;position: relative;background-color: white;}#sk-container-id-13 div.sk-parallel-item:first-child::after {align-self: flex-end;width: 50%;}#sk-container-id-13 div.sk-parallel-item:last-child::after {align-self: flex-start;width: 50%;}#sk-container-id-13 div.sk-parallel-item:only-child::after {width: 0;}#sk-container-id-13 div.sk-dashed-wrapped {border: 1px dashed gray;margin: 0 0.4em 0.5em 0.4em;box-sizing: border-box;padding-bottom: 0.4em;background-color: white;}#sk-container-id-13 div.sk-label label {font-family: monospace;font-weight: bold;display: inline-block;line-height: 1.2em;}#sk-container-id-13 div.sk-label-container {text-align: center;}#sk-container-id-13 div.sk-container {/* jupyter's `normalize.less` sets `[hidden] { display: none; }` but bootstrap.min.css set `[hidden] { display: none !important; }` so we also need the `!important` here to be able to override the default hidden behavior on the sphinx rendered scikit-learn.org. See: https://github.com/scikit-learn/scikit-learn/issues/21755 */display: inline-block !important;position: relative;}#sk-container-id-13 div.sk-text-repr-fallback {display: none;}</style><div id=\"sk-container-id-13\" class=\"sk-top-container\"><div class=\"sk-text-repr-fallback\"><pre>ColumnTransformer(transformers=[(&#x27;pipeline-1&#x27;,\n",
              "                                 Pipeline(steps=[(&#x27;simpleimputer&#x27;,\n",
              "                                                  SimpleImputer()),\n",
              "                                                 (&#x27;standardscaler&#x27;,\n",
              "                                                  StandardScaler())]),\n",
              "                                 &lt;sklearn.compose._column_transformer.make_column_selector object at 0x7f7ec0e0dc10&gt;),\n",
              "                                (&#x27;pipeline-2&#x27;,\n",
              "                                 Pipeline(steps=[(&#x27;simpleimputer&#x27;,\n",
              "                                                  SimpleImputer(strategy=&#x27;most_frequent&#x27;)),\n",
              "                                                 (&#x27;onehotencoder&#x27;,\n",
              "                                                  OneHotEncoder(handle_unknown=&#x27;ignore&#x27;,\n",
              "                                                                sparse=False))]),\n",
              "                                 &lt;sklearn.compose._column_transformer.make_column_selector object at 0x7f7ec0bec580&gt;)])</pre><b>In a Jupyter environment, please rerun this cell to show the HTML representation or trust the notebook. <br />On GitHub, the HTML representation is unable to render, please try loading this page with nbviewer.org.</b></div><div class=\"sk-container\" hidden><div class=\"sk-item sk-dashed-wrapped\"><div class=\"sk-label-container\"><div class=\"sk-label sk-toggleable\"><input class=\"sk-toggleable__control sk-hidden--visually\" id=\"sk-estimator-id-97\" type=\"checkbox\" ><label for=\"sk-estimator-id-97\" class=\"sk-toggleable__label sk-toggleable__label-arrow\">ColumnTransformer</label><div class=\"sk-toggleable__content\"><pre>ColumnTransformer(transformers=[(&#x27;pipeline-1&#x27;,\n",
              "                                 Pipeline(steps=[(&#x27;simpleimputer&#x27;,\n",
              "                                                  SimpleImputer()),\n",
              "                                                 (&#x27;standardscaler&#x27;,\n",
              "                                                  StandardScaler())]),\n",
              "                                 &lt;sklearn.compose._column_transformer.make_column_selector object at 0x7f7ec0e0dc10&gt;),\n",
              "                                (&#x27;pipeline-2&#x27;,\n",
              "                                 Pipeline(steps=[(&#x27;simpleimputer&#x27;,\n",
              "                                                  SimpleImputer(strategy=&#x27;most_frequent&#x27;)),\n",
              "                                                 (&#x27;onehotencoder&#x27;,\n",
              "                                                  OneHotEncoder(handle_unknown=&#x27;ignore&#x27;,\n",
              "                                                                sparse=False))]),\n",
              "                                 &lt;sklearn.compose._column_transformer.make_column_selector object at 0x7f7ec0bec580&gt;)])</pre></div></div></div><div class=\"sk-parallel\"><div class=\"sk-parallel-item\"><div class=\"sk-item\"><div class=\"sk-label-container\"><div class=\"sk-label sk-toggleable\"><input class=\"sk-toggleable__control sk-hidden--visually\" id=\"sk-estimator-id-98\" type=\"checkbox\" ><label for=\"sk-estimator-id-98\" class=\"sk-toggleable__label sk-toggleable__label-arrow\">pipeline-1</label><div class=\"sk-toggleable__content\"><pre>&lt;sklearn.compose._column_transformer.make_column_selector object at 0x7f7ec0e0dc10&gt;</pre></div></div></div><div class=\"sk-serial\"><div class=\"sk-item\"><div class=\"sk-serial\"><div class=\"sk-item\"><div class=\"sk-estimator sk-toggleable\"><input class=\"sk-toggleable__control sk-hidden--visually\" id=\"sk-estimator-id-99\" type=\"checkbox\" ><label for=\"sk-estimator-id-99\" class=\"sk-toggleable__label sk-toggleable__label-arrow\">SimpleImputer</label><div class=\"sk-toggleable__content\"><pre>SimpleImputer()</pre></div></div></div><div class=\"sk-item\"><div class=\"sk-estimator sk-toggleable\"><input class=\"sk-toggleable__control sk-hidden--visually\" id=\"sk-estimator-id-100\" type=\"checkbox\" ><label for=\"sk-estimator-id-100\" class=\"sk-toggleable__label sk-toggleable__label-arrow\">StandardScaler</label><div class=\"sk-toggleable__content\"><pre>StandardScaler()</pre></div></div></div></div></div></div></div></div><div class=\"sk-parallel-item\"><div class=\"sk-item\"><div class=\"sk-label-container\"><div class=\"sk-label sk-toggleable\"><input class=\"sk-toggleable__control sk-hidden--visually\" id=\"sk-estimator-id-101\" type=\"checkbox\" ><label for=\"sk-estimator-id-101\" class=\"sk-toggleable__label sk-toggleable__label-arrow\">pipeline-2</label><div class=\"sk-toggleable__content\"><pre>&lt;sklearn.compose._column_transformer.make_column_selector object at 0x7f7ec0bec580&gt;</pre></div></div></div><div class=\"sk-serial\"><div class=\"sk-item\"><div class=\"sk-serial\"><div class=\"sk-item\"><div class=\"sk-estimator sk-toggleable\"><input class=\"sk-toggleable__control sk-hidden--visually\" id=\"sk-estimator-id-102\" type=\"checkbox\" ><label for=\"sk-estimator-id-102\" class=\"sk-toggleable__label sk-toggleable__label-arrow\">SimpleImputer</label><div class=\"sk-toggleable__content\"><pre>SimpleImputer(strategy=&#x27;most_frequent&#x27;)</pre></div></div></div><div class=\"sk-item\"><div class=\"sk-estimator sk-toggleable\"><input class=\"sk-toggleable__control sk-hidden--visually\" id=\"sk-estimator-id-103\" type=\"checkbox\" ><label for=\"sk-estimator-id-103\" class=\"sk-toggleable__label sk-toggleable__label-arrow\">OneHotEncoder</label><div class=\"sk-toggleable__content\"><pre>OneHotEncoder(handle_unknown=&#x27;ignore&#x27;, sparse=False)</pre></div></div></div></div></div></div></div></div></div></div></div></div>"
            ]
          },
          "metadata": {},
          "execution_count": 230
        }
      ]
    },
    {
      "cell_type": "code",
      "source": [
        "# transform both training and test data\n",
        "X_train_processed = preprocessor.transform(X_train)\n",
        "X_test_processed = preprocessor.transform(X_test)"
      ],
      "metadata": {
        "id": "sMz4JCHnETqK"
      },
      "execution_count": 231,
      "outputs": []
    },
    {
      "cell_type": "code",
      "source": [
        "#Inspect transformed data\n",
        "print(np.isnan(X_train_processed).sum().sum(), 'missing values in training data')\n",
        "print(np.isnan(X_test_processed).sum().sum(), 'missing values in test data')\n",
        "print()\n",
        "print('All data in X_train_processed are', X_train_processed.dtype)\n",
        "print('All data in X_test_processed are', X_test_processed.dtype)\n",
        "print()\n",
        "print('Shape of data is', X_train_processed.shape)\n",
        "print(X_train_processed)"
      ],
      "metadata": {
        "id": "pY6f14khIieR",
        "outputId": "f203eb95-b478-46ec-8395-df573293099a",
        "colab": {
          "base_uri": "https://localhost:8080/"
        }
      },
      "execution_count": 232,
      "outputs": [
        {
          "output_type": "stream",
          "name": "stdout",
          "text": [
            "0 missing values in training data\n",
            "0 missing values in test data\n",
            "\n",
            "All data in X_train_processed are float64\n",
            "All data in X_test_processed are float64\n",
            "\n",
            "Shape of data is (6392, 42)\n",
            "[[ 0.81724868 -0.71277507  1.82810922 ...  0.          1.\n",
            "   0.        ]\n",
            " [ 0.5563395  -1.29105225  0.60336888 ...  0.          1.\n",
            "   0.        ]\n",
            " [-0.13151196  1.81331864  0.24454056 ...  1.          0.\n",
            "   0.        ]\n",
            " ...\n",
            " [ 1.11373638 -0.92052713  1.52302674 ...  1.          0.\n",
            "   0.        ]\n",
            " [ 1.76600931 -0.2277552  -0.38377708 ...  1.          0.\n",
            "   0.        ]\n",
            " [ 0.81724868 -0.95867683 -0.73836105 ...  1.          0.\n",
            "   0.        ]]\n"
          ]
        }
      ]
    },
    {
      "cell_type": "markdown",
      "source": [
        "# Build a linear regression model"
      ],
      "metadata": {
        "id": "XUcYeQ9alE4R"
      }
    },
    {
      "cell_type": "code",
      "source": [
        "# instance of the model\n",
        "lin_reg = LinearRegression()\n",
        "\n",
        "## Create a model pipeline\n",
        "lin_reg_pipe = make_pipeline(preprocessor, lin_reg)\n",
        "\n",
        "# Display\n",
        "display(lin_reg_pipe)"
      ],
      "metadata": {
        "colab": {
          "base_uri": "https://localhost:8080/",
          "height": 222
        },
        "id": "Q-xeRs85lJ1u",
        "outputId": "e33c4c05-427f-472a-8bdc-a677a65e9dea"
      },
      "execution_count": 239,
      "outputs": [
        {
          "output_type": "display_data",
          "data": {
            "text/plain": [
              "Pipeline(steps=[('columntransformer',\n",
              "                 ColumnTransformer(transformers=[('pipeline-1',\n",
              "                                                  Pipeline(steps=[('simpleimputer',\n",
              "                                                                   SimpleImputer()),\n",
              "                                                                  ('standardscaler',\n",
              "                                                                   StandardScaler())]),\n",
              "                                                  <sklearn.compose._column_transformer.make_column_selector object at 0x7f7ec0e0dc10>),\n",
              "                                                 ('pipeline-2',\n",
              "                                                  Pipeline(steps=[('simpleimputer',\n",
              "                                                                   SimpleImputer(strategy='most_frequent')),\n",
              "                                                                  ('onehotencoder',\n",
              "                                                                   OneHotEncoder(handle_unknown='ignore',\n",
              "                                                                                 sparse=False))]),\n",
              "                                                  <sklearn.compose._column_transformer.make_column_selector object at 0x7f7ec0bec580>)])),\n",
              "                ('linearregression', LinearRegression())])"
            ],
            "text/html": [
              "<style>#sk-container-id-17 {color: black;background-color: white;}#sk-container-id-17 pre{padding: 0;}#sk-container-id-17 div.sk-toggleable {background-color: white;}#sk-container-id-17 label.sk-toggleable__label {cursor: pointer;display: block;width: 100%;margin-bottom: 0;padding: 0.3em;box-sizing: border-box;text-align: center;}#sk-container-id-17 label.sk-toggleable__label-arrow:before {content: \"▸\";float: left;margin-right: 0.25em;color: #696969;}#sk-container-id-17 label.sk-toggleable__label-arrow:hover:before {color: black;}#sk-container-id-17 div.sk-estimator:hover label.sk-toggleable__label-arrow:before {color: black;}#sk-container-id-17 div.sk-toggleable__content {max-height: 0;max-width: 0;overflow: hidden;text-align: left;background-color: #f0f8ff;}#sk-container-id-17 div.sk-toggleable__content pre {margin: 0.2em;color: black;border-radius: 0.25em;background-color: #f0f8ff;}#sk-container-id-17 input.sk-toggleable__control:checked~div.sk-toggleable__content {max-height: 200px;max-width: 100%;overflow: auto;}#sk-container-id-17 input.sk-toggleable__control:checked~label.sk-toggleable__label-arrow:before {content: \"▾\";}#sk-container-id-17 div.sk-estimator input.sk-toggleable__control:checked~label.sk-toggleable__label {background-color: #d4ebff;}#sk-container-id-17 div.sk-label input.sk-toggleable__control:checked~label.sk-toggleable__label {background-color: #d4ebff;}#sk-container-id-17 input.sk-hidden--visually {border: 0;clip: rect(1px 1px 1px 1px);clip: rect(1px, 1px, 1px, 1px);height: 1px;margin: -1px;overflow: hidden;padding: 0;position: absolute;width: 1px;}#sk-container-id-17 div.sk-estimator {font-family: monospace;background-color: #f0f8ff;border: 1px dotted black;border-radius: 0.25em;box-sizing: border-box;margin-bottom: 0.5em;}#sk-container-id-17 div.sk-estimator:hover {background-color: #d4ebff;}#sk-container-id-17 div.sk-parallel-item::after {content: \"\";width: 100%;border-bottom: 1px solid gray;flex-grow: 1;}#sk-container-id-17 div.sk-label:hover label.sk-toggleable__label {background-color: #d4ebff;}#sk-container-id-17 div.sk-serial::before {content: \"\";position: absolute;border-left: 1px solid gray;box-sizing: border-box;top: 0;bottom: 0;left: 50%;z-index: 0;}#sk-container-id-17 div.sk-serial {display: flex;flex-direction: column;align-items: center;background-color: white;padding-right: 0.2em;padding-left: 0.2em;position: relative;}#sk-container-id-17 div.sk-item {position: relative;z-index: 1;}#sk-container-id-17 div.sk-parallel {display: flex;align-items: stretch;justify-content: center;background-color: white;position: relative;}#sk-container-id-17 div.sk-item::before, #sk-container-id-17 div.sk-parallel-item::before {content: \"\";position: absolute;border-left: 1px solid gray;box-sizing: border-box;top: 0;bottom: 0;left: 50%;z-index: -1;}#sk-container-id-17 div.sk-parallel-item {display: flex;flex-direction: column;z-index: 1;position: relative;background-color: white;}#sk-container-id-17 div.sk-parallel-item:first-child::after {align-self: flex-end;width: 50%;}#sk-container-id-17 div.sk-parallel-item:last-child::after {align-self: flex-start;width: 50%;}#sk-container-id-17 div.sk-parallel-item:only-child::after {width: 0;}#sk-container-id-17 div.sk-dashed-wrapped {border: 1px dashed gray;margin: 0 0.4em 0.5em 0.4em;box-sizing: border-box;padding-bottom: 0.4em;background-color: white;}#sk-container-id-17 div.sk-label label {font-family: monospace;font-weight: bold;display: inline-block;line-height: 1.2em;}#sk-container-id-17 div.sk-label-container {text-align: center;}#sk-container-id-17 div.sk-container {/* jupyter's `normalize.less` sets `[hidden] { display: none; }` but bootstrap.min.css set `[hidden] { display: none !important; }` so we also need the `!important` here to be able to override the default hidden behavior on the sphinx rendered scikit-learn.org. See: https://github.com/scikit-learn/scikit-learn/issues/21755 */display: inline-block !important;position: relative;}#sk-container-id-17 div.sk-text-repr-fallback {display: none;}</style><div id=\"sk-container-id-17\" class=\"sk-top-container\"><div class=\"sk-text-repr-fallback\"><pre>Pipeline(steps=[(&#x27;columntransformer&#x27;,\n",
              "                 ColumnTransformer(transformers=[(&#x27;pipeline-1&#x27;,\n",
              "                                                  Pipeline(steps=[(&#x27;simpleimputer&#x27;,\n",
              "                                                                   SimpleImputer()),\n",
              "                                                                  (&#x27;standardscaler&#x27;,\n",
              "                                                                   StandardScaler())]),\n",
              "                                                  &lt;sklearn.compose._column_transformer.make_column_selector object at 0x7f7ec0e0dc10&gt;),\n",
              "                                                 (&#x27;pipeline-2&#x27;,\n",
              "                                                  Pipeline(steps=[(&#x27;simpleimputer&#x27;,\n",
              "                                                                   SimpleImputer(strategy=&#x27;most_frequent&#x27;)),\n",
              "                                                                  (&#x27;onehotencoder&#x27;,\n",
              "                                                                   OneHotEncoder(handle_unknown=&#x27;ignore&#x27;,\n",
              "                                                                                 sparse=False))]),\n",
              "                                                  &lt;sklearn.compose._column_transformer.make_column_selector object at 0x7f7ec0bec580&gt;)])),\n",
              "                (&#x27;linearregression&#x27;, LinearRegression())])</pre><b>In a Jupyter environment, please rerun this cell to show the HTML representation or trust the notebook. <br />On GitHub, the HTML representation is unable to render, please try loading this page with nbviewer.org.</b></div><div class=\"sk-container\" hidden><div class=\"sk-item sk-dashed-wrapped\"><div class=\"sk-label-container\"><div class=\"sk-label sk-toggleable\"><input class=\"sk-toggleable__control sk-hidden--visually\" id=\"sk-estimator-id-131\" type=\"checkbox\" ><label for=\"sk-estimator-id-131\" class=\"sk-toggleable__label sk-toggleable__label-arrow\">Pipeline</label><div class=\"sk-toggleable__content\"><pre>Pipeline(steps=[(&#x27;columntransformer&#x27;,\n",
              "                 ColumnTransformer(transformers=[(&#x27;pipeline-1&#x27;,\n",
              "                                                  Pipeline(steps=[(&#x27;simpleimputer&#x27;,\n",
              "                                                                   SimpleImputer()),\n",
              "                                                                  (&#x27;standardscaler&#x27;,\n",
              "                                                                   StandardScaler())]),\n",
              "                                                  &lt;sklearn.compose._column_transformer.make_column_selector object at 0x7f7ec0e0dc10&gt;),\n",
              "                                                 (&#x27;pipeline-2&#x27;,\n",
              "                                                  Pipeline(steps=[(&#x27;simpleimputer&#x27;,\n",
              "                                                                   SimpleImputer(strategy=&#x27;most_frequent&#x27;)),\n",
              "                                                                  (&#x27;onehotencoder&#x27;,\n",
              "                                                                   OneHotEncoder(handle_unknown=&#x27;ignore&#x27;,\n",
              "                                                                                 sparse=False))]),\n",
              "                                                  &lt;sklearn.compose._column_transformer.make_column_selector object at 0x7f7ec0bec580&gt;)])),\n",
              "                (&#x27;linearregression&#x27;, LinearRegression())])</pre></div></div></div><div class=\"sk-serial\"><div class=\"sk-item sk-dashed-wrapped\"><div class=\"sk-label-container\"><div class=\"sk-label sk-toggleable\"><input class=\"sk-toggleable__control sk-hidden--visually\" id=\"sk-estimator-id-132\" type=\"checkbox\" ><label for=\"sk-estimator-id-132\" class=\"sk-toggleable__label sk-toggleable__label-arrow\">columntransformer: ColumnTransformer</label><div class=\"sk-toggleable__content\"><pre>ColumnTransformer(transformers=[(&#x27;pipeline-1&#x27;,\n",
              "                                 Pipeline(steps=[(&#x27;simpleimputer&#x27;,\n",
              "                                                  SimpleImputer()),\n",
              "                                                 (&#x27;standardscaler&#x27;,\n",
              "                                                  StandardScaler())]),\n",
              "                                 &lt;sklearn.compose._column_transformer.make_column_selector object at 0x7f7ec0e0dc10&gt;),\n",
              "                                (&#x27;pipeline-2&#x27;,\n",
              "                                 Pipeline(steps=[(&#x27;simpleimputer&#x27;,\n",
              "                                                  SimpleImputer(strategy=&#x27;most_frequent&#x27;)),\n",
              "                                                 (&#x27;onehotencoder&#x27;,\n",
              "                                                  OneHotEncoder(handle_unknown=&#x27;ignore&#x27;,\n",
              "                                                                sparse=False))]),\n",
              "                                 &lt;sklearn.compose._column_transformer.make_column_selector object at 0x7f7ec0bec580&gt;)])</pre></div></div></div><div class=\"sk-parallel\"><div class=\"sk-parallel-item\"><div class=\"sk-item\"><div class=\"sk-label-container\"><div class=\"sk-label sk-toggleable\"><input class=\"sk-toggleable__control sk-hidden--visually\" id=\"sk-estimator-id-133\" type=\"checkbox\" ><label for=\"sk-estimator-id-133\" class=\"sk-toggleable__label sk-toggleable__label-arrow\">pipeline-1</label><div class=\"sk-toggleable__content\"><pre>&lt;sklearn.compose._column_transformer.make_column_selector object at 0x7f7ec0e0dc10&gt;</pre></div></div></div><div class=\"sk-serial\"><div class=\"sk-item\"><div class=\"sk-serial\"><div class=\"sk-item\"><div class=\"sk-estimator sk-toggleable\"><input class=\"sk-toggleable__control sk-hidden--visually\" id=\"sk-estimator-id-134\" type=\"checkbox\" ><label for=\"sk-estimator-id-134\" class=\"sk-toggleable__label sk-toggleable__label-arrow\">SimpleImputer</label><div class=\"sk-toggleable__content\"><pre>SimpleImputer()</pre></div></div></div><div class=\"sk-item\"><div class=\"sk-estimator sk-toggleable\"><input class=\"sk-toggleable__control sk-hidden--visually\" id=\"sk-estimator-id-135\" type=\"checkbox\" ><label for=\"sk-estimator-id-135\" class=\"sk-toggleable__label sk-toggleable__label-arrow\">StandardScaler</label><div class=\"sk-toggleable__content\"><pre>StandardScaler()</pre></div></div></div></div></div></div></div></div><div class=\"sk-parallel-item\"><div class=\"sk-item\"><div class=\"sk-label-container\"><div class=\"sk-label sk-toggleable\"><input class=\"sk-toggleable__control sk-hidden--visually\" id=\"sk-estimator-id-136\" type=\"checkbox\" ><label for=\"sk-estimator-id-136\" class=\"sk-toggleable__label sk-toggleable__label-arrow\">pipeline-2</label><div class=\"sk-toggleable__content\"><pre>&lt;sklearn.compose._column_transformer.make_column_selector object at 0x7f7ec0bec580&gt;</pre></div></div></div><div class=\"sk-serial\"><div class=\"sk-item\"><div class=\"sk-serial\"><div class=\"sk-item\"><div class=\"sk-estimator sk-toggleable\"><input class=\"sk-toggleable__control sk-hidden--visually\" id=\"sk-estimator-id-137\" type=\"checkbox\" ><label for=\"sk-estimator-id-137\" class=\"sk-toggleable__label sk-toggleable__label-arrow\">SimpleImputer</label><div class=\"sk-toggleable__content\"><pre>SimpleImputer(strategy=&#x27;most_frequent&#x27;)</pre></div></div></div><div class=\"sk-item\"><div class=\"sk-estimator sk-toggleable\"><input class=\"sk-toggleable__control sk-hidden--visually\" id=\"sk-estimator-id-138\" type=\"checkbox\" ><label for=\"sk-estimator-id-138\" class=\"sk-toggleable__label sk-toggleable__label-arrow\">OneHotEncoder</label><div class=\"sk-toggleable__content\"><pre>OneHotEncoder(handle_unknown=&#x27;ignore&#x27;, sparse=False)</pre></div></div></div></div></div></div></div></div></div></div><div class=\"sk-item\"><div class=\"sk-estimator sk-toggleable\"><input class=\"sk-toggleable__control sk-hidden--visually\" id=\"sk-estimator-id-139\" type=\"checkbox\" ><label for=\"sk-estimator-id-139\" class=\"sk-toggleable__label sk-toggleable__label-arrow\">LinearRegression</label><div class=\"sk-toggleable__content\"><pre>LinearRegression()</pre></div></div></div></div></div></div></div>"
            ]
          },
          "metadata": {}
        }
      ]
    },
    {
      "cell_type": "code",
      "source": [
        "#fit the data(training)\n",
        "lin_reg_pipe.fit(X_train, y_train)"
      ],
      "metadata": {
        "colab": {
          "base_uri": "https://localhost:8080/",
          "height": 277
        },
        "id": "M_qnKYQamNot",
        "outputId": "e888eeb0-53a1-4b2e-eed5-b7be78c5d6e6"
      },
      "execution_count": 234,
      "outputs": [
        {
          "output_type": "stream",
          "name": "stderr",
          "text": [
            "/usr/local/lib/python3.9/dist-packages/sklearn/preprocessing/_encoders.py:868: FutureWarning: `sparse` was renamed to `sparse_output` in version 1.2 and will be removed in 1.4. `sparse_output` is ignored unless you leave `sparse` to its default value.\n",
            "  warnings.warn(\n"
          ]
        },
        {
          "output_type": "execute_result",
          "data": {
            "text/plain": [
              "Pipeline(steps=[('columntransformer',\n",
              "                 ColumnTransformer(transformers=[('pipeline-1',\n",
              "                                                  Pipeline(steps=[('simpleimputer',\n",
              "                                                                   SimpleImputer()),\n",
              "                                                                  ('standardscaler',\n",
              "                                                                   StandardScaler())]),\n",
              "                                                  <sklearn.compose._column_transformer.make_column_selector object at 0x7f7ec0e0dc10>),\n",
              "                                                 ('pipeline-2',\n",
              "                                                  Pipeline(steps=[('simpleimputer',\n",
              "                                                                   SimpleImputer(strategy='most_frequent')),\n",
              "                                                                  ('onehotencoder',\n",
              "                                                                   OneHotEncoder(handle_unknown='ignore',\n",
              "                                                                                 sparse=False))]),\n",
              "                                                  <sklearn.compose._column_transformer.make_column_selector object at 0x7f7ec0bec580>)])),\n",
              "                ('linearregression', LinearRegression())])"
            ],
            "text/html": [
              "<style>#sk-container-id-15 {color: black;background-color: white;}#sk-container-id-15 pre{padding: 0;}#sk-container-id-15 div.sk-toggleable {background-color: white;}#sk-container-id-15 label.sk-toggleable__label {cursor: pointer;display: block;width: 100%;margin-bottom: 0;padding: 0.3em;box-sizing: border-box;text-align: center;}#sk-container-id-15 label.sk-toggleable__label-arrow:before {content: \"▸\";float: left;margin-right: 0.25em;color: #696969;}#sk-container-id-15 label.sk-toggleable__label-arrow:hover:before {color: black;}#sk-container-id-15 div.sk-estimator:hover label.sk-toggleable__label-arrow:before {color: black;}#sk-container-id-15 div.sk-toggleable__content {max-height: 0;max-width: 0;overflow: hidden;text-align: left;background-color: #f0f8ff;}#sk-container-id-15 div.sk-toggleable__content pre {margin: 0.2em;color: black;border-radius: 0.25em;background-color: #f0f8ff;}#sk-container-id-15 input.sk-toggleable__control:checked~div.sk-toggleable__content {max-height: 200px;max-width: 100%;overflow: auto;}#sk-container-id-15 input.sk-toggleable__control:checked~label.sk-toggleable__label-arrow:before {content: \"▾\";}#sk-container-id-15 div.sk-estimator input.sk-toggleable__control:checked~label.sk-toggleable__label {background-color: #d4ebff;}#sk-container-id-15 div.sk-label input.sk-toggleable__control:checked~label.sk-toggleable__label {background-color: #d4ebff;}#sk-container-id-15 input.sk-hidden--visually {border: 0;clip: rect(1px 1px 1px 1px);clip: rect(1px, 1px, 1px, 1px);height: 1px;margin: -1px;overflow: hidden;padding: 0;position: absolute;width: 1px;}#sk-container-id-15 div.sk-estimator {font-family: monospace;background-color: #f0f8ff;border: 1px dotted black;border-radius: 0.25em;box-sizing: border-box;margin-bottom: 0.5em;}#sk-container-id-15 div.sk-estimator:hover {background-color: #d4ebff;}#sk-container-id-15 div.sk-parallel-item::after {content: \"\";width: 100%;border-bottom: 1px solid gray;flex-grow: 1;}#sk-container-id-15 div.sk-label:hover label.sk-toggleable__label {background-color: #d4ebff;}#sk-container-id-15 div.sk-serial::before {content: \"\";position: absolute;border-left: 1px solid gray;box-sizing: border-box;top: 0;bottom: 0;left: 50%;z-index: 0;}#sk-container-id-15 div.sk-serial {display: flex;flex-direction: column;align-items: center;background-color: white;padding-right: 0.2em;padding-left: 0.2em;position: relative;}#sk-container-id-15 div.sk-item {position: relative;z-index: 1;}#sk-container-id-15 div.sk-parallel {display: flex;align-items: stretch;justify-content: center;background-color: white;position: relative;}#sk-container-id-15 div.sk-item::before, #sk-container-id-15 div.sk-parallel-item::before {content: \"\";position: absolute;border-left: 1px solid gray;box-sizing: border-box;top: 0;bottom: 0;left: 50%;z-index: -1;}#sk-container-id-15 div.sk-parallel-item {display: flex;flex-direction: column;z-index: 1;position: relative;background-color: white;}#sk-container-id-15 div.sk-parallel-item:first-child::after {align-self: flex-end;width: 50%;}#sk-container-id-15 div.sk-parallel-item:last-child::after {align-self: flex-start;width: 50%;}#sk-container-id-15 div.sk-parallel-item:only-child::after {width: 0;}#sk-container-id-15 div.sk-dashed-wrapped {border: 1px dashed gray;margin: 0 0.4em 0.5em 0.4em;box-sizing: border-box;padding-bottom: 0.4em;background-color: white;}#sk-container-id-15 div.sk-label label {font-family: monospace;font-weight: bold;display: inline-block;line-height: 1.2em;}#sk-container-id-15 div.sk-label-container {text-align: center;}#sk-container-id-15 div.sk-container {/* jupyter's `normalize.less` sets `[hidden] { display: none; }` but bootstrap.min.css set `[hidden] { display: none !important; }` so we also need the `!important` here to be able to override the default hidden behavior on the sphinx rendered scikit-learn.org. See: https://github.com/scikit-learn/scikit-learn/issues/21755 */display: inline-block !important;position: relative;}#sk-container-id-15 div.sk-text-repr-fallback {display: none;}</style><div id=\"sk-container-id-15\" class=\"sk-top-container\"><div class=\"sk-text-repr-fallback\"><pre>Pipeline(steps=[(&#x27;columntransformer&#x27;,\n",
              "                 ColumnTransformer(transformers=[(&#x27;pipeline-1&#x27;,\n",
              "                                                  Pipeline(steps=[(&#x27;simpleimputer&#x27;,\n",
              "                                                                   SimpleImputer()),\n",
              "                                                                  (&#x27;standardscaler&#x27;,\n",
              "                                                                   StandardScaler())]),\n",
              "                                                  &lt;sklearn.compose._column_transformer.make_column_selector object at 0x7f7ec0e0dc10&gt;),\n",
              "                                                 (&#x27;pipeline-2&#x27;,\n",
              "                                                  Pipeline(steps=[(&#x27;simpleimputer&#x27;,\n",
              "                                                                   SimpleImputer(strategy=&#x27;most_frequent&#x27;)),\n",
              "                                                                  (&#x27;onehotencoder&#x27;,\n",
              "                                                                   OneHotEncoder(handle_unknown=&#x27;ignore&#x27;,\n",
              "                                                                                 sparse=False))]),\n",
              "                                                  &lt;sklearn.compose._column_transformer.make_column_selector object at 0x7f7ec0bec580&gt;)])),\n",
              "                (&#x27;linearregression&#x27;, LinearRegression())])</pre><b>In a Jupyter environment, please rerun this cell to show the HTML representation or trust the notebook. <br />On GitHub, the HTML representation is unable to render, please try loading this page with nbviewer.org.</b></div><div class=\"sk-container\" hidden><div class=\"sk-item sk-dashed-wrapped\"><div class=\"sk-label-container\"><div class=\"sk-label sk-toggleable\"><input class=\"sk-toggleable__control sk-hidden--visually\" id=\"sk-estimator-id-113\" type=\"checkbox\" ><label for=\"sk-estimator-id-113\" class=\"sk-toggleable__label sk-toggleable__label-arrow\">Pipeline</label><div class=\"sk-toggleable__content\"><pre>Pipeline(steps=[(&#x27;columntransformer&#x27;,\n",
              "                 ColumnTransformer(transformers=[(&#x27;pipeline-1&#x27;,\n",
              "                                                  Pipeline(steps=[(&#x27;simpleimputer&#x27;,\n",
              "                                                                   SimpleImputer()),\n",
              "                                                                  (&#x27;standardscaler&#x27;,\n",
              "                                                                   StandardScaler())]),\n",
              "                                                  &lt;sklearn.compose._column_transformer.make_column_selector object at 0x7f7ec0e0dc10&gt;),\n",
              "                                                 (&#x27;pipeline-2&#x27;,\n",
              "                                                  Pipeline(steps=[(&#x27;simpleimputer&#x27;,\n",
              "                                                                   SimpleImputer(strategy=&#x27;most_frequent&#x27;)),\n",
              "                                                                  (&#x27;onehotencoder&#x27;,\n",
              "                                                                   OneHotEncoder(handle_unknown=&#x27;ignore&#x27;,\n",
              "                                                                                 sparse=False))]),\n",
              "                                                  &lt;sklearn.compose._column_transformer.make_column_selector object at 0x7f7ec0bec580&gt;)])),\n",
              "                (&#x27;linearregression&#x27;, LinearRegression())])</pre></div></div></div><div class=\"sk-serial\"><div class=\"sk-item sk-dashed-wrapped\"><div class=\"sk-label-container\"><div class=\"sk-label sk-toggleable\"><input class=\"sk-toggleable__control sk-hidden--visually\" id=\"sk-estimator-id-114\" type=\"checkbox\" ><label for=\"sk-estimator-id-114\" class=\"sk-toggleable__label sk-toggleable__label-arrow\">columntransformer: ColumnTransformer</label><div class=\"sk-toggleable__content\"><pre>ColumnTransformer(transformers=[(&#x27;pipeline-1&#x27;,\n",
              "                                 Pipeline(steps=[(&#x27;simpleimputer&#x27;,\n",
              "                                                  SimpleImputer()),\n",
              "                                                 (&#x27;standardscaler&#x27;,\n",
              "                                                  StandardScaler())]),\n",
              "                                 &lt;sklearn.compose._column_transformer.make_column_selector object at 0x7f7ec0e0dc10&gt;),\n",
              "                                (&#x27;pipeline-2&#x27;,\n",
              "                                 Pipeline(steps=[(&#x27;simpleimputer&#x27;,\n",
              "                                                  SimpleImputer(strategy=&#x27;most_frequent&#x27;)),\n",
              "                                                 (&#x27;onehotencoder&#x27;,\n",
              "                                                  OneHotEncoder(handle_unknown=&#x27;ignore&#x27;,\n",
              "                                                                sparse=False))]),\n",
              "                                 &lt;sklearn.compose._column_transformer.make_column_selector object at 0x7f7ec0bec580&gt;)])</pre></div></div></div><div class=\"sk-parallel\"><div class=\"sk-parallel-item\"><div class=\"sk-item\"><div class=\"sk-label-container\"><div class=\"sk-label sk-toggleable\"><input class=\"sk-toggleable__control sk-hidden--visually\" id=\"sk-estimator-id-115\" type=\"checkbox\" ><label for=\"sk-estimator-id-115\" class=\"sk-toggleable__label sk-toggleable__label-arrow\">pipeline-1</label><div class=\"sk-toggleable__content\"><pre>&lt;sklearn.compose._column_transformer.make_column_selector object at 0x7f7ec0e0dc10&gt;</pre></div></div></div><div class=\"sk-serial\"><div class=\"sk-item\"><div class=\"sk-serial\"><div class=\"sk-item\"><div class=\"sk-estimator sk-toggleable\"><input class=\"sk-toggleable__control sk-hidden--visually\" id=\"sk-estimator-id-116\" type=\"checkbox\" ><label for=\"sk-estimator-id-116\" class=\"sk-toggleable__label sk-toggleable__label-arrow\">SimpleImputer</label><div class=\"sk-toggleable__content\"><pre>SimpleImputer()</pre></div></div></div><div class=\"sk-item\"><div class=\"sk-estimator sk-toggleable\"><input class=\"sk-toggleable__control sk-hidden--visually\" id=\"sk-estimator-id-117\" type=\"checkbox\" ><label for=\"sk-estimator-id-117\" class=\"sk-toggleable__label sk-toggleable__label-arrow\">StandardScaler</label><div class=\"sk-toggleable__content\"><pre>StandardScaler()</pre></div></div></div></div></div></div></div></div><div class=\"sk-parallel-item\"><div class=\"sk-item\"><div class=\"sk-label-container\"><div class=\"sk-label sk-toggleable\"><input class=\"sk-toggleable__control sk-hidden--visually\" id=\"sk-estimator-id-118\" type=\"checkbox\" ><label for=\"sk-estimator-id-118\" class=\"sk-toggleable__label sk-toggleable__label-arrow\">pipeline-2</label><div class=\"sk-toggleable__content\"><pre>&lt;sklearn.compose._column_transformer.make_column_selector object at 0x7f7ec0bec580&gt;</pre></div></div></div><div class=\"sk-serial\"><div class=\"sk-item\"><div class=\"sk-serial\"><div class=\"sk-item\"><div class=\"sk-estimator sk-toggleable\"><input class=\"sk-toggleable__control sk-hidden--visually\" id=\"sk-estimator-id-119\" type=\"checkbox\" ><label for=\"sk-estimator-id-119\" class=\"sk-toggleable__label sk-toggleable__label-arrow\">SimpleImputer</label><div class=\"sk-toggleable__content\"><pre>SimpleImputer(strategy=&#x27;most_frequent&#x27;)</pre></div></div></div><div class=\"sk-item\"><div class=\"sk-estimator sk-toggleable\"><input class=\"sk-toggleable__control sk-hidden--visually\" id=\"sk-estimator-id-120\" type=\"checkbox\" ><label for=\"sk-estimator-id-120\" class=\"sk-toggleable__label sk-toggleable__label-arrow\">OneHotEncoder</label><div class=\"sk-toggleable__content\"><pre>OneHotEncoder(handle_unknown=&#x27;ignore&#x27;, sparse=False)</pre></div></div></div></div></div></div></div></div></div></div><div class=\"sk-item\"><div class=\"sk-estimator sk-toggleable\"><input class=\"sk-toggleable__control sk-hidden--visually\" id=\"sk-estimator-id-121\" type=\"checkbox\" ><label for=\"sk-estimator-id-121\" class=\"sk-toggleable__label sk-toggleable__label-arrow\">LinearRegression</label><div class=\"sk-toggleable__content\"><pre>LinearRegression()</pre></div></div></div></div></div></div></div>"
            ]
          },
          "metadata": {},
          "execution_count": 234
        }
      ]
    },
    {
      "cell_type": "code",
      "source": [
        "# model predictions for train snd test\n",
        "lin_train_preds = lin_reg_pipe.predict(X_train)\n",
        "lin_test_preds = lin_reg_pipe.predict(X_test)\n"
      ],
      "metadata": {
        "id": "YP0tlSU5v6li"
      },
      "execution_count": 235,
      "outputs": []
    },
    {
      "cell_type": "markdown",
      "source": [
        "# Evaluate the performance of your model based on r^2."
      ],
      "metadata": {
        "id": "N3hQi6Jq5o1d"
      }
    },
    {
      "cell_type": "code",
      "source": [
        "# calculating using r^2\n",
        "train_r2 = r2_score(y_train, lin_train_preds)\n",
        "test_r2 = r2_score(y_test, lin_test_preds)\n",
        "# print results\n",
        "print(f'Model Training R2: {train_r2}')\n",
        "print(f'Model Testing R2: {test_r2}')"
      ],
      "metadata": {
        "colab": {
          "base_uri": "https://localhost:8080/"
        },
        "id": "zs8awUXd5qcI",
        "outputId": "904c3c4e-033d-4b23-9a9c-310d44e16261"
      },
      "execution_count": 236,
      "outputs": [
        {
          "output_type": "stream",
          "name": "stdout",
          "text": [
            "Model Training R2: 0.5615551260381082\n",
            "Model Testing R2: 0.5671049487900051\n"
          ]
        }
      ]
    },
    {
      "cell_type": "markdown",
      "source": [
        "Model Training can account for 57% of the variation in tbe test using the features available."
      ],
      "metadata": {
        "id": "23wCsmTdCHCl"
      }
    },
    {
      "cell_type": "code",
      "source": [
        "# create rmse scores for training and testing data\n",
        "train_rmse = np.sqrt(mean_squared_error(y_train, lin_train_preds))\n",
        "test_rmse = np.sqrt(mean_squared_error(y_test, lin_test_preds))\n",
        "# print results\n",
        "print(f'Model Training RMSE score: {train_rmse}')\n",
        "print(f'Model Testing RMSE score: {test_rmse}')"
      ],
      "metadata": {
        "colab": {
          "base_uri": "https://localhost:8080/"
        },
        "id": "vpiNL_TtCoa2",
        "outputId": "5720f5d6-2d41-4ca4-9f0a-6f145680c4fa"
      },
      "execution_count": 237,
      "outputs": [
        {
          "output_type": "stream",
          "name": "stdout",
          "text": [
            "Model Training RMSE score: 1139.1041143666143\n",
            "Model Testing RMSE score: 1092.8621204398453\n"
          ]
        }
      ]
    },
    {
      "cell_type": "markdown",
      "source": [
        "The model above is missing an average of 1093 dollars."
      ],
      "metadata": {
        "id": "tdnu_aDuJKOK"
      }
    },
    {
      "cell_type": "markdown",
      "source": [
        "# Build a regression tree model to predict sales.\n",
        "\n"
      ],
      "metadata": {
        "id": "FJv5tV_GMZcb"
      }
    },
    {
      "cell_type": "code",
      "source": [
        "# create tree model\n",
        "rf = RandomForestRegressor()\n",
        "# pipeline with preprocessor\n",
        "rf_pipe = make_pipeline(preprocessor, rf)\n",
        "# display\n",
        "display(rf_pipe)"
      ],
      "metadata": {
        "colab": {
          "base_uri": "https://localhost:8080/",
          "height": 222
        },
        "id": "r9ndcf3mMOGh",
        "outputId": "1d09876b-9e14-4584-ec23-ca1b57b7a7e3"
      },
      "execution_count": 238,
      "outputs": [
        {
          "output_type": "display_data",
          "data": {
            "text/plain": [
              "Pipeline(steps=[('columntransformer',\n",
              "                 ColumnTransformer(transformers=[('pipeline-1',\n",
              "                                                  Pipeline(steps=[('simpleimputer',\n",
              "                                                                   SimpleImputer()),\n",
              "                                                                  ('standardscaler',\n",
              "                                                                   StandardScaler())]),\n",
              "                                                  <sklearn.compose._column_transformer.make_column_selector object at 0x7f7ec0e0dc10>),\n",
              "                                                 ('pipeline-2',\n",
              "                                                  Pipeline(steps=[('simpleimputer',\n",
              "                                                                   SimpleImputer(strategy='most_frequent')),\n",
              "                                                                  ('onehotencoder',\n",
              "                                                                   OneHotEncoder(handle_unknown='ignore',\n",
              "                                                                                 sparse=False))]),\n",
              "                                                  <sklearn.compose._column_transformer.make_column_selector object at 0x7f7ec0bec580>)])),\n",
              "                ('randomforestregressor', RandomForestRegressor())])"
            ],
            "text/html": [
              "<style>#sk-container-id-16 {color: black;background-color: white;}#sk-container-id-16 pre{padding: 0;}#sk-container-id-16 div.sk-toggleable {background-color: white;}#sk-container-id-16 label.sk-toggleable__label {cursor: pointer;display: block;width: 100%;margin-bottom: 0;padding: 0.3em;box-sizing: border-box;text-align: center;}#sk-container-id-16 label.sk-toggleable__label-arrow:before {content: \"▸\";float: left;margin-right: 0.25em;color: #696969;}#sk-container-id-16 label.sk-toggleable__label-arrow:hover:before {color: black;}#sk-container-id-16 div.sk-estimator:hover label.sk-toggleable__label-arrow:before {color: black;}#sk-container-id-16 div.sk-toggleable__content {max-height: 0;max-width: 0;overflow: hidden;text-align: left;background-color: #f0f8ff;}#sk-container-id-16 div.sk-toggleable__content pre {margin: 0.2em;color: black;border-radius: 0.25em;background-color: #f0f8ff;}#sk-container-id-16 input.sk-toggleable__control:checked~div.sk-toggleable__content {max-height: 200px;max-width: 100%;overflow: auto;}#sk-container-id-16 input.sk-toggleable__control:checked~label.sk-toggleable__label-arrow:before {content: \"▾\";}#sk-container-id-16 div.sk-estimator input.sk-toggleable__control:checked~label.sk-toggleable__label {background-color: #d4ebff;}#sk-container-id-16 div.sk-label input.sk-toggleable__control:checked~label.sk-toggleable__label {background-color: #d4ebff;}#sk-container-id-16 input.sk-hidden--visually {border: 0;clip: rect(1px 1px 1px 1px);clip: rect(1px, 1px, 1px, 1px);height: 1px;margin: -1px;overflow: hidden;padding: 0;position: absolute;width: 1px;}#sk-container-id-16 div.sk-estimator {font-family: monospace;background-color: #f0f8ff;border: 1px dotted black;border-radius: 0.25em;box-sizing: border-box;margin-bottom: 0.5em;}#sk-container-id-16 div.sk-estimator:hover {background-color: #d4ebff;}#sk-container-id-16 div.sk-parallel-item::after {content: \"\";width: 100%;border-bottom: 1px solid gray;flex-grow: 1;}#sk-container-id-16 div.sk-label:hover label.sk-toggleable__label {background-color: #d4ebff;}#sk-container-id-16 div.sk-serial::before {content: \"\";position: absolute;border-left: 1px solid gray;box-sizing: border-box;top: 0;bottom: 0;left: 50%;z-index: 0;}#sk-container-id-16 div.sk-serial {display: flex;flex-direction: column;align-items: center;background-color: white;padding-right: 0.2em;padding-left: 0.2em;position: relative;}#sk-container-id-16 div.sk-item {position: relative;z-index: 1;}#sk-container-id-16 div.sk-parallel {display: flex;align-items: stretch;justify-content: center;background-color: white;position: relative;}#sk-container-id-16 div.sk-item::before, #sk-container-id-16 div.sk-parallel-item::before {content: \"\";position: absolute;border-left: 1px solid gray;box-sizing: border-box;top: 0;bottom: 0;left: 50%;z-index: -1;}#sk-container-id-16 div.sk-parallel-item {display: flex;flex-direction: column;z-index: 1;position: relative;background-color: white;}#sk-container-id-16 div.sk-parallel-item:first-child::after {align-self: flex-end;width: 50%;}#sk-container-id-16 div.sk-parallel-item:last-child::after {align-self: flex-start;width: 50%;}#sk-container-id-16 div.sk-parallel-item:only-child::after {width: 0;}#sk-container-id-16 div.sk-dashed-wrapped {border: 1px dashed gray;margin: 0 0.4em 0.5em 0.4em;box-sizing: border-box;padding-bottom: 0.4em;background-color: white;}#sk-container-id-16 div.sk-label label {font-family: monospace;font-weight: bold;display: inline-block;line-height: 1.2em;}#sk-container-id-16 div.sk-label-container {text-align: center;}#sk-container-id-16 div.sk-container {/* jupyter's `normalize.less` sets `[hidden] { display: none; }` but bootstrap.min.css set `[hidden] { display: none !important; }` so we also need the `!important` here to be able to override the default hidden behavior on the sphinx rendered scikit-learn.org. See: https://github.com/scikit-learn/scikit-learn/issues/21755 */display: inline-block !important;position: relative;}#sk-container-id-16 div.sk-text-repr-fallback {display: none;}</style><div id=\"sk-container-id-16\" class=\"sk-top-container\"><div class=\"sk-text-repr-fallback\"><pre>Pipeline(steps=[(&#x27;columntransformer&#x27;,\n",
              "                 ColumnTransformer(transformers=[(&#x27;pipeline-1&#x27;,\n",
              "                                                  Pipeline(steps=[(&#x27;simpleimputer&#x27;,\n",
              "                                                                   SimpleImputer()),\n",
              "                                                                  (&#x27;standardscaler&#x27;,\n",
              "                                                                   StandardScaler())]),\n",
              "                                                  &lt;sklearn.compose._column_transformer.make_column_selector object at 0x7f7ec0e0dc10&gt;),\n",
              "                                                 (&#x27;pipeline-2&#x27;,\n",
              "                                                  Pipeline(steps=[(&#x27;simpleimputer&#x27;,\n",
              "                                                                   SimpleImputer(strategy=&#x27;most_frequent&#x27;)),\n",
              "                                                                  (&#x27;onehotencoder&#x27;,\n",
              "                                                                   OneHotEncoder(handle_unknown=&#x27;ignore&#x27;,\n",
              "                                                                                 sparse=False))]),\n",
              "                                                  &lt;sklearn.compose._column_transformer.make_column_selector object at 0x7f7ec0bec580&gt;)])),\n",
              "                (&#x27;randomforestregressor&#x27;, RandomForestRegressor())])</pre><b>In a Jupyter environment, please rerun this cell to show the HTML representation or trust the notebook. <br />On GitHub, the HTML representation is unable to render, please try loading this page with nbviewer.org.</b></div><div class=\"sk-container\" hidden><div class=\"sk-item sk-dashed-wrapped\"><div class=\"sk-label-container\"><div class=\"sk-label sk-toggleable\"><input class=\"sk-toggleable__control sk-hidden--visually\" id=\"sk-estimator-id-122\" type=\"checkbox\" ><label for=\"sk-estimator-id-122\" class=\"sk-toggleable__label sk-toggleable__label-arrow\">Pipeline</label><div class=\"sk-toggleable__content\"><pre>Pipeline(steps=[(&#x27;columntransformer&#x27;,\n",
              "                 ColumnTransformer(transformers=[(&#x27;pipeline-1&#x27;,\n",
              "                                                  Pipeline(steps=[(&#x27;simpleimputer&#x27;,\n",
              "                                                                   SimpleImputer()),\n",
              "                                                                  (&#x27;standardscaler&#x27;,\n",
              "                                                                   StandardScaler())]),\n",
              "                                                  &lt;sklearn.compose._column_transformer.make_column_selector object at 0x7f7ec0e0dc10&gt;),\n",
              "                                                 (&#x27;pipeline-2&#x27;,\n",
              "                                                  Pipeline(steps=[(&#x27;simpleimputer&#x27;,\n",
              "                                                                   SimpleImputer(strategy=&#x27;most_frequent&#x27;)),\n",
              "                                                                  (&#x27;onehotencoder&#x27;,\n",
              "                                                                   OneHotEncoder(handle_unknown=&#x27;ignore&#x27;,\n",
              "                                                                                 sparse=False))]),\n",
              "                                                  &lt;sklearn.compose._column_transformer.make_column_selector object at 0x7f7ec0bec580&gt;)])),\n",
              "                (&#x27;randomforestregressor&#x27;, RandomForestRegressor())])</pre></div></div></div><div class=\"sk-serial\"><div class=\"sk-item sk-dashed-wrapped\"><div class=\"sk-label-container\"><div class=\"sk-label sk-toggleable\"><input class=\"sk-toggleable__control sk-hidden--visually\" id=\"sk-estimator-id-123\" type=\"checkbox\" ><label for=\"sk-estimator-id-123\" class=\"sk-toggleable__label sk-toggleable__label-arrow\">columntransformer: ColumnTransformer</label><div class=\"sk-toggleable__content\"><pre>ColumnTransformer(transformers=[(&#x27;pipeline-1&#x27;,\n",
              "                                 Pipeline(steps=[(&#x27;simpleimputer&#x27;,\n",
              "                                                  SimpleImputer()),\n",
              "                                                 (&#x27;standardscaler&#x27;,\n",
              "                                                  StandardScaler())]),\n",
              "                                 &lt;sklearn.compose._column_transformer.make_column_selector object at 0x7f7ec0e0dc10&gt;),\n",
              "                                (&#x27;pipeline-2&#x27;,\n",
              "                                 Pipeline(steps=[(&#x27;simpleimputer&#x27;,\n",
              "                                                  SimpleImputer(strategy=&#x27;most_frequent&#x27;)),\n",
              "                                                 (&#x27;onehotencoder&#x27;,\n",
              "                                                  OneHotEncoder(handle_unknown=&#x27;ignore&#x27;,\n",
              "                                                                sparse=False))]),\n",
              "                                 &lt;sklearn.compose._column_transformer.make_column_selector object at 0x7f7ec0bec580&gt;)])</pre></div></div></div><div class=\"sk-parallel\"><div class=\"sk-parallel-item\"><div class=\"sk-item\"><div class=\"sk-label-container\"><div class=\"sk-label sk-toggleable\"><input class=\"sk-toggleable__control sk-hidden--visually\" id=\"sk-estimator-id-124\" type=\"checkbox\" ><label for=\"sk-estimator-id-124\" class=\"sk-toggleable__label sk-toggleable__label-arrow\">pipeline-1</label><div class=\"sk-toggleable__content\"><pre>&lt;sklearn.compose._column_transformer.make_column_selector object at 0x7f7ec0e0dc10&gt;</pre></div></div></div><div class=\"sk-serial\"><div class=\"sk-item\"><div class=\"sk-serial\"><div class=\"sk-item\"><div class=\"sk-estimator sk-toggleable\"><input class=\"sk-toggleable__control sk-hidden--visually\" id=\"sk-estimator-id-125\" type=\"checkbox\" ><label for=\"sk-estimator-id-125\" class=\"sk-toggleable__label sk-toggleable__label-arrow\">SimpleImputer</label><div class=\"sk-toggleable__content\"><pre>SimpleImputer()</pre></div></div></div><div class=\"sk-item\"><div class=\"sk-estimator sk-toggleable\"><input class=\"sk-toggleable__control sk-hidden--visually\" id=\"sk-estimator-id-126\" type=\"checkbox\" ><label for=\"sk-estimator-id-126\" class=\"sk-toggleable__label sk-toggleable__label-arrow\">StandardScaler</label><div class=\"sk-toggleable__content\"><pre>StandardScaler()</pre></div></div></div></div></div></div></div></div><div class=\"sk-parallel-item\"><div class=\"sk-item\"><div class=\"sk-label-container\"><div class=\"sk-label sk-toggleable\"><input class=\"sk-toggleable__control sk-hidden--visually\" id=\"sk-estimator-id-127\" type=\"checkbox\" ><label for=\"sk-estimator-id-127\" class=\"sk-toggleable__label sk-toggleable__label-arrow\">pipeline-2</label><div class=\"sk-toggleable__content\"><pre>&lt;sklearn.compose._column_transformer.make_column_selector object at 0x7f7ec0bec580&gt;</pre></div></div></div><div class=\"sk-serial\"><div class=\"sk-item\"><div class=\"sk-serial\"><div class=\"sk-item\"><div class=\"sk-estimator sk-toggleable\"><input class=\"sk-toggleable__control sk-hidden--visually\" id=\"sk-estimator-id-128\" type=\"checkbox\" ><label for=\"sk-estimator-id-128\" class=\"sk-toggleable__label sk-toggleable__label-arrow\">SimpleImputer</label><div class=\"sk-toggleable__content\"><pre>SimpleImputer(strategy=&#x27;most_frequent&#x27;)</pre></div></div></div><div class=\"sk-item\"><div class=\"sk-estimator sk-toggleable\"><input class=\"sk-toggleable__control sk-hidden--visually\" id=\"sk-estimator-id-129\" type=\"checkbox\" ><label for=\"sk-estimator-id-129\" class=\"sk-toggleable__label sk-toggleable__label-arrow\">OneHotEncoder</label><div class=\"sk-toggleable__content\"><pre>OneHotEncoder(handle_unknown=&#x27;ignore&#x27;, sparse=False)</pre></div></div></div></div></div></div></div></div></div></div><div class=\"sk-item\"><div class=\"sk-estimator sk-toggleable\"><input class=\"sk-toggleable__control sk-hidden--visually\" id=\"sk-estimator-id-130\" type=\"checkbox\" ><label for=\"sk-estimator-id-130\" class=\"sk-toggleable__label sk-toggleable__label-arrow\">RandomForestRegressor</label><div class=\"sk-toggleable__content\"><pre>RandomForestRegressor()</pre></div></div></div></div></div></div></div>"
            ]
          },
          "metadata": {}
        }
      ]
    },
    {
      "cell_type": "code",
      "source": [
        "# fit training data\n",
        "rf_pipe.fit(X_train, y_train)"
      ],
      "metadata": {
        "colab": {
          "base_uri": "https://localhost:8080/",
          "height": 277
        },
        "id": "gMY5dW23OJ45",
        "outputId": "9314adca-6031-44a9-d78a-8c3a4bf61ec2"
      },
      "execution_count": 240,
      "outputs": [
        {
          "output_type": "stream",
          "name": "stderr",
          "text": [
            "/usr/local/lib/python3.9/dist-packages/sklearn/preprocessing/_encoders.py:868: FutureWarning: `sparse` was renamed to `sparse_output` in version 1.2 and will be removed in 1.4. `sparse_output` is ignored unless you leave `sparse` to its default value.\n",
            "  warnings.warn(\n"
          ]
        },
        {
          "output_type": "execute_result",
          "data": {
            "text/plain": [
              "Pipeline(steps=[('columntransformer',\n",
              "                 ColumnTransformer(transformers=[('pipeline-1',\n",
              "                                                  Pipeline(steps=[('simpleimputer',\n",
              "                                                                   SimpleImputer()),\n",
              "                                                                  ('standardscaler',\n",
              "                                                                   StandardScaler())]),\n",
              "                                                  <sklearn.compose._column_transformer.make_column_selector object at 0x7f7ec0e0dc10>),\n",
              "                                                 ('pipeline-2',\n",
              "                                                  Pipeline(steps=[('simpleimputer',\n",
              "                                                                   SimpleImputer(strategy='most_frequent')),\n",
              "                                                                  ('onehotencoder',\n",
              "                                                                   OneHotEncoder(handle_unknown='ignore',\n",
              "                                                                                 sparse=False))]),\n",
              "                                                  <sklearn.compose._column_transformer.make_column_selector object at 0x7f7ec0bec580>)])),\n",
              "                ('randomforestregressor', RandomForestRegressor())])"
            ],
            "text/html": [
              "<style>#sk-container-id-18 {color: black;background-color: white;}#sk-container-id-18 pre{padding: 0;}#sk-container-id-18 div.sk-toggleable {background-color: white;}#sk-container-id-18 label.sk-toggleable__label {cursor: pointer;display: block;width: 100%;margin-bottom: 0;padding: 0.3em;box-sizing: border-box;text-align: center;}#sk-container-id-18 label.sk-toggleable__label-arrow:before {content: \"▸\";float: left;margin-right: 0.25em;color: #696969;}#sk-container-id-18 label.sk-toggleable__label-arrow:hover:before {color: black;}#sk-container-id-18 div.sk-estimator:hover label.sk-toggleable__label-arrow:before {color: black;}#sk-container-id-18 div.sk-toggleable__content {max-height: 0;max-width: 0;overflow: hidden;text-align: left;background-color: #f0f8ff;}#sk-container-id-18 div.sk-toggleable__content pre {margin: 0.2em;color: black;border-radius: 0.25em;background-color: #f0f8ff;}#sk-container-id-18 input.sk-toggleable__control:checked~div.sk-toggleable__content {max-height: 200px;max-width: 100%;overflow: auto;}#sk-container-id-18 input.sk-toggleable__control:checked~label.sk-toggleable__label-arrow:before {content: \"▾\";}#sk-container-id-18 div.sk-estimator input.sk-toggleable__control:checked~label.sk-toggleable__label {background-color: #d4ebff;}#sk-container-id-18 div.sk-label input.sk-toggleable__control:checked~label.sk-toggleable__label {background-color: #d4ebff;}#sk-container-id-18 input.sk-hidden--visually {border: 0;clip: rect(1px 1px 1px 1px);clip: rect(1px, 1px, 1px, 1px);height: 1px;margin: -1px;overflow: hidden;padding: 0;position: absolute;width: 1px;}#sk-container-id-18 div.sk-estimator {font-family: monospace;background-color: #f0f8ff;border: 1px dotted black;border-radius: 0.25em;box-sizing: border-box;margin-bottom: 0.5em;}#sk-container-id-18 div.sk-estimator:hover {background-color: #d4ebff;}#sk-container-id-18 div.sk-parallel-item::after {content: \"\";width: 100%;border-bottom: 1px solid gray;flex-grow: 1;}#sk-container-id-18 div.sk-label:hover label.sk-toggleable__label {background-color: #d4ebff;}#sk-container-id-18 div.sk-serial::before {content: \"\";position: absolute;border-left: 1px solid gray;box-sizing: border-box;top: 0;bottom: 0;left: 50%;z-index: 0;}#sk-container-id-18 div.sk-serial {display: flex;flex-direction: column;align-items: center;background-color: white;padding-right: 0.2em;padding-left: 0.2em;position: relative;}#sk-container-id-18 div.sk-item {position: relative;z-index: 1;}#sk-container-id-18 div.sk-parallel {display: flex;align-items: stretch;justify-content: center;background-color: white;position: relative;}#sk-container-id-18 div.sk-item::before, #sk-container-id-18 div.sk-parallel-item::before {content: \"\";position: absolute;border-left: 1px solid gray;box-sizing: border-box;top: 0;bottom: 0;left: 50%;z-index: -1;}#sk-container-id-18 div.sk-parallel-item {display: flex;flex-direction: column;z-index: 1;position: relative;background-color: white;}#sk-container-id-18 div.sk-parallel-item:first-child::after {align-self: flex-end;width: 50%;}#sk-container-id-18 div.sk-parallel-item:last-child::after {align-self: flex-start;width: 50%;}#sk-container-id-18 div.sk-parallel-item:only-child::after {width: 0;}#sk-container-id-18 div.sk-dashed-wrapped {border: 1px dashed gray;margin: 0 0.4em 0.5em 0.4em;box-sizing: border-box;padding-bottom: 0.4em;background-color: white;}#sk-container-id-18 div.sk-label label {font-family: monospace;font-weight: bold;display: inline-block;line-height: 1.2em;}#sk-container-id-18 div.sk-label-container {text-align: center;}#sk-container-id-18 div.sk-container {/* jupyter's `normalize.less` sets `[hidden] { display: none; }` but bootstrap.min.css set `[hidden] { display: none !important; }` so we also need the `!important` here to be able to override the default hidden behavior on the sphinx rendered scikit-learn.org. See: https://github.com/scikit-learn/scikit-learn/issues/21755 */display: inline-block !important;position: relative;}#sk-container-id-18 div.sk-text-repr-fallback {display: none;}</style><div id=\"sk-container-id-18\" class=\"sk-top-container\"><div class=\"sk-text-repr-fallback\"><pre>Pipeline(steps=[(&#x27;columntransformer&#x27;,\n",
              "                 ColumnTransformer(transformers=[(&#x27;pipeline-1&#x27;,\n",
              "                                                  Pipeline(steps=[(&#x27;simpleimputer&#x27;,\n",
              "                                                                   SimpleImputer()),\n",
              "                                                                  (&#x27;standardscaler&#x27;,\n",
              "                                                                   StandardScaler())]),\n",
              "                                                  &lt;sklearn.compose._column_transformer.make_column_selector object at 0x7f7ec0e0dc10&gt;),\n",
              "                                                 (&#x27;pipeline-2&#x27;,\n",
              "                                                  Pipeline(steps=[(&#x27;simpleimputer&#x27;,\n",
              "                                                                   SimpleImputer(strategy=&#x27;most_frequent&#x27;)),\n",
              "                                                                  (&#x27;onehotencoder&#x27;,\n",
              "                                                                   OneHotEncoder(handle_unknown=&#x27;ignore&#x27;,\n",
              "                                                                                 sparse=False))]),\n",
              "                                                  &lt;sklearn.compose._column_transformer.make_column_selector object at 0x7f7ec0bec580&gt;)])),\n",
              "                (&#x27;randomforestregressor&#x27;, RandomForestRegressor())])</pre><b>In a Jupyter environment, please rerun this cell to show the HTML representation or trust the notebook. <br />On GitHub, the HTML representation is unable to render, please try loading this page with nbviewer.org.</b></div><div class=\"sk-container\" hidden><div class=\"sk-item sk-dashed-wrapped\"><div class=\"sk-label-container\"><div class=\"sk-label sk-toggleable\"><input class=\"sk-toggleable__control sk-hidden--visually\" id=\"sk-estimator-id-140\" type=\"checkbox\" ><label for=\"sk-estimator-id-140\" class=\"sk-toggleable__label sk-toggleable__label-arrow\">Pipeline</label><div class=\"sk-toggleable__content\"><pre>Pipeline(steps=[(&#x27;columntransformer&#x27;,\n",
              "                 ColumnTransformer(transformers=[(&#x27;pipeline-1&#x27;,\n",
              "                                                  Pipeline(steps=[(&#x27;simpleimputer&#x27;,\n",
              "                                                                   SimpleImputer()),\n",
              "                                                                  (&#x27;standardscaler&#x27;,\n",
              "                                                                   StandardScaler())]),\n",
              "                                                  &lt;sklearn.compose._column_transformer.make_column_selector object at 0x7f7ec0e0dc10&gt;),\n",
              "                                                 (&#x27;pipeline-2&#x27;,\n",
              "                                                  Pipeline(steps=[(&#x27;simpleimputer&#x27;,\n",
              "                                                                   SimpleImputer(strategy=&#x27;most_frequent&#x27;)),\n",
              "                                                                  (&#x27;onehotencoder&#x27;,\n",
              "                                                                   OneHotEncoder(handle_unknown=&#x27;ignore&#x27;,\n",
              "                                                                                 sparse=False))]),\n",
              "                                                  &lt;sklearn.compose._column_transformer.make_column_selector object at 0x7f7ec0bec580&gt;)])),\n",
              "                (&#x27;randomforestregressor&#x27;, RandomForestRegressor())])</pre></div></div></div><div class=\"sk-serial\"><div class=\"sk-item sk-dashed-wrapped\"><div class=\"sk-label-container\"><div class=\"sk-label sk-toggleable\"><input class=\"sk-toggleable__control sk-hidden--visually\" id=\"sk-estimator-id-141\" type=\"checkbox\" ><label for=\"sk-estimator-id-141\" class=\"sk-toggleable__label sk-toggleable__label-arrow\">columntransformer: ColumnTransformer</label><div class=\"sk-toggleable__content\"><pre>ColumnTransformer(transformers=[(&#x27;pipeline-1&#x27;,\n",
              "                                 Pipeline(steps=[(&#x27;simpleimputer&#x27;,\n",
              "                                                  SimpleImputer()),\n",
              "                                                 (&#x27;standardscaler&#x27;,\n",
              "                                                  StandardScaler())]),\n",
              "                                 &lt;sklearn.compose._column_transformer.make_column_selector object at 0x7f7ec0e0dc10&gt;),\n",
              "                                (&#x27;pipeline-2&#x27;,\n",
              "                                 Pipeline(steps=[(&#x27;simpleimputer&#x27;,\n",
              "                                                  SimpleImputer(strategy=&#x27;most_frequent&#x27;)),\n",
              "                                                 (&#x27;onehotencoder&#x27;,\n",
              "                                                  OneHotEncoder(handle_unknown=&#x27;ignore&#x27;,\n",
              "                                                                sparse=False))]),\n",
              "                                 &lt;sklearn.compose._column_transformer.make_column_selector object at 0x7f7ec0bec580&gt;)])</pre></div></div></div><div class=\"sk-parallel\"><div class=\"sk-parallel-item\"><div class=\"sk-item\"><div class=\"sk-label-container\"><div class=\"sk-label sk-toggleable\"><input class=\"sk-toggleable__control sk-hidden--visually\" id=\"sk-estimator-id-142\" type=\"checkbox\" ><label for=\"sk-estimator-id-142\" class=\"sk-toggleable__label sk-toggleable__label-arrow\">pipeline-1</label><div class=\"sk-toggleable__content\"><pre>&lt;sklearn.compose._column_transformer.make_column_selector object at 0x7f7ec0e0dc10&gt;</pre></div></div></div><div class=\"sk-serial\"><div class=\"sk-item\"><div class=\"sk-serial\"><div class=\"sk-item\"><div class=\"sk-estimator sk-toggleable\"><input class=\"sk-toggleable__control sk-hidden--visually\" id=\"sk-estimator-id-143\" type=\"checkbox\" ><label for=\"sk-estimator-id-143\" class=\"sk-toggleable__label sk-toggleable__label-arrow\">SimpleImputer</label><div class=\"sk-toggleable__content\"><pre>SimpleImputer()</pre></div></div></div><div class=\"sk-item\"><div class=\"sk-estimator sk-toggleable\"><input class=\"sk-toggleable__control sk-hidden--visually\" id=\"sk-estimator-id-144\" type=\"checkbox\" ><label for=\"sk-estimator-id-144\" class=\"sk-toggleable__label sk-toggleable__label-arrow\">StandardScaler</label><div class=\"sk-toggleable__content\"><pre>StandardScaler()</pre></div></div></div></div></div></div></div></div><div class=\"sk-parallel-item\"><div class=\"sk-item\"><div class=\"sk-label-container\"><div class=\"sk-label sk-toggleable\"><input class=\"sk-toggleable__control sk-hidden--visually\" id=\"sk-estimator-id-145\" type=\"checkbox\" ><label for=\"sk-estimator-id-145\" class=\"sk-toggleable__label sk-toggleable__label-arrow\">pipeline-2</label><div class=\"sk-toggleable__content\"><pre>&lt;sklearn.compose._column_transformer.make_column_selector object at 0x7f7ec0bec580&gt;</pre></div></div></div><div class=\"sk-serial\"><div class=\"sk-item\"><div class=\"sk-serial\"><div class=\"sk-item\"><div class=\"sk-estimator sk-toggleable\"><input class=\"sk-toggleable__control sk-hidden--visually\" id=\"sk-estimator-id-146\" type=\"checkbox\" ><label for=\"sk-estimator-id-146\" class=\"sk-toggleable__label sk-toggleable__label-arrow\">SimpleImputer</label><div class=\"sk-toggleable__content\"><pre>SimpleImputer(strategy=&#x27;most_frequent&#x27;)</pre></div></div></div><div class=\"sk-item\"><div class=\"sk-estimator sk-toggleable\"><input class=\"sk-toggleable__control sk-hidden--visually\" id=\"sk-estimator-id-147\" type=\"checkbox\" ><label for=\"sk-estimator-id-147\" class=\"sk-toggleable__label sk-toggleable__label-arrow\">OneHotEncoder</label><div class=\"sk-toggleable__content\"><pre>OneHotEncoder(handle_unknown=&#x27;ignore&#x27;, sparse=False)</pre></div></div></div></div></div></div></div></div></div></div><div class=\"sk-item\"><div class=\"sk-estimator sk-toggleable\"><input class=\"sk-toggleable__control sk-hidden--visually\" id=\"sk-estimator-id-148\" type=\"checkbox\" ><label for=\"sk-estimator-id-148\" class=\"sk-toggleable__label sk-toggleable__label-arrow\">RandomForestRegressor</label><div class=\"sk-toggleable__content\"><pre>RandomForestRegressor()</pre></div></div></div></div></div></div></div>"
            ]
          },
          "metadata": {},
          "execution_count": 240
        }
      ]
    },
    {
      "cell_type": "code",
      "source": [
        "# model predictions for train snd test\n",
        "rf_train_preds = rf_pipe.predict(X_train)\n",
        "rf_test_preds = rf_pipe.predict(X_test)"
      ],
      "metadata": {
        "id": "NZ5dwppqTiCW"
      },
      "execution_count": 249,
      "outputs": []
    },
    {
      "cell_type": "code",
      "source": [
        "# create model based on r^2\n",
        "train_rf = r2_score(y_train, rf_train_preds)\n",
        "test_rf = r2_score(y_test, rf_test_preds)\n",
        "# print results\n",
        "print(f'Model Training R2: {train_rf}')\n",
        "print(f'Model Testing R2: {test_rf}')"
      ],
      "metadata": {
        "colab": {
          "base_uri": "https://localhost:8080/"
        },
        "id": "MEydwYLVOq9N",
        "outputId": "a162a412-2dfc-4db2-e5af-b5b22ac8d6d0"
      },
      "execution_count": 250,
      "outputs": [
        {
          "output_type": "stream",
          "name": "stdout",
          "text": [
            "Model Training R2: 0.9383350009342709\n",
            "Model Testing R2: 0.5555299041927634\n"
          ]
        }
      ]
    },
    {
      "cell_type": "markdown",
      "source": [
        "The model can account for about 93% of the variation in the test data."
      ],
      "metadata": {
        "id": "_2p4WIOBQXUk"
      }
    },
    {
      "cell_type": "code",
      "source": [
        "# create model based on RMSE\n",
        "rf_train_rmse = np.sqrt(np.mean(np.abs(rf_train_preds - y_train)**2))\n",
        "rf_test_rmse = np.sqrt(np.mean(np.abs(rf_test_preds - y_test)**2))\n",
        "# print result\n",
        "print(f'Model Training RMSE: {rf_train_rmse}')\n",
        "print(f'Model Testing RMSE: {rf_test_rmse}')"
      ],
      "metadata": {
        "colab": {
          "base_uri": "https://localhost:8080/"
        },
        "id": "i_QEI9yHQXBH",
        "outputId": "b94dbf59-2217-4e5d-dd12-63866ebfed7d"
      },
      "execution_count": 255,
      "outputs": [
        {
          "output_type": "stream",
          "name": "stdout",
          "text": [
            "Model Training RMSE: 427.1941400050999\n",
            "Model Testing RMSE: 1107.3765842934433\n"
          ]
        }
      ]
    },
    {
      "cell_type": "markdown",
      "source": [
        "Model is off by an average of $427"
      ],
      "metadata": {
        "id": "DMBtjo5aWdi2"
      }
    },
    {
      "cell_type": "markdown",
      "source": [
        "**Recommendation**\n",
        "\n",
        "For the two models linear regression and random forest models, linear random forests model gets closer to predict correctly.\n",
        "\n",
        "The linear regression model can account an average of 57% of the variation in the test data using the features available. $ 1139 is the average target item outlet.\n",
        "\n",
        "\n",
        "In Random forests model 93% of the variation can be accounted for using the features available. $427 is the average target item outlet.\n",
        "\n",
        "\n"
      ],
      "metadata": {
        "id": "DhZ9Ly7dXQAz"
      }
    }
  ]
}